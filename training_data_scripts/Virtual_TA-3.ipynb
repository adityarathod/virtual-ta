{
  "cells": [
    {
      "cell_type": "code",
      "execution_count": 1,
      "metadata": {
        "id": "HuPZ-20sUwTX",
        "colab": {
          "base_uri": "https://localhost:8080/"
        },
        "outputId": "1cb65fb0-a378-4c17-90f9-9c01a2b1adca"
      },
      "outputs": [
        {
          "output_type": "stream",
          "name": "stdout",
          "text": [
            "Looking in indexes: https://pypi.org/simple, https://us-python.pkg.dev/colab-wheels/public/simple/\n",
            "Collecting git+https://github.com/boudinfl/pke.git@69337af9f9e72a25af6d7991eaa9869f1322dd72\n",
            "  Cloning https://github.com/boudinfl/pke.git (to revision 69337af9f9e72a25af6d7991eaa9869f1322dd72) to /tmp/pip-req-build-7bptjydq\n",
            "  Running command git clone -q https://github.com/boudinfl/pke.git /tmp/pip-req-build-7bptjydq\n",
            "  Running command git rev-parse -q --verify 'sha^69337af9f9e72a25af6d7991eaa9869f1322dd72'\n",
            "  Running command git fetch -q https://github.com/boudinfl/pke.git 69337af9f9e72a25af6d7991eaa9869f1322dd72\n",
            "  Running command git checkout -q 69337af9f9e72a25af6d7991eaa9869f1322dd72\n",
            "Requirement already satisfied: nltk in /usr/local/lib/python3.7/dist-packages (from pke==2.0.0) (3.7)\n",
            "Requirement already satisfied: networkx in /usr/local/lib/python3.7/dist-packages (from pke==2.0.0) (2.6.3)\n",
            "Requirement already satisfied: numpy in /usr/local/lib/python3.7/dist-packages (from pke==2.0.0) (1.21.5)\n",
            "Requirement already satisfied: scipy in /usr/local/lib/python3.7/dist-packages (from pke==2.0.0) (1.4.1)\n",
            "Requirement already satisfied: sklearn in /usr/local/lib/python3.7/dist-packages (from pke==2.0.0) (0.0)\n",
            "Requirement already satisfied: unidecode in /usr/local/lib/python3.7/dist-packages (from pke==2.0.0) (1.3.4)\n",
            "Requirement already satisfied: future in /usr/local/lib/python3.7/dist-packages (from pke==2.0.0) (0.16.0)\n",
            "Requirement already satisfied: joblib in /usr/local/lib/python3.7/dist-packages (from pke==2.0.0) (1.1.0)\n",
            "Requirement already satisfied: spacy>=3.2.3 in /usr/local/lib/python3.7/dist-packages (from pke==2.0.0) (3.4.2)\n",
            "Requirement already satisfied: packaging>=20.0 in /usr/local/lib/python3.7/dist-packages (from spacy>=3.2.3->pke==2.0.0) (21.3)\n",
            "Requirement already satisfied: typing-extensions<4.2.0,>=3.7.4 in /usr/local/lib/python3.7/dist-packages (from spacy>=3.2.3->pke==2.0.0) (4.1.1)\n",
            "Requirement already satisfied: typer<0.5.0,>=0.3.0 in /usr/local/lib/python3.7/dist-packages (from spacy>=3.2.3->pke==2.0.0) (0.4.2)\n",
            "Requirement already satisfied: catalogue<2.1.0,>=2.0.6 in /usr/local/lib/python3.7/dist-packages (from spacy>=3.2.3->pke==2.0.0) (2.0.8)\n",
            "Requirement already satisfied: tqdm<5.0.0,>=4.38.0 in /usr/local/lib/python3.7/dist-packages (from spacy>=3.2.3->pke==2.0.0) (4.64.1)\n",
            "Requirement already satisfied: jinja2 in /usr/local/lib/python3.7/dist-packages (from spacy>=3.2.3->pke==2.0.0) (2.11.3)\n",
            "Requirement already satisfied: srsly<3.0.0,>=2.4.3 in /usr/local/lib/python3.7/dist-packages (from spacy>=3.2.3->pke==2.0.0) (2.4.5)\n",
            "Requirement already satisfied: thinc<8.2.0,>=8.1.0 in /usr/local/lib/python3.7/dist-packages (from spacy>=3.2.3->pke==2.0.0) (8.1.5)\n",
            "Requirement already satisfied: spacy-legacy<3.1.0,>=3.0.10 in /usr/local/lib/python3.7/dist-packages (from spacy>=3.2.3->pke==2.0.0) (3.0.10)\n",
            "Requirement already satisfied: preshed<3.1.0,>=3.0.2 in /usr/local/lib/python3.7/dist-packages (from spacy>=3.2.3->pke==2.0.0) (3.0.8)\n",
            "Requirement already satisfied: murmurhash<1.1.0,>=0.28.0 in /usr/local/lib/python3.7/dist-packages (from spacy>=3.2.3->pke==2.0.0) (1.0.9)\n",
            "Requirement already satisfied: pydantic!=1.8,!=1.8.1,<1.11.0,>=1.7.4 in /usr/local/lib/python3.7/dist-packages (from spacy>=3.2.3->pke==2.0.0) (1.10.2)\n",
            "Requirement already satisfied: spacy-loggers<2.0.0,>=1.0.0 in /usr/local/lib/python3.7/dist-packages (from spacy>=3.2.3->pke==2.0.0) (1.0.3)\n",
            "Requirement already satisfied: pathy>=0.3.5 in /usr/local/lib/python3.7/dist-packages (from spacy>=3.2.3->pke==2.0.0) (0.6.2)\n",
            "Requirement already satisfied: wasabi<1.1.0,>=0.9.1 in /usr/local/lib/python3.7/dist-packages (from spacy>=3.2.3->pke==2.0.0) (0.10.1)\n",
            "Requirement already satisfied: setuptools in /usr/local/lib/python3.7/dist-packages (from spacy>=3.2.3->pke==2.0.0) (57.4.0)\n",
            "Requirement already satisfied: cymem<2.1.0,>=2.0.2 in /usr/local/lib/python3.7/dist-packages (from spacy>=3.2.3->pke==2.0.0) (2.0.7)\n",
            "Requirement already satisfied: langcodes<4.0.0,>=3.2.0 in /usr/local/lib/python3.7/dist-packages (from spacy>=3.2.3->pke==2.0.0) (3.3.0)\n",
            "Requirement already satisfied: requests<3.0.0,>=2.13.0 in /usr/local/lib/python3.7/dist-packages (from spacy>=3.2.3->pke==2.0.0) (2.23.0)\n",
            "Requirement already satisfied: zipp>=0.5 in /usr/local/lib/python3.7/dist-packages (from catalogue<2.1.0,>=2.0.6->spacy>=3.2.3->pke==2.0.0) (3.9.0)\n",
            "Requirement already satisfied: pyparsing!=3.0.5,>=2.0.2 in /usr/local/lib/python3.7/dist-packages (from packaging>=20.0->spacy>=3.2.3->pke==2.0.0) (3.0.9)\n",
            "Requirement already satisfied: smart-open<6.0.0,>=5.2.1 in /usr/local/lib/python3.7/dist-packages (from pathy>=0.3.5->spacy>=3.2.3->pke==2.0.0) (5.2.1)\n",
            "Requirement already satisfied: idna<3,>=2.5 in /usr/local/lib/python3.7/dist-packages (from requests<3.0.0,>=2.13.0->spacy>=3.2.3->pke==2.0.0) (2.10)\n",
            "Requirement already satisfied: urllib3!=1.25.0,!=1.25.1,<1.26,>=1.21.1 in /usr/local/lib/python3.7/dist-packages (from requests<3.0.0,>=2.13.0->spacy>=3.2.3->pke==2.0.0) (1.24.3)\n",
            "Requirement already satisfied: certifi>=2017.4.17 in /usr/local/lib/python3.7/dist-packages (from requests<3.0.0,>=2.13.0->spacy>=3.2.3->pke==2.0.0) (2022.9.24)\n",
            "Requirement already satisfied: chardet<4,>=3.0.2 in /usr/local/lib/python3.7/dist-packages (from requests<3.0.0,>=2.13.0->spacy>=3.2.3->pke==2.0.0) (3.0.4)\n",
            "Requirement already satisfied: confection<1.0.0,>=0.0.1 in /usr/local/lib/python3.7/dist-packages (from thinc<8.2.0,>=8.1.0->spacy>=3.2.3->pke==2.0.0) (0.0.3)\n",
            "Requirement already satisfied: blis<0.8.0,>=0.7.8 in /usr/local/lib/python3.7/dist-packages (from thinc<8.2.0,>=8.1.0->spacy>=3.2.3->pke==2.0.0) (0.7.9)\n",
            "Requirement already satisfied: click<9.0.0,>=7.1.1 in /usr/local/lib/python3.7/dist-packages (from typer<0.5.0,>=0.3.0->spacy>=3.2.3->pke==2.0.0) (7.1.2)\n",
            "Requirement already satisfied: MarkupSafe>=0.23 in /usr/local/lib/python3.7/dist-packages (from jinja2->spacy>=3.2.3->pke==2.0.0) (2.0.1)\n",
            "Requirement already satisfied: regex>=2021.8.3 in /usr/local/lib/python3.7/dist-packages (from nltk->pke==2.0.0) (2022.6.2)\n",
            "Requirement already satisfied: scikit-learn in /usr/local/lib/python3.7/dist-packages (from sklearn->pke==2.0.0) (1.0.2)\n",
            "Requirement already satisfied: threadpoolctl>=2.0.0 in /usr/local/lib/python3.7/dist-packages (from scikit-learn->sklearn->pke==2.0.0) (3.1.0)\n",
            "Looking in indexes: https://pypi.org/simple, https://us-python.pkg.dev/colab-wheels/public/simple/\n",
            "Collecting git+https://github.com/ramsrigouthamg/Questgen.ai\n",
            "  Cloning https://github.com/ramsrigouthamg/Questgen.ai to /tmp/pip-req-build-9as7e4ea\n",
            "  Running command git clone -q https://github.com/ramsrigouthamg/Questgen.ai /tmp/pip-req-build-9as7e4ea\n",
            "Requirement already satisfied: torch==1.10.0 in /usr/local/lib/python3.7/dist-packages (from Questgen==1.0.0) (1.10.0)\n",
            "Requirement already satisfied: transformers==3.0.2 in /usr/local/lib/python3.7/dist-packages (from Questgen==1.0.0) (3.0.2)\n",
            "Requirement already satisfied: sense2vec==2.0.0 in /usr/local/lib/python3.7/dist-packages (from Questgen==1.0.0) (2.0.0)\n",
            "Requirement already satisfied: strsim==0.0.3 in /usr/local/lib/python3.7/dist-packages (from Questgen==1.0.0) (0.0.3)\n",
            "Requirement already satisfied: six==1.15.0 in /usr/local/lib/python3.7/dist-packages (from Questgen==1.0.0) (1.15.0)\n",
            "Requirement already satisfied: networkx==2.6.3 in /usr/local/lib/python3.7/dist-packages (from Questgen==1.0.0) (2.6.3)\n",
            "Requirement already satisfied: numpy==1.21.5 in /usr/local/lib/python3.7/dist-packages (from Questgen==1.0.0) (1.21.5)\n",
            "Requirement already satisfied: scipy==1.4.1 in /usr/local/lib/python3.7/dist-packages (from Questgen==1.0.0) (1.4.1)\n",
            "Requirement already satisfied: scikit-learn==1.0.2 in /usr/local/lib/python3.7/dist-packages (from Questgen==1.0.0) (1.0.2)\n",
            "Requirement already satisfied: unidecode==1.3.4 in /usr/local/lib/python3.7/dist-packages (from Questgen==1.0.0) (1.3.4)\n",
            "Requirement already satisfied: future==0.16.0 in /usr/local/lib/python3.7/dist-packages (from Questgen==1.0.0) (0.16.0)\n",
            "Requirement already satisfied: joblib==1.1.0 in /usr/local/lib/python3.7/dist-packages (from Questgen==1.0.0) (1.1.0)\n",
            "Requirement already satisfied: pytz==2018.9 in /usr/local/lib/python3.7/dist-packages (from Questgen==1.0.0) (2018.9)\n",
            "Requirement already satisfied: python-dateutil==2.8.2 in /usr/local/lib/python3.7/dist-packages (from Questgen==1.0.0) (2.8.2)\n",
            "Requirement already satisfied: flashtext==2.7 in /usr/local/lib/python3.7/dist-packages (from Questgen==1.0.0) (2.7)\n",
            "Requirement already satisfied: pandas==1.3.5 in /usr/local/lib/python3.7/dist-packages (from Questgen==1.0.0) (1.3.5)\n",
            "Requirement already satisfied: threadpoolctl>=2.0.0 in /usr/local/lib/python3.7/dist-packages (from scikit-learn==1.0.2->Questgen==1.0.0) (3.1.0)\n",
            "Requirement already satisfied: spacy<4.0.0,>=3.0.0 in /usr/local/lib/python3.7/dist-packages (from sense2vec==2.0.0->Questgen==1.0.0) (3.4.2)\n",
            "Requirement already satisfied: catalogue<2.1.0,>=2.0.1 in /usr/local/lib/python3.7/dist-packages (from sense2vec==2.0.0->Questgen==1.0.0) (2.0.8)\n",
            "Requirement already satisfied: wasabi<1.1.0,>=0.8.1 in /usr/local/lib/python3.7/dist-packages (from sense2vec==2.0.0->Questgen==1.0.0) (0.10.1)\n",
            "Requirement already satisfied: importlib-metadata>=0.20 in /usr/local/lib/python3.7/dist-packages (from sense2vec==2.0.0->Questgen==1.0.0) (4.13.0)\n",
            "Requirement already satisfied: srsly<3.0.0,>=2.4.0 in /usr/local/lib/python3.7/dist-packages (from sense2vec==2.0.0->Questgen==1.0.0) (2.4.5)\n",
            "Requirement already satisfied: typing-extensions in /usr/local/lib/python3.7/dist-packages (from torch==1.10.0->Questgen==1.0.0) (4.1.1)\n",
            "Requirement already satisfied: requests in /usr/local/lib/python3.7/dist-packages (from transformers==3.0.2->Questgen==1.0.0) (2.23.0)\n",
            "Requirement already satisfied: filelock in /usr/local/lib/python3.7/dist-packages (from transformers==3.0.2->Questgen==1.0.0) (3.8.0)\n",
            "Requirement already satisfied: tqdm>=4.27 in /usr/local/lib/python3.7/dist-packages (from transformers==3.0.2->Questgen==1.0.0) (4.64.1)\n",
            "Requirement already satisfied: regex!=2019.12.17 in /usr/local/lib/python3.7/dist-packages (from transformers==3.0.2->Questgen==1.0.0) (2022.6.2)\n",
            "Requirement already satisfied: tokenizers==0.8.1.rc1 in /usr/local/lib/python3.7/dist-packages (from transformers==3.0.2->Questgen==1.0.0) (0.8.1rc1)\n",
            "Requirement already satisfied: sentencepiece!=0.1.92 in /usr/local/lib/python3.7/dist-packages (from transformers==3.0.2->Questgen==1.0.0) (0.1.97)\n",
            "Requirement already satisfied: sacremoses in /usr/local/lib/python3.7/dist-packages (from transformers==3.0.2->Questgen==1.0.0) (0.0.53)\n",
            "Requirement already satisfied: packaging in /usr/local/lib/python3.7/dist-packages (from transformers==3.0.2->Questgen==1.0.0) (21.3)\n",
            "Requirement already satisfied: zipp>=0.5 in /usr/local/lib/python3.7/dist-packages (from catalogue<2.1.0,>=2.0.1->sense2vec==2.0.0->Questgen==1.0.0) (3.9.0)\n",
            "Requirement already satisfied: pydantic!=1.8,!=1.8.1,<1.11.0,>=1.7.4 in /usr/local/lib/python3.7/dist-packages (from spacy<4.0.0,>=3.0.0->sense2vec==2.0.0->Questgen==1.0.0) (1.10.2)\n",
            "Requirement already satisfied: spacy-loggers<2.0.0,>=1.0.0 in /usr/local/lib/python3.7/dist-packages (from spacy<4.0.0,>=3.0.0->sense2vec==2.0.0->Questgen==1.0.0) (1.0.3)\n",
            "Requirement already satisfied: thinc<8.2.0,>=8.1.0 in /usr/local/lib/python3.7/dist-packages (from spacy<4.0.0,>=3.0.0->sense2vec==2.0.0->Questgen==1.0.0) (8.1.5)\n",
            "Requirement already satisfied: setuptools in /usr/local/lib/python3.7/dist-packages (from spacy<4.0.0,>=3.0.0->sense2vec==2.0.0->Questgen==1.0.0) (57.4.0)\n",
            "Requirement already satisfied: cymem<2.1.0,>=2.0.2 in /usr/local/lib/python3.7/dist-packages (from spacy<4.0.0,>=3.0.0->sense2vec==2.0.0->Questgen==1.0.0) (2.0.7)\n",
            "Requirement already satisfied: pathy>=0.3.5 in /usr/local/lib/python3.7/dist-packages (from spacy<4.0.0,>=3.0.0->sense2vec==2.0.0->Questgen==1.0.0) (0.6.2)\n",
            "Requirement already satisfied: murmurhash<1.1.0,>=0.28.0 in /usr/local/lib/python3.7/dist-packages (from spacy<4.0.0,>=3.0.0->sense2vec==2.0.0->Questgen==1.0.0) (1.0.9)\n",
            "Requirement already satisfied: preshed<3.1.0,>=3.0.2 in /usr/local/lib/python3.7/dist-packages (from spacy<4.0.0,>=3.0.0->sense2vec==2.0.0->Questgen==1.0.0) (3.0.8)\n",
            "Requirement already satisfied: typer<0.5.0,>=0.3.0 in /usr/local/lib/python3.7/dist-packages (from spacy<4.0.0,>=3.0.0->sense2vec==2.0.0->Questgen==1.0.0) (0.4.2)\n",
            "Requirement already satisfied: spacy-legacy<3.1.0,>=3.0.10 in /usr/local/lib/python3.7/dist-packages (from spacy<4.0.0,>=3.0.0->sense2vec==2.0.0->Questgen==1.0.0) (3.0.10)\n",
            "Requirement already satisfied: jinja2 in /usr/local/lib/python3.7/dist-packages (from spacy<4.0.0,>=3.0.0->sense2vec==2.0.0->Questgen==1.0.0) (2.11.3)\n",
            "Requirement already satisfied: langcodes<4.0.0,>=3.2.0 in /usr/local/lib/python3.7/dist-packages (from spacy<4.0.0,>=3.0.0->sense2vec==2.0.0->Questgen==1.0.0) (3.3.0)\n",
            "Requirement already satisfied: pyparsing!=3.0.5,>=2.0.2 in /usr/local/lib/python3.7/dist-packages (from packaging->transformers==3.0.2->Questgen==1.0.0) (3.0.9)\n",
            "Requirement already satisfied: smart-open<6.0.0,>=5.2.1 in /usr/local/lib/python3.7/dist-packages (from pathy>=0.3.5->spacy<4.0.0,>=3.0.0->sense2vec==2.0.0->Questgen==1.0.0) (5.2.1)\n",
            "Requirement already satisfied: urllib3!=1.25.0,!=1.25.1,<1.26,>=1.21.1 in /usr/local/lib/python3.7/dist-packages (from requests->transformers==3.0.2->Questgen==1.0.0) (1.24.3)\n",
            "Requirement already satisfied: chardet<4,>=3.0.2 in /usr/local/lib/python3.7/dist-packages (from requests->transformers==3.0.2->Questgen==1.0.0) (3.0.4)\n",
            "Requirement already satisfied: idna<3,>=2.5 in /usr/local/lib/python3.7/dist-packages (from requests->transformers==3.0.2->Questgen==1.0.0) (2.10)\n",
            "Requirement already satisfied: certifi>=2017.4.17 in /usr/local/lib/python3.7/dist-packages (from requests->transformers==3.0.2->Questgen==1.0.0) (2022.9.24)\n",
            "Requirement already satisfied: confection<1.0.0,>=0.0.1 in /usr/local/lib/python3.7/dist-packages (from thinc<8.2.0,>=8.1.0->spacy<4.0.0,>=3.0.0->sense2vec==2.0.0->Questgen==1.0.0) (0.0.3)\n",
            "Requirement already satisfied: blis<0.8.0,>=0.7.8 in /usr/local/lib/python3.7/dist-packages (from thinc<8.2.0,>=8.1.0->spacy<4.0.0,>=3.0.0->sense2vec==2.0.0->Questgen==1.0.0) (0.7.9)\n",
            "Requirement already satisfied: click<9.0.0,>=7.1.1 in /usr/local/lib/python3.7/dist-packages (from typer<0.5.0,>=0.3.0->spacy<4.0.0,>=3.0.0->sense2vec==2.0.0->Questgen==1.0.0) (7.1.2)\n",
            "Requirement already satisfied: MarkupSafe>=0.23 in /usr/local/lib/python3.7/dist-packages (from jinja2->spacy<4.0.0,>=3.0.0->sense2vec==2.0.0->Questgen==1.0.0) (2.0.1)\n",
            "/usr/lib/python3.7/runpy.py:125: RuntimeWarning: 'nltk.downloader' found in sys.modules after import of package 'nltk', but prior to execution of 'nltk.downloader'; this may result in unpredictable behaviour\n",
            "  warn(RuntimeWarning(msg))\n",
            "[nltk_data] Downloading package universal_tagset to /root/nltk_data...\n",
            "[nltk_data]   Package universal_tagset is already up-to-date!\n",
            "\u001b[38;5;3m⚠ As of spaCy v3.0, shortcuts like 'en' are deprecated. Please use the\n",
            "full pipeline package name 'en_core_web_sm' instead.\u001b[0m\n",
            "Looking in indexes: https://pypi.org/simple, https://us-python.pkg.dev/colab-wheels/public/simple/\n",
            "Collecting en-core-web-sm==3.4.1\n",
            "  Downloading https://github.com/explosion/spacy-models/releases/download/en_core_web_sm-3.4.1/en_core_web_sm-3.4.1-py3-none-any.whl (12.8 MB)\n",
            "\u001b[K     |████████████████████████████████| 12.8 MB 27.4 MB/s \n",
            "\u001b[?25hRequirement already satisfied: spacy<3.5.0,>=3.4.0 in /usr/local/lib/python3.7/dist-packages (from en-core-web-sm==3.4.1) (3.4.2)\n",
            "Requirement already satisfied: wasabi<1.1.0,>=0.9.1 in /usr/local/lib/python3.7/dist-packages (from spacy<3.5.0,>=3.4.0->en-core-web-sm==3.4.1) (0.10.1)\n",
            "Requirement already satisfied: preshed<3.1.0,>=3.0.2 in /usr/local/lib/python3.7/dist-packages (from spacy<3.5.0,>=3.4.0->en-core-web-sm==3.4.1) (3.0.8)\n",
            "Requirement already satisfied: cymem<2.1.0,>=2.0.2 in /usr/local/lib/python3.7/dist-packages (from spacy<3.5.0,>=3.4.0->en-core-web-sm==3.4.1) (2.0.7)\n",
            "Requirement already satisfied: numpy>=1.15.0 in /usr/local/lib/python3.7/dist-packages (from spacy<3.5.0,>=3.4.0->en-core-web-sm==3.4.1) (1.21.5)\n",
            "Requirement already satisfied: setuptools in /usr/local/lib/python3.7/dist-packages (from spacy<3.5.0,>=3.4.0->en-core-web-sm==3.4.1) (57.4.0)\n",
            "Requirement already satisfied: murmurhash<1.1.0,>=0.28.0 in /usr/local/lib/python3.7/dist-packages (from spacy<3.5.0,>=3.4.0->en-core-web-sm==3.4.1) (1.0.9)\n",
            "Requirement already satisfied: packaging>=20.0 in /usr/local/lib/python3.7/dist-packages (from spacy<3.5.0,>=3.4.0->en-core-web-sm==3.4.1) (21.3)\n",
            "Requirement already satisfied: pathy>=0.3.5 in /usr/local/lib/python3.7/dist-packages (from spacy<3.5.0,>=3.4.0->en-core-web-sm==3.4.1) (0.6.2)\n",
            "Requirement already satisfied: spacy-legacy<3.1.0,>=3.0.10 in /usr/local/lib/python3.7/dist-packages (from spacy<3.5.0,>=3.4.0->en-core-web-sm==3.4.1) (3.0.10)\n",
            "Requirement already satisfied: requests<3.0.0,>=2.13.0 in /usr/local/lib/python3.7/dist-packages (from spacy<3.5.0,>=3.4.0->en-core-web-sm==3.4.1) (2.23.0)\n",
            "Requirement already satisfied: pydantic!=1.8,!=1.8.1,<1.11.0,>=1.7.4 in /usr/local/lib/python3.7/dist-packages (from spacy<3.5.0,>=3.4.0->en-core-web-sm==3.4.1) (1.10.2)\n",
            "Requirement already satisfied: spacy-loggers<2.0.0,>=1.0.0 in /usr/local/lib/python3.7/dist-packages (from spacy<3.5.0,>=3.4.0->en-core-web-sm==3.4.1) (1.0.3)\n",
            "Requirement already satisfied: srsly<3.0.0,>=2.4.3 in /usr/local/lib/python3.7/dist-packages (from spacy<3.5.0,>=3.4.0->en-core-web-sm==3.4.1) (2.4.5)\n",
            "Requirement already satisfied: thinc<8.2.0,>=8.1.0 in /usr/local/lib/python3.7/dist-packages (from spacy<3.5.0,>=3.4.0->en-core-web-sm==3.4.1) (8.1.5)\n",
            "Requirement already satisfied: langcodes<4.0.0,>=3.2.0 in /usr/local/lib/python3.7/dist-packages (from spacy<3.5.0,>=3.4.0->en-core-web-sm==3.4.1) (3.3.0)\n",
            "Requirement already satisfied: catalogue<2.1.0,>=2.0.6 in /usr/local/lib/python3.7/dist-packages (from spacy<3.5.0,>=3.4.0->en-core-web-sm==3.4.1) (2.0.8)\n",
            "Requirement already satisfied: tqdm<5.0.0,>=4.38.0 in /usr/local/lib/python3.7/dist-packages (from spacy<3.5.0,>=3.4.0->en-core-web-sm==3.4.1) (4.64.1)\n",
            "Requirement already satisfied: typing-extensions<4.2.0,>=3.7.4 in /usr/local/lib/python3.7/dist-packages (from spacy<3.5.0,>=3.4.0->en-core-web-sm==3.4.1) (4.1.1)\n",
            "Requirement already satisfied: typer<0.5.0,>=0.3.0 in /usr/local/lib/python3.7/dist-packages (from spacy<3.5.0,>=3.4.0->en-core-web-sm==3.4.1) (0.4.2)\n",
            "Requirement already satisfied: jinja2 in /usr/local/lib/python3.7/dist-packages (from spacy<3.5.0,>=3.4.0->en-core-web-sm==3.4.1) (2.11.3)\n",
            "Requirement already satisfied: zipp>=0.5 in /usr/local/lib/python3.7/dist-packages (from catalogue<2.1.0,>=2.0.6->spacy<3.5.0,>=3.4.0->en-core-web-sm==3.4.1) (3.9.0)\n",
            "Requirement already satisfied: pyparsing!=3.0.5,>=2.0.2 in /usr/local/lib/python3.7/dist-packages (from packaging>=20.0->spacy<3.5.0,>=3.4.0->en-core-web-sm==3.4.1) (3.0.9)\n",
            "Requirement already satisfied: smart-open<6.0.0,>=5.2.1 in /usr/local/lib/python3.7/dist-packages (from pathy>=0.3.5->spacy<3.5.0,>=3.4.0->en-core-web-sm==3.4.1) (5.2.1)\n",
            "Requirement already satisfied: chardet<4,>=3.0.2 in /usr/local/lib/python3.7/dist-packages (from requests<3.0.0,>=2.13.0->spacy<3.5.0,>=3.4.0->en-core-web-sm==3.4.1) (3.0.4)\n",
            "Requirement already satisfied: urllib3!=1.25.0,!=1.25.1,<1.26,>=1.21.1 in /usr/local/lib/python3.7/dist-packages (from requests<3.0.0,>=2.13.0->spacy<3.5.0,>=3.4.0->en-core-web-sm==3.4.1) (1.24.3)\n",
            "Requirement already satisfied: certifi>=2017.4.17 in /usr/local/lib/python3.7/dist-packages (from requests<3.0.0,>=2.13.0->spacy<3.5.0,>=3.4.0->en-core-web-sm==3.4.1) (2022.9.24)\n",
            "Requirement already satisfied: idna<3,>=2.5 in /usr/local/lib/python3.7/dist-packages (from requests<3.0.0,>=2.13.0->spacy<3.5.0,>=3.4.0->en-core-web-sm==3.4.1) (2.10)\n",
            "Requirement already satisfied: confection<1.0.0,>=0.0.1 in /usr/local/lib/python3.7/dist-packages (from thinc<8.2.0,>=8.1.0->spacy<3.5.0,>=3.4.0->en-core-web-sm==3.4.1) (0.0.3)\n",
            "Requirement already satisfied: blis<0.8.0,>=0.7.8 in /usr/local/lib/python3.7/dist-packages (from thinc<8.2.0,>=8.1.0->spacy<3.5.0,>=3.4.0->en-core-web-sm==3.4.1) (0.7.9)\n",
            "Requirement already satisfied: click<9.0.0,>=7.1.1 in /usr/local/lib/python3.7/dist-packages (from typer<0.5.0,>=0.3.0->spacy<3.5.0,>=3.4.0->en-core-web-sm==3.4.1) (7.1.2)\n",
            "Requirement already satisfied: MarkupSafe>=0.23 in /usr/local/lib/python3.7/dist-packages (from jinja2->spacy<3.5.0,>=3.4.0->en-core-web-sm==3.4.1) (2.0.1)\n",
            "\u001b[38;5;2m✔ Download and installation successful\u001b[0m\n",
            "You can now load the package via spacy.load('en_core_web_sm')\n",
            "Looking in indexes: https://pypi.org/simple, https://us-python.pkg.dev/colab-wheels/public/simple/\n",
            "Requirement already satisfied: pypdf2 in /usr/local/lib/python3.7/dist-packages (2.11.1)\n",
            "Requirement already satisfied: typing-extensions>=3.10.0.0 in /usr/local/lib/python3.7/dist-packages (from pypdf2) (4.1.1)\n"
          ]
        }
      ],
      "source": [
        "%pip install git+https://github.com/boudinfl/pke.git@69337af9f9e72a25af6d7991eaa9869f1322dd72\n",
        "%pip install git+https://github.com/ramsrigouthamg/Questgen.ai\n",
        "!python -m nltk.downloader universal_tagset\n",
        "!python -m spacy download en \n",
        "%pip install pypdf2"
      ]
    },
    {
      "cell_type": "code",
      "execution_count": null,
      "metadata": {
        "colab": {
          "base_uri": "https://localhost:8080/",
          "height": 130
        },
        "id": "7Py90pSxU7Kl",
        "outputId": "bc04750a-99dc-4ebf-de2d-836f33419dcb"
      },
      "outputs": [
        {
          "ename": "SyntaxError",
          "evalue": "ignored",
          "output_type": "error",
          "traceback": [
            "\u001b[0;36m  File \u001b[0;32m\"<ipython-input-2-3bf533786ec6>\"\u001b[0;36m, line \u001b[0;32m2\u001b[0m\n\u001b[0;31m    tar -xvf  s2v_reddit_2015_md.tar.gz\u001b[0m\n\u001b[0m                               ^\u001b[0m\n\u001b[0;31mSyntaxError\u001b[0m\u001b[0;31m:\u001b[0m invalid syntax\n"
          ]
        }
      ],
      "source": [
        "# I downloaded, unzipped, and uploaded manually \n",
        "!wget 'https://github.com/explosion/sense2vec/releases/download/v1.0.0/s2v_reddit_2015_md.tar.gz'\n",
        "tar -xvf  s2v_reddit_2015_md.tar.gz"
      ]
    },
    {
      "cell_type": "code",
      "execution_count": null,
      "metadata": {
        "colab": {
          "base_uri": "https://localhost:8080/"
        },
        "id": "HizGVqdMXINI",
        "outputId": "1a193f3f-6558-4de7-e7a9-41c8ea5946a0"
      },
      "outputs": [
        {
          "output_type": "stream",
          "name": "stdout",
          "text": [
            "output.json  output.txt  s2v_old  sample_data  textbook.pdf  textbook.txt\n"
          ]
        }
      ],
      "source": [
        "!ls"
      ]
    },
    {
      "cell_type": "code",
      "source": [
        "%pip install pypdf2"
      ],
      "metadata": {
        "colab": {
          "base_uri": "https://localhost:8080/"
        },
        "id": "7tCdi4aqSP6o",
        "outputId": "af7b509e-c272-4c47-976d-9b9b61ccad64"
      },
      "execution_count": null,
      "outputs": [
        {
          "output_type": "stream",
          "name": "stdout",
          "text": [
            "Looking in indexes: https://pypi.org/simple, https://us-python.pkg.dev/colab-wheels/public/simple/\n",
            "Collecting pypdf2\n",
            "  Downloading PyPDF2-2.11.1-py3-none-any.whl (220 kB)\n",
            "\u001b[K     |████████████████████████████████| 220 kB 4.6 MB/s \n",
            "\u001b[?25hRequirement already satisfied: typing-extensions>=3.10.0.0 in /usr/local/lib/python3.7/dist-packages (from pypdf2) (4.1.1)\n",
            "Installing collected packages: pypdf2\n",
            "Successfully installed pypdf2-2.11.1\n"
          ]
        }
      ]
    },
    {
      "cell_type": "code",
      "execution_count": null,
      "metadata": {
        "id": "Qef1apXIVOZk",
        "colab": {
          "base_uri": "https://localhost:8080/"
        },
        "outputId": "8c1b8086-3b82-409f-c784-b73f6980cead"
      },
      "outputs": [
        {
          "output_type": "stream",
          "name": "stdout",
          "text": [
            "265\n"
          ]
        }
      ],
      "source": [
        "# convert textbook pdf to text (to do: clean the text)\n",
        "import PyPDF2 \n",
        "    \n",
        "pdfFileObj = open('textbook.pdf', 'rb') \n",
        "textFileObj = open('textbook.txt', 'a')\n",
        "\n",
        "\n",
        "pdfReader = PyPDF2.PdfFileReader(pdfFileObj) \n",
        "    \n",
        "print(pdfReader.numPages) \n",
        "    \n",
        "for i in range(pdfReader.numPages): \n",
        "  pageObj = pdfReader.getPage(i).extractText()\n",
        "  textFileObj.write(pageObj)\n",
        "    \n",
        "pdfFileObj.close() \n",
        "textFileObj.close()\n",
        "\n",
        "  \n"
      ]
    },
    {
      "cell_type": "code",
      "source": [
        "%pip install tika"
      ],
      "metadata": {
        "colab": {
          "base_uri": "https://localhost:8080/"
        },
        "id": "3rUYwZ-2TudV",
        "outputId": "f4e4faa5-7f58-407e-a0fc-36830be37c51"
      },
      "execution_count": 2,
      "outputs": [
        {
          "output_type": "stream",
          "name": "stdout",
          "text": [
            "Looking in indexes: https://pypi.org/simple, https://us-python.pkg.dev/colab-wheels/public/simple/\n",
            "Collecting tika\n",
            "  Downloading tika-1.24.tar.gz (28 kB)\n",
            "Requirement already satisfied: setuptools in /usr/local/lib/python3.7/dist-packages (from tika) (57.4.0)\n",
            "Requirement already satisfied: requests in /usr/local/lib/python3.7/dist-packages (from tika) (2.23.0)\n",
            "Requirement already satisfied: chardet<4,>=3.0.2 in /usr/local/lib/python3.7/dist-packages (from requests->tika) (3.0.4)\n",
            "Requirement already satisfied: idna<3,>=2.5 in /usr/local/lib/python3.7/dist-packages (from requests->tika) (2.10)\n",
            "Requirement already satisfied: urllib3!=1.25.0,!=1.25.1,<1.26,>=1.21.1 in /usr/local/lib/python3.7/dist-packages (from requests->tika) (1.24.3)\n",
            "Requirement already satisfied: certifi>=2017.4.17 in /usr/local/lib/python3.7/dist-packages (from requests->tika) (2022.9.24)\n",
            "Building wheels for collected packages: tika\n",
            "  Building wheel for tika (setup.py) ... \u001b[?25l\u001b[?25hdone\n",
            "  Created wheel for tika: filename=tika-1.24-py3-none-any.whl size=32893 sha256=d58424f20d3d1f6706444be1f0d852781d3fa97fd19e83323715d51d506bf8b2\n",
            "  Stored in directory: /root/.cache/pip/wheels/ec/2b/38/58ff05467a742e32f67f5d0de048fa046e764e2fbb25ac93f3\n",
            "Successfully built tika\n",
            "Installing collected packages: tika\n",
            "Successfully installed tika-1.24\n"
          ]
        }
      ]
    },
    {
      "cell_type": "code",
      "source": [
        "# a better text parser\n",
        "from tika import parser \n",
        "raw = parser.from_file('textbook.pdf')\n",
        "x = open('textbook2.txt', 'w')\n",
        "x.write(raw['content'].strip().replace(\"  \", \" \").replace(\"�\", ''))"
      ],
      "metadata": {
        "colab": {
          "base_uri": "https://localhost:8080/"
        },
        "id": "O4OPkz0ETyY5",
        "outputId": "99cbd998-3c22-4042-c68f-fbaa1da3b118"
      },
      "execution_count": 3,
      "outputs": [
        {
          "output_type": "stream",
          "name": "stderr",
          "text": [
            "2022-10-28 00:00:52,723 [MainThread  ] [INFO ]  Retrieving http://search.maven.org/remotecontent?filepath=org/apache/tika/tika-server/1.24/tika-server-1.24.jar to /tmp/tika-server.jar.\n",
            "INFO:tika.tika:Retrieving http://search.maven.org/remotecontent?filepath=org/apache/tika/tika-server/1.24/tika-server-1.24.jar to /tmp/tika-server.jar.\n",
            "2022-10-28 00:00:59,314 [MainThread  ] [INFO ]  Retrieving http://search.maven.org/remotecontent?filepath=org/apache/tika/tika-server/1.24/tika-server-1.24.jar.md5 to /tmp/tika-server.jar.md5.\n",
            "INFO:tika.tika:Retrieving http://search.maven.org/remotecontent?filepath=org/apache/tika/tika-server/1.24/tika-server-1.24.jar.md5 to /tmp/tika-server.jar.md5.\n",
            "2022-10-28 00:01:00,853 [MainThread  ] [WARNI]  Failed to see startup log message; retrying...\n",
            "WARNING:tika.tika:Failed to see startup log message; retrying...\n",
            "2022-10-28 00:01:05,863 [MainThread  ] [WARNI]  Failed to see startup log message; retrying...\n",
            "WARNING:tika.tika:Failed to see startup log message; retrying...\n"
          ]
        },
        {
          "output_type": "execute_result",
          "data": {
            "text/plain": [
              "2560947"
            ]
          },
          "metadata": {},
          "execution_count": 3
        }
      ]
    },
    {
      "cell_type": "code",
      "execution_count": 4,
      "metadata": {
        "id": "gk8tTVpnVA6B",
        "colab": {
          "base_uri": "https://localhost:8080/"
        },
        "outputId": "1e020699-5619-4c08-e3c1-4966e0a3b507"
      },
      "outputs": [
        {
          "output_type": "stream",
          "name": "stdout",
          "text": [
            "Running model for generation\n",
            "{'questions': [{'Question': 'What is the least common multiple?', 'Answer': 'lcm', 'id': 1, 'context': 'lcm (least common multiple), 939 ex.'}, {'Question': 'What is the shape of 444 layers?', 'Answer': 'convex', 'id': 2, 'context': 'proving NP-completeness of, 1078–1079\\nverification of, 1063\\n\\nlast-in, first-out, 232\\nsee also stack\\n\\nlate task, 444\\nlayers\\n\\nconvex, 1044 pr.'}, {'Question': 'What is the least common ancestor?', 'Answer': 'ancestor', 'id': 3, 'context': 'leaf, 1176\\nleast common ancestor, 584 pr.'}]}\n",
            "11346\n",
            "79334\n"
          ]
        },
        {
          "output_type": "stream",
          "name": "stderr",
          "text": [
            "/usr/local/lib/python3.7/dist-packages/spacy/language.py:1899: UserWarning: [W123] Argument disable with value ['ner', 'textcat', 'parser'] is used instead of ['senter'] as specified in the config. Be aware that this might affect other components in your pipeline.\n",
            "  config_value=config[\"nlp\"][key],\n"
          ]
        },
        {
          "output_type": "stream",
          "name": "stdout",
          "text": [
            "Running model for generation\n",
            "{'questions': [{'Question': 'What is the left subtree?', 'Answer': 'subtree', 'id': 1, 'context': 'left subtree, 1178\\nLegendre symbol .'}, {'Question': '1166 of a sequence, 333 pr. left rotation, 312 left spine, 333 pr. left rotation?', 'Answer': 'spine', 'id': 2, 'context': 'length\\nof a path, 1170\\nof a sequence, 1166\\nof a spine, 333 pr. left rotation, 312\\nleft spine, 333 pr.'}, {'Question': 'What is the length of a path?', 'Answer': 'path', 'id': 3, 'context': 'length\\nof a path, 1170\\nof a sequence, 1166\\nof a spine, 333 pr.'}]}\n",
            "11349\n",
            "79364\n"
          ]
        },
        {
          "output_type": "stream",
          "name": "stderr",
          "text": [
            "/usr/local/lib/python3.7/dist-packages/spacy/language.py:1899: UserWarning: [W123] Argument disable with value ['ner', 'textcat', 'parser'] is used instead of ['senter'] as specified in the config. Be aware that this might affect other components in your pipeline.\n",
            "  config_value=config[\"nlp\"][key],\n"
          ]
        },
        {
          "output_type": "stream",
          "name": "stdout",
          "text": [
            "Running model for generation\n",
            "{'questions': [{'Question': 'What is lgk?', 'Answer': 'exponentiation', 'id': 1, 'context': 'lgk (exponentiation of logarithms), 56\\nlg lg (composition of logarithms), 56\\nLIFO (last-in, first-out), 232\\n\\n\\n\\nIndex 1271\\n\\nsee also stack\\nlight edge, 626\\nlinear constraint, 846\\nlinear dependence, 1223\\nlinear equality, 845\\nlinear equations\\n\\nsolving modular, 946–950\\nsolving systems of, 813–827\\nsolving tridiagonal systems of, 840 pr.'}, {'Question': 'What is last in, first out?', 'Answer': 'lifo', 'id': 2, 'context': 'lgk (exponentiation of logarithms), 56\\nlg lg (composition of logarithms), 56\\nLIFO (last-in, first-out), 232\\n\\n\\n\\nIndex 1271\\n\\nsee also stack\\nlight edge, 626\\nlinear constraint, 846\\nlinear dependence, 1223\\nlinear equality, 845\\nlinear equations\\n\\nsolving modular, 946–950\\nsolving systems of, 813–827\\nsolving tridiagonal systems of, 840 pr.'}]}\n",
            "11351\n",
            "79390\n"
          ]
        },
        {
          "output_type": "stream",
          "name": "stderr",
          "text": [
            "/usr/local/lib/python3.7/dist-packages/spacy/language.py:1899: UserWarning: [W123] Argument disable with value ['ner', 'textcat', 'parser'] is used instead of ['senter'] as specified in the config. Be aware that this might affect other components in your pipeline.\n",
            "  config_value=config[\"nlp\"][key],\n"
          ]
        },
        {
          "output_type": "stream",
          "name": "stdout",
          "text": [
            "Running model for generation\n",
            "{'questions': [{'Question': 'What is the linearity of summations?', 'Answer': 'linearity', 'id': 1, 'context': 'linearity of summations, 1146\\nlinear order, 1165\\nlinear permutation, 1229 pr.'}, {'Question': 'What is linearity of?', 'Answer': 'summations', 'id': 2, 'context': 'linearity of summations, 1146\\nlinear order, 1165\\nlinear permutation, 1229 pr.'}, {'Question': \"What is Karmarkar's algorithm for, 897 and maximum flow, 860-861 and minimum-cost circulation, 896 pr.?\", 'Answer': 'algorithm', 'id': 3, 'context': 'linear probing, 272\\nlinear programming, 7, 843–897\\n\\nalgorithms for, 850\\napplications of, 849\\nduality in, 879–886\\nellipsoid algorithm for, 850, 897\\nfinding an initial solution in, 886–891\\nfundamental theorem of, 892\\ninterior-point methods for, 850, 897\\nKarmarkar’s algorithm for, 897\\nand maximum flow, 860–861\\nand minimum-cost circulation, 896 pr. linear probing, 272\\nlinear programming, 7, 843–897\\n\\nalgorithms for, 850\\napplications of, 849\\nduality in, 879–886\\nellipsoid algorithm for, 850, 897\\nfinding an initial solution in, 886–891\\nfundamental theorem of, 892\\ninterior-point methods for, 850, 897\\nKarmarkar’s algorithm for, 897\\nand maximum flow, 860–861\\nand minimum-cost circulation, 896 pr.'}]}\n",
            "11354\n",
            "79410\n"
          ]
        },
        {
          "output_type": "stream",
          "name": "stderr",
          "text": [
            "/usr/local/lib/python3.7/dist-packages/spacy/language.py:1899: UserWarning: [W123] Argument disable with value ['ner', 'textcat', 'parser'] is used instead of ['senter'] as specified in the config. Be aware that this might affect other components in your pipeline.\n",
            "  config_value=config[\"nlp\"][key],\n"
          ]
        },
        {
          "output_type": "stream",
          "name": "stdout",
          "text": [
            "Running model for generation\n",
            "{'questions': [{'Question': 'What is the name of the search that is done in linear programming?', 'Answer': 'linear search', 'id': 1, 'context': 'slack form for, 854–857\\nstandard form for, 850–854\\nsee also integer linear programming, 0-1\\n\\ninteger programming\\nlinear-programming relaxation, 1125\\nlinear search, 22 ex.'}]}\n",
            "11355\n",
            "79433\n"
          ]
        },
        {
          "output_type": "stream",
          "name": "stderr",
          "text": [
            "/usr/local/lib/python3.7/dist-packages/spacy/language.py:1899: UserWarning: [W123] Argument disable with value ['ner', 'textcat', 'parser'] is used instead of ['senter'] as specified in the config. Be aware that this might affect other components in your pipeline.\n",
            "  config_value=config[\"nlp\"][key],\n"
          ]
        },
        {
          "output_type": "stream",
          "name": "stdout",
          "text": [
            "Running model for generation\n",
            "{'questions': [{'Question': 'What is the process of removing from 238 to implement disjoint sets?', 'Answer': 'deletion', 'id': 1, 'context': 'deletion from, 238\\nto implement disjoint sets, 564–568\\ninsertion into, 237–238\\nneighbor list, 750\\nsearching, 237, 268 ex.'}, {'Question': 'What is the link of binomial trees?', 'Answer': 'link', 'id': 2, 'context': 'of Fibonacci-heap roots, 513\\nof trees in a disjoint-set forest, 570–571\\n\\nLINK, 571\\nlinked list, 236–241\\n\\ncompact, 245 ex., 250 pr. 1017–1019\\n\\nlink\\nof binomial trees, 527 pr.'}]}\n",
            "11357\n",
            "79461\n"
          ]
        },
        {
          "output_type": "stream",
          "name": "stderr",
          "text": [
            "/usr/local/lib/python3.7/dist-packages/spacy/language.py:1899: UserWarning: [W123] Argument disable with value ['ner', 'textcat', 'parser'] is used instead of ['senter'] as specified in the config. Be aware that this might affect other components in your pipeline.\n",
            "  config_value=config[\"nlp\"][key],\n"
          ]
        },
        {
          "output_type": "stream",
          "name": "stdout",
          "text": [
            "Running model for generation\n",
            "{'questions': [{'Question': 'What is the load factor of a dynamic table?', 'Answer': 'load factor', 'id': 1, 'context': 'ln (natural logarithm), 56\\nload factor\\n\\nof a dynamic table, 463\\nof a hash table, 258\\n\\nload instruction, 23\\nlocal variable, 21\\nlogarithm function (log), 56–57\\n\\ndiscrete, 955\\niterated (lg), 58–59\\n\\nlogical parallelism, 777\\nlogic gate, 1070\\nlongest common subsequence, 7, 390–397, 413\\nlongest palindrome subsequence, 405 pr.'}, {'Question': 'What is the longest common subsequence?', 'Answer': 'subsequence', 'id': 2, 'context': 'ln (natural logarithm), 56\\nload factor\\n\\nof a dynamic table, 463\\nof a hash table, 258\\n\\nload instruction, 23\\nlocal variable, 21\\nlogarithm function (log), 56–57\\n\\ndiscrete, 955\\niterated (lg), 58–59\\n\\nlogical parallelism, 777\\nlogic gate, 1070\\nlongest common subsequence, 7, 390–397, 413\\nlongest palindrome subsequence, 405 pr. ln (natural logarithm), 56\\nload factor\\n\\nof a dynamic table, 463\\nof a hash table, 258\\n\\nload instruction, 23\\nlocal variable, 21\\nlogarithm function (log), 56–57\\n\\ndiscrete, 955\\niterated (lg), 58–59\\n\\nlogical parallelism, 777\\nlogic gate, 1070\\nlongest common subsequence, 7, 390–397, 413\\nlongest palindrome subsequence, 405 pr.'}, {'Question': 'What is ln (natural)?', 'Answer': 'logarithm', 'id': 3, 'context': 'ln (natural logarithm), 56\\nload factor\\n\\nof a dynamic table, 463\\nof a hash table, 258\\n\\nload instruction, 23\\nlocal variable, 21\\nlogarithm function (log), 56–57\\n\\ndiscrete, 955\\niterated (lg), 58–59\\n\\nlogical parallelism, 777\\nlogic gate, 1070\\nlongest common subsequence, 7, 390–397, 413\\nlongest palindrome subsequence, 405 pr. ln (natural logarithm), 56\\nload factor\\n\\nof a dynamic table, 463\\nof a hash table, 258\\n\\nload instruction, 23\\nlocal variable, 21\\nlogarithm function (log), 56–57\\n\\ndiscrete, 955\\niterated (lg), 58–59\\n\\nlogical parallelism, 777\\nlogic gate, 1070\\nlongest common subsequence, 7, 390–397, 413\\nlongest palindrome subsequence, 405 pr.'}, {'Question': 'What is the difference between 56 and 57?', 'Answer': 'discrete', 'id': 4, 'context': 'ln (natural logarithm), 56\\nload factor\\n\\nof a dynamic table, 463\\nof a hash table, 258\\n\\nload instruction, 23\\nlocal variable, 21\\nlogarithm function (log), 56–57\\n\\ndiscrete, 955\\niterated (lg), 58–59\\n\\nlogical parallelism, 777\\nlogic gate, 1070\\nlongest common subsequence, 7, 390–397, 413\\nlongest palindrome subsequence, 405 pr.'}]}\n",
            "11361\n",
            "79486\n"
          ]
        },
        {
          "output_type": "stream",
          "name": "stderr",
          "text": [
            "/usr/local/lib/python3.7/dist-packages/spacy/language.py:1899: UserWarning: [W123] Argument disable with value ['ner', 'textcat', 'parser'] is used instead of ['senter'] as specified in the config. Be aware that this might affect other components in your pipeline.\n",
            "  config_value=config[\"nlp\"][key],\n"
          ]
        },
        {
          "output_type": "stream",
          "name": "stdout",
          "text": [
            "Running model for generation\n",
            "{'questions': [{'Question': 'What is the root list of a heap?', 'Answer': 'fibonacci', 'id': 1, 'context': 'LOOKUP-CHAIN, 388\\n\\n\\n\\n1272 Index\\n\\nloop, in pseudocode, 20\\nparallel, 785–787\\n\\nloop invariant, 18–19\\nfor breadth-first search, 595\\nfor building a heap, 157\\nfor consolidating the root list of a Fibonacci\\n\\nheap, 517\\nfor determining the rank of an element in an\\n\\norder-statistic tree, 342\\nfor Dijkstra’s algorithm, 660\\nand for loops, 19 n.\\nfor the generic minimum-spanning-tree\\n\\nmethod, 625\\nfor the generic push-relabel algorithm, 743\\nfor Graham’s scan, 1034\\nfor heapsort, 160 ex.'}, {'Question': 'What is the index loop in?', 'Answer': 'pseudocode', 'id': 2, 'context': 'LOOKUP-CHAIN, 388\\n\\n\\n\\n1272 Index\\n\\nloop, in pseudocode, 20\\nparallel, 785–787\\n\\nloop invariant, 18–19\\nfor breadth-first search, 595\\nfor building a heap, 157\\nfor consolidating the root list of a Fibonacci\\n\\nheap, 517\\nfor determining the rank of an element in an\\n\\norder-statistic tree, 342\\nfor Dijkstra’s algorithm, 660\\nand for loops, 19 n.\\nfor the generic minimum-spanning-tree\\n\\nmethod, 625\\nfor the generic push-relabel algorithm, 743\\nfor Graham’s scan, 1034\\nfor heapsort, 160 ex.'}]}\n",
            "11363\n",
            "79514\n"
          ]
        },
        {
          "output_type": "stream",
          "name": "stderr",
          "text": [
            "/usr/local/lib/python3.7/dist-packages/spacy/language.py:1899: UserWarning: [W123] Argument disable with value ['ner', 'textcat', 'parser'] is used instead of ['senter'] as specified in the config. Be aware that this might affect other components in your pipeline.\n",
            "  config_value=config[\"nlp\"][key],\n"
          ]
        },
        {
          "output_type": "stream",
          "name": "stdout",
          "text": [
            "Running model for generation\n",
            "{'questions': [{'Question': 'What is the first step in the insertion sort?', 'Answer': 'initialization', 'id': 1, 'context': 'initialization of, 19\\nfor insertion sort, 18\\nmaintenance of, 19\\nfor merging, 32\\nfor modular exponentiation, 957\\norigin of, 42\\nfor partitioning, 171\\nfor Prim’s algorithm, 636\\nfor the Rabin-Karp algorithm, 993\\nfor randomly permuting an array, 127,\\n\\n128 ex.'}, {'Question': 'What is the Rabin-Karp algorithm?', 'Answer': 'algorithm', 'id': 2, 'context': 'initialization of, 19\\nfor insertion sort, 18\\nmaintenance of, 19\\nfor merging, 32\\nfor modular exponentiation, 957\\norigin of, 42\\nfor partitioning, 171\\nfor Prim’s algorithm, 636\\nfor the Rabin-Karp algorithm, 993\\nfor randomly permuting an array, 127,\\n\\n128 ex. initialization of, 19\\nfor insertion sort, 18\\nmaintenance of, 19\\nfor merging, 32\\nfor modular exponentiation, 957\\norigin of, 42\\nfor partitioning, 171\\nfor Prim’s algorithm, 636\\nfor the Rabin-Karp algorithm, 993\\nfor randomly permuting an array, 127,\\n\\n128 ex. for red-black tree insertion, 318\\nfor the relabel-to-front algorithm, 755\\nfor searching an interval tree, 352\\nfor the simplex algorithm, 872\\nfor string-matching automata, 998, 1000\\nand termination, 19\\n\\nlow endpoint of an interval, 348'}, {'Question': 'How can I increase a key in a heap?', 'Answer': 'heap', 'id': 3, 'context': 'for increasing a key in a heap, 166 ex.'}]}\n",
            "11366\n",
            "79535\n"
          ]
        },
        {
          "output_type": "stream",
          "name": "stderr",
          "text": [
            "/usr/local/lib/python3.7/dist-packages/spacy/language.py:1899: UserWarning: [W123] Argument disable with value ['ner', 'textcat', 'parser'] is used instead of ['senter'] as specified in the config. Be aware that this might affect other components in your pipeline.\n",
            "  config_value=config[\"nlp\"][key],\n"
          ]
        },
        {
          "output_type": "stream",
          "name": "stdout",
          "text": [
            "Running model for generation\n",
            "{'questions': [{'Question': 'What is the binomial coefficient 1186 for comparting?', 'Answer': 'water jugs', 'id': 1, 'context': 'on binomial coefficients, 1186\\nfor comparting water jugs, 206 pr.'}, {'Question': 'Lower bounds on what?', 'Answer': 'approximations', 'id': 2, 'context': 'lower bounds\\n\\non approximations, 1140\\nasymptotic, 48\\nfor average sorting, 207 pr.'}]}\n",
            "11368\n",
            "79558\n"
          ]
        },
        {
          "output_type": "stream",
          "name": "stderr",
          "text": [
            "/usr/local/lib/python3.7/dist-packages/spacy/language.py:1899: UserWarning: [W123] Argument disable with value ['ner', 'textcat', 'parser'] is used instead of ['senter'] as specified in the config. Be aware that this might affect other components in your pipeline.\n",
            "  config_value=config[\"nlp\"][key],\n"
          ]
        },
        {
          "output_type": "stream",
          "name": "stdout",
          "text": [
            "Running model for generation\n",
            "{'questions': [{'Question': 'What is the matrix inversion?', 'Answer': 'matrix', 'id': 1, 'context': 'low function, 537, 546\\nLU decomposition, 806 pr., 819–822\\nLU-DECOMPOSITION, 821\\nLUP decomposition, 806 pr., 815\\n\\ncomputation of, 822–825\\nof a diagonal matrix, 827 ex. on summations, 1152, 1154\\n\\nlower median, 213\\nlower square root\\n\\n\\n#\\np \\n\\n, 546\\nlower-triangular matrix, 1219, 1222 ex.,\\n\\n1225 ex. in matrix inversion, 828'}, {'Question': 'What is the lower median?', 'Answer': 'median', 'id': 2, 'context': 'on summations, 1152, 1154\\n\\nlower median, 213\\nlower square root\\n\\n\\n#\\np \\n\\n, 546\\nlower-triangular matrix, 1219, 1222 ex.,\\n\\n1225 ex.'}]}\n",
            "11370\n",
            "79588\n"
          ]
        },
        {
          "output_type": "stream",
          "name": "stderr",
          "text": [
            "/usr/local/lib/python3.7/dist-packages/spacy/language.py:1899: UserWarning: [W123] Argument disable with value ['ner', 'textcat', 'parser'] is used instead of ['senter'] as specified in the config. Be aware that this might affect other components in your pipeline.\n",
            "  config_value=config[\"nlp\"][key],\n"
          ]
        },
        {
          "output_type": "stream",
          "name": "stdout",
          "text": [
            "Running model for generation\n",
            "{'questions': [{'Question': 'What is matrix multiplication?', 'Answer': 'matrix multiplication', 'id': 1, 'context': 'and matrix multiplication, 832 ex.'}, {'Question': \"What is Markov's inequality?\", 'Answer': 'inequality', 'id': 2, 'context': 'marked node, 508, 519–520\\nMarkov’s inequality, 1201 ex.'}]}\n",
            "11372\n",
            "79615\n"
          ]
        },
        {
          "output_type": "stream",
          "name": "stderr",
          "text": [
            "/usr/local/lib/python3.7/dist-packages/spacy/language.py:1899: UserWarning: [W123] Argument disable with value ['ner', 'textcat', 'parser'] is used instead of ['senter'] as specified in the config. Be aware that this might affect other components in your pipeline.\n",
            "  config_value=config[\"nlp\"][key],\n"
          ]
        },
        {
          "output_type": "stream",
          "name": "stdout",
          "text": [
            "Running model for generation\n",
            "{'questions': [{'Question': 'What is the 1220 adjacency?', 'Answer': 'adjacency', 'id': 1, 'context': 'of strings, 985–1013\\nweighted bipartite, 530\\n\\nmatric matroid, 437\\nmatrix, 1217–1229\\n\\naddition of, 1220\\nadjacency, 591\\nconjugate transpose of, 832 ex.'}]}\n",
            "11373\n",
            "79642\n"
          ]
        },
        {
          "output_type": "stream",
          "name": "stderr",
          "text": [
            "/usr/local/lib/python3.7/dist-packages/spacy/language.py:1899: UserWarning: [W123] Argument disable with value ['ner', 'textcat', 'parser'] is used instead of ['senter'] as specified in the config. Be aware that this might affect other components in your pipeline.\n",
            "  config_value=config[\"nlp\"][key],\n"
          ]
        },
        {
          "output_type": "stream",
          "name": "stdout",
          "text": [
            "Running model for generation\n",
            "{'questions': [{'Question': 'What is the transpose of, 797 ex., 1217 transpose of, multithreaded, 792 ex.?', 'Answer': 'transpose', 'id': 1, 'context': 'transpose of, 797 ex., 1217\\ntranspose of, multithreaded, 792 ex. transpose of, 797 ex., 1217\\ntranspose of, multithreaded, 792 ex.'}]}\n",
            "11374\n",
            "79663\n"
          ]
        },
        {
          "output_type": "stream",
          "name": "stderr",
          "text": [
            "/usr/local/lib/python3.7/dist-packages/spacy/language.py:1899: UserWarning: [W123] Argument disable with value ['ner', 'textcat', 'parser'] is used instead of ['senter'] as specified in the config. Be aware that this might affect other components in your pipeline.\n",
            "  config_value=config[\"nlp\"][key],\n"
          ]
        },
        {
          "output_type": "stream",
          "name": "stdout",
          "text": [
            "Running model for generation\n",
            "{'questions': [{'Question': 'What is matrix multiplication?', 'Answer': 'matrix multiplication', 'id': 1, 'context': 'MATRIX-CHAIN-ORDER, 375\\nmatrix multiplication, 75–83, 1221\\n\\nfor all-pairs shortest paths, 686–693,\\n706–707\\n\\nboolean, 832 ex.'}]}\n",
            "11375\n",
            "79688\n"
          ]
        },
        {
          "output_type": "stream",
          "name": "stderr",
          "text": [
            "/usr/local/lib/python3.7/dist-packages/spacy/language.py:1899: UserWarning: [W123] Argument disable with value ['ner', 'textcat', 'parser'] is used instead of ['senter'] as specified in the config. Be aware that this might affect other components in your pipeline.\n",
            "  config_value=config[\"nlp\"][key],\n"
          ]
        },
        {
          "output_type": "stream",
          "name": "stdout",
          "text": [
            "Running model for generation\n",
            "{'questions': [{'Question': 'What is the effect of 166 ex.', 'Answer': 'deletion', 'id': 1, 'context': 'deletion from, 166 ex.'}, {'Question': 'What is the max priority queue?', 'Answer': 'queue', 'id': 2, 'context': 'extracting the maximum key from, 163\\nin heapsort, 159–162\\nincreasing a key in, 163–164\\ninsertion into, 164\\nmaximum key of, 163\\nas a max-priority queue, 162–166\\nmergeable, 250 n., 481 n., 505 n.\\n\\nMAX-HEAPIFY, 154\\nMAX-HEAP-INSERT, 164'}]}\n",
            "11377\n",
            "79712\n"
          ]
        },
        {
          "output_type": "stream",
          "name": "stderr",
          "text": [
            "/usr/local/lib/python3.7/dist-packages/spacy/language.py:1899: UserWarning: [W123] Argument disable with value ['ner', 'textcat', 'parser'] is used instead of ['senter'] as specified in the config. Be aware that this might affect other components in your pipeline.\n",
            "  config_value=config[\"nlp\"][key],\n"
          ]
        },
        {
          "output_type": "stream",
          "name": "stdout",
          "text": [
            "ZERO\n",
            "11377\n",
            "79737\n"
          ]
        },
        {
          "output_type": "stream",
          "name": "stderr",
          "text": [
            "/usr/local/lib/python3.7/dist-packages/spacy/language.py:1899: UserWarning: [W123] Argument disable with value ['ner', 'textcat', 'parser'] is used instead of ['senter'] as specified in the config. Be aware that this might affect other components in your pipeline.\n",
            "  config_value=config[\"nlp\"][key],\n"
          ]
        },
        {
          "output_type": "stream",
          "name": "stdout",
          "text": [
            "Running model for generation\n",
            "{'questions': [{'Question': 'Where are the index finding, 214-215?', 'Answer': 'heaps', 'id': 1, 'context': '1274 Index\\n\\nfinding, 214–215\\nin heaps, 163\\nin order-statistic trees, 347 ex.'}, {'Question': 'What is the Edmonds-Karp algorithm for?', 'Answer': 'algorithm', 'id': 2, 'context': 'maximum degree, in a Fibonacci heap, 509,\\n523–526\\n\\nmaximum flow, 708–766\\nEdmonds-Karp algorithm for, 727–730\\nFord-Fulkerson method for, 714–731, 765\\nas a linear program, 860–861\\nand maximum bipartite matching, 732–736, in red-black trees, 311\\nin van Emde Boas trees, 550\\n\\nMAXIMUM, 162–163, 230\\nmaximum bipartite matching, 732–736,\\n\\n747 ex., 766\\nHopcroft-Karp algorithm for, 763 pr.'}, {'Question': 'What is the maximum bipartite?', 'Answer': 'matching', 'id': 3, 'context': 'maximum degree, in a Fibonacci heap, 509,\\n523–526\\n\\nmaximum flow, 708–766\\nEdmonds-Karp algorithm for, 727–730\\nFord-Fulkerson method for, 714–731, 765\\nas a linear program, 860–861\\nand maximum bipartite matching, 732–736, in red-black trees, 311\\nin van Emde Boas trees, 550\\n\\nMAXIMUM, 162–163, 230\\nmaximum bipartite matching, 732–736,\\n\\n747 ex., 766\\nHopcroft-Karp algorithm for, 763 pr.'}]}\n",
            "11380\n",
            "79763\n"
          ]
        },
        {
          "output_type": "stream",
          "name": "stderr",
          "text": [
            "/usr/local/lib/python3.7/dist-packages/spacy/language.py:1899: UserWarning: [W123] Argument disable with value ['ner', 'textcat', 'parser'] is used instead of ['senter'] as specified in the config. Be aware that this might affect other components in your pipeline.\n",
            "  config_value=config[\"nlp\"][key],\n"
          ]
        },
        {
          "output_type": "stream",
          "name": "stdout",
          "text": [
            "Running model for generation\n",
            "{'questions': [{'Question': 'What is push-relabel algorithm for?', 'Answer': 'algorithms', 'id': 1, 'context': 'push-relabel algorithms for, 736–760, 765\\nrelabel-to-front algorithm for, 748–760\\nscaling algorithm for, 762 pr., 765\\nupdating, 762 pr.'}, {'Question': 'What is the multithreaded algorithm for, 805 ex?', 'Answer': 'median', 'id': 2, 'context': 'median, 213–227\\n\\nmultithreaded algorithm for, 805 ex.'}]}\n",
            "11382\n",
            "79784\n"
          ]
        },
        {
          "output_type": "stream",
          "name": "stderr",
          "text": [
            "/usr/local/lib/python3.7/dist-packages/spacy/language.py:1899: UserWarning: [W123] Argument disable with value ['ner', 'textcat', 'parser'] is used instead of ['senter'] as specified in the config. Be aware that this might affect other components in your pipeline.\n",
            "  config_value=config[\"nlp\"][key],\n"
          ]
        },
        {
          "output_type": "stream",
          "name": "stdout",
          "text": [
            "ZERO\n",
            "11382\n",
            "79809\n"
          ]
        },
        {
          "output_type": "stream",
          "name": "stderr",
          "text": [
            "/usr/local/lib/python3.7/dist-packages/spacy/language.py:1899: UserWarning: [W123] Argument disable with value ['ner', 'textcat', 'parser'] is used instead of ['senter'] as specified in the config. Be aware that this might affect other components in your pipeline.\n",
            "  config_value=config[\"nlp\"][key],\n"
          ]
        },
        {
          "output_type": "stream",
          "name": "stdout",
          "text": [
            "Running model for generation\n",
            "{'questions': [{'Question': 'What is the multithreaded algorithm for 798–801 of two sorted arrays?', 'Answer': 'arrays', 'id': 1, 'context': 'multithreaded algorithm for, 798–801\\nof two sorted arrays, 30\\n\\nMILLER-RABIN, 970\\nMiller-Rabin primality test, 968–975, 983'}, {'Question': 'What is the multithreaded algorithm for, 798–801 of two sorted arrays, 30 MILLER-RABIN, 970 Miller-Rabin primality test, 968–975, 983 multithreaded algorithm for, 797–805, 812 use of insertion sort in, 39 pr.', 'Answer': 'algorithm', 'id': 2, 'context': 'multithreaded algorithm for, 798–801\\nof two sorted arrays, 30\\n\\nMILLER-RABIN, 970\\nMiller-Rabin primality test, 968–975, 983 multithreaded algorithm for, 797–805, 812\\nuse of insertion sort in, 39 pr.'}]}\n",
            "11384\n",
            "79832\n"
          ]
        },
        {
          "output_type": "stream",
          "name": "stderr",
          "text": [
            "/usr/local/lib/python3.7/dist-packages/spacy/language.py:1899: UserWarning: [W123] Argument disable with value ['ner', 'textcat', 'parser'] is used instead of ['senter'] as specified in the config. Be aware that this might affect other components in your pipeline.\n",
            "  config_value=config[\"nlp\"][key],\n"
          ]
        },
        {
          "output_type": "stream",
          "name": "stdout",
          "text": [
            "Running model for generation\n",
            "{'questions': [{'Question': 'Who created the algorithm 662 in?', 'Answer': 'huffman', 'id': 1, 'context': 'in Dijkstra’s algorithm, 662\\nin Huffman’s algorithm, 433\\nin Johnson’s algorithm, 704\\nmergeable, 250 n., 481 n., 505\\nas a min-priority queue, 165 ex.'}, {'Question': 'What algorithm is 433 in?', 'Answer': 'johnson', 'id': 2, 'context': 'in Dijkstra’s algorithm, 662\\nin Huffman’s algorithm, 433\\nin Johnson’s algorithm, 704\\nmergeable, 250 n., 481 n., 505\\nas a min-priority queue, 165 ex.'}, {'Question': \"Who created the algorithm that was 662 in Huffman's algorithm, 433 in Johnson's algorithm, 704 mergeable, 250 n., 481 n., 505 as a min-priority queue, 165 ex?\", 'Answer': 'dijkstra', 'id': 3, 'context': 'in Dijkstra’s algorithm, 662\\nin Huffman’s algorithm, 433\\nin Johnson’s algorithm, 704\\nmergeable, 250 n., 481 n., 505\\nas a min-priority queue, 165 ex.'}]}\n",
            "11387\n",
            "79856\n"
          ]
        },
        {
          "output_type": "stream",
          "name": "stderr",
          "text": [
            "/usr/local/lib/python3.7/dist-packages/spacy/language.py:1899: UserWarning: [W123] Argument disable with value ['ner', 'textcat', 'parser'] is used instead of ['senter'] as specified in the config. Be aware that this might affect other components in your pipeline.\n",
            "  config_value=config[\"nlp\"][key],\n"
          ]
        },
        {
          "output_type": "stream",
          "name": "stdout",
          "text": [
            "ZERO\n",
            "11387\n",
            "79884\n"
          ]
        },
        {
          "output_type": "stream",
          "name": "stderr",
          "text": [
            "/usr/local/lib/python3.7/dist-packages/spacy/language.py:1899: UserWarning: [W123] Argument disable with value ['ner', 'textcat', 'parser'] is used instead of ['senter'] as specified in the config. Be aware that this might affect other components in your pipeline.\n",
            "  config_value=config[\"nlp\"][key],\n"
          ]
        },
        {
          "output_type": "stream",
          "name": "stdout",
          "text": [
            "ZERO\n",
            "11387\n",
            "79904\n"
          ]
        },
        {
          "output_type": "stream",
          "name": "stderr",
          "text": [
            "/usr/local/lib/python3.7/dist-packages/spacy/language.py:1899: UserWarning: [W123] Argument disable with value ['ner', 'textcat', 'parser'] is used instead of ['senter'] as specified in the config. Be aware that this might affect other components in your pipeline.\n",
            "  config_value=config[\"nlp\"][key],\n"
          ]
        },
        {
          "output_type": "stream",
          "name": "stdout",
          "text": [
            "Running model for generation\n",
            "{'questions': [{'Question': 'What is the minimum-weight vertex cover?', 'Answer': 'spanning tree', 'id': 1, 'context': 'minimum-weight spanning tree, see minimum\\nspanning tree\\n\\nminimum-weight vertex cover, 1124–1127,\\n1139\\n\\nminor of a matrix, 1224\\nmin-priority queue, 162\\n\\nin constructing Huffman codes, 431\\nin Dijkstra’s algorithm, 661\\nin Prim’s algorithm, 634, 636\\n\\nmiss, 449 pr. minimum-weight spanning tree, see minimum\\nspanning tree\\n\\nminimum-weight vertex cover, 1124–1127,\\n1139\\n\\nminor of a matrix, 1224\\nmin-priority queue, 162\\n\\nin constructing Huffman codes, 431\\nin Dijkstra’s algorithm, 661\\nin Prim’s algorithm, 634, 636\\n\\nmiss, 449 pr.'}, {'Question': 'What is missing child, 1178 mod, 54, 928 modifying operation, 230 modular arithmetic, 54, 923 pr., 939–946 modular equivalence, 54, 1165 ex.?', 'Answer': 'mod', 'id': 2, 'context': 'missing child, 1178\\nmod, 54, 928\\nmodifying operation, 230\\nmodular arithmetic, 54, 923 pr., 939–946\\n\\nmodular equivalence, 54, 1165 ex.'}]}\n",
            "11389\n",
            "79929\n"
          ]
        },
        {
          "output_type": "stream",
          "name": "stderr",
          "text": [
            "/usr/local/lib/python3.7/dist-packages/spacy/language.py:1899: UserWarning: [W123] Argument disable with value ['ner', 'textcat', 'parser'] is used instead of ['senter'] as specified in the config. Be aware that this might affect other components in your pipeline.\n",
            "  config_value=config[\"nlp\"][key],\n"
          ]
        },
        {
          "output_type": "stream",
          "name": "stdout",
          "text": [
            "ZERO\n",
            "11389\n",
            "79956\n"
          ]
        },
        {
          "output_type": "stream",
          "name": "stderr",
          "text": [
            "/usr/local/lib/python3.7/dist-packages/spacy/language.py:1899: UserWarning: [W123] Argument disable with value ['ner', 'textcat', 'parser'] is used instead of ['senter'] as specified in the config. Be aware that this might affect other components in your pipeline.\n",
            "  config_value=config[\"nlp\"][key],\n"
          ]
        },
        {
          "output_type": "stream",
          "name": "stdout",
          "text": [
            "Running model for generation\n",
            "{'questions': [{'Question': 'What is the name of the sinks and multiple sources?', 'Answer': 'sinks', 'id': 1, 'context': 'scalar, 1220\\n\\nmultiple assignment, 21\\nmultiple sources and sinks, 712\\nmultiplication\\n\\nof complex numbers, 83 ex.'}, {'Question': 'What is matrix multiplication of a matrix chain?', 'Answer': 'matrices', 'id': 2, 'context': 'of matrices, see matrix multiplication\\nof a matrix chain, 370–378\\nmatrix-vector, multithreaded, 785–787,\\n\\n789–790, 792 ex.'}, {'Question': 'What is the matrix chain multiplication?', 'Answer': 'matrix multiplication', 'id': 3, 'context': 'of matrices, see matrix multiplication\\nof a matrix chain, 370–378\\nmatrix-vector, multithreaded, 785–787,\\n\\n789–790, 792 ex.'}]}\n",
            "11392\n",
            "79979\n"
          ]
        },
        {
          "output_type": "stream",
          "name": "stderr",
          "text": [
            "/usr/local/lib/python3.7/dist-packages/spacy/language.py:1899: UserWarning: [W123] Argument disable with value ['ner', 'textcat', 'parser'] is used instead of ['senter'] as specified in the config. Be aware that this might affect other components in your pipeline.\n",
            "  config_value=config[\"nlp\"][key],\n"
          ]
        },
        {
          "output_type": "stream",
          "name": "stdout",
          "text": [
            "ZERO\n",
            "11392\n",
            "80002\n"
          ]
        },
        {
          "output_type": "stream",
          "name": "stderr",
          "text": [
            "/usr/local/lib/python3.7/dist-packages/spacy/language.py:1899: UserWarning: [W123] Argument disable with value ['ner', 'textcat', 'parser'] is used instead of ['senter'] as specified in the config. Be aware that this might affect other components in your pipeline.\n",
            "  config_value=config[\"nlp\"][key],\n"
          ]
        },
        {
          "output_type": "stream",
          "name": "stdout",
          "text": [
            "Running model for generation\n",
            "{'questions': [{'Question': 'What is the 811 pr.?', 'Answer': 'quicksort', 'id': 1, 'context': 'for quicksort, 811 pr.'}, {'Question': 'What is the algorithm for string matching?', 'Answer': 'algorithm', 'id': 2, 'context': 'multithreaded computation, 777\\nmultithreaded scheduling, 781–783\\nmutually exclusive events, 1190\\nmutually independent events, 1193\\n\\nN (set of natural numbers), 1158\\nnaive algorithm, for string matching, 988–990 Strassen’s algorithm, 795–796\\n\\nmultithreaded composition, 784 fig.'}]}\n",
            "11394\n",
            "80022\n"
          ]
        },
        {
          "output_type": "stream",
          "name": "stderr",
          "text": [
            "/usr/local/lib/python3.7/dist-packages/spacy/language.py:1899: UserWarning: [W123] Argument disable with value ['ner', 'textcat', 'parser'] is used instead of ['senter'] as specified in the config. Be aware that this might affect other components in your pipeline.\n",
            "  config_value=config[\"nlp\"][key],\n"
          ]
        },
        {
          "output_type": "stream",
          "name": "stdout",
          "text": [
            "Running model for generation\n",
            "{'questions': [{'Question': 'What is the name of the nested parallelism?', 'Answer': 'parallelism', 'id': 1, 'context': 'neighbor list, 750\\nnested parallelism, 776, 805 pr.'}, {'Question': 'What is the term for the relaxation of numbers?', 'Answer': 'relaxation', 'id': 2, 'context': 'natural numbers (N), 1158\\n\\nkeys interpreted as, 263\\nnegative of a matrix, 1220\\nnegative-weight cycle\\n\\nand difference constraints, 667\\nand relaxation, 677 ex.'}, {'Question': 'What is the neighbor list?', 'Answer': 'neighbor', 'id': 3, 'context': 'negative-weight edges, 645–646\\nneighbor, 1172\\nneighborhood, 735 ex. neighbor list, 750\\nnested parallelism, 776, 805 pr.'}]}\n",
            "11397\n",
            "80048\n"
          ]
        },
        {
          "output_type": "stream",
          "name": "stderr",
          "text": [
            "/usr/local/lib/python3.7/dist-packages/spacy/language.py:1899: UserWarning: [W123] Argument disable with value ['ner', 'textcat', 'parser'] is used instead of ['senter'] as specified in the config. Be aware that this might affect other components in your pipeline.\n",
            "  config_value=config[\"nlp\"][key],\n"
          ]
        },
        {
          "output_type": "stream",
          "name": "stdout",
          "text": [
            "Running model for generation\n",
            "{'questions': [{'Question': 'What is the 21th node?', 'Answer': 'node', 'id': 1, 'context': 'for sorting, 811\\n\\nNEXT-TO-TOP, 1031\\nNIL, 21\\nnode, 1176\\n\\nsee also vertex\\nnonbasic variable, 855\\nnondeterministic multithreaded algorithm, 787\\nnondeterministic polynomial time, 1064 n.\\n\\nsee also NP\\nnonhamiltonian graph, 1061\\nnoninstance, 1056 n.\\nnoninvertible matrix, 1223\\nnonnegativity constraint, 851, 853\\nnonoverlappable string pattern, 1002 ex.'}, {'Question': 'What is noninvertible matrix?', 'Answer': 'matrix', 'id': 2, 'context': 'for sorting, 811\\n\\nNEXT-TO-TOP, 1031\\nNIL, 21\\nnode, 1176\\n\\nsee also vertex\\nnonbasic variable, 855\\nnondeterministic multithreaded algorithm, 787\\nnondeterministic polynomial time, 1064 n.\\n\\nsee also NP\\nnonhamiltonian graph, 1061\\nnoninstance, 1056 n.\\nnoninvertible matrix, 1223\\nnonnegativity constraint, 851, 853\\nnonoverlappable string pattern, 1002 ex. nonsaturating push, 739, 745\\nnonsingular matrix, 1223\\nnontrivial power, 933 ex.'}]}\n",
            "11399\n",
            "80071\n"
          ]
        },
        {
          "output_type": "stream",
          "name": "stderr",
          "text": [
            "/usr/local/lib/python3.7/dist-packages/spacy/language.py:1899: UserWarning: [W123] Argument disable with value ['ner', 'textcat', 'parser'] is used instead of ['senter'] as specified in the config. Be aware that this might affect other components in your pipeline.\n",
            "  config_value=config[\"nlp\"][key],\n"
          ]
        },
        {
          "output_type": "stream",
          "name": "stdout",
          "text": [
            "Running model for generation\n",
            "{'questions': [{'Question': 'What is the complexity class?', 'Answer': 'npc', 'id': 1, 'context': 'norm of a vector, 1222\\nNOT function (:), 1071\\nnot a set member ( 62), 1158\\nnot equivalent ( 6), 54\\nNOT gate, 1070\\nNP (complexity class), 1049, 1064, 1066 ex.,\\n\\n1105\\nNPC (complexity class), 1050, 1069\\nNP-complete, 1050, 1069\\nNP-completeness, 9–10, 1048–1105\\n\\nof the circuit-satisfiability problem,\\n1070–1077\\n\\nof the clique problem, 1086–1089, 1105\\nof determining whether a boolean formula is\\n\\na tautology, 1086 ex.'}, {'Question': 'What is a boolean formula?', 'Answer': 'tautology', 'id': 2, 'context': 'norm of a vector, 1222\\nNOT function (:), 1071\\nnot a set member ( 62), 1158\\nnot equivalent ( 6), 54\\nNOT gate, 1070\\nNP (complexity class), 1049, 1064, 1066 ex.,\\n\\n1105\\nNPC (complexity class), 1050, 1069\\nNP-complete, 1050, 1069\\nNP-completeness, 9–10, 1048–1105\\n\\nof the circuit-satisfiability problem,\\n1070–1077\\n\\nof the clique problem, 1086–1089, 1105\\nof determining whether a boolean formula is\\n\\na tautology, 1086 ex.'}]}\n",
            "11401\n",
            "80094\n"
          ]
        },
        {
          "output_type": "stream",
          "name": "stderr",
          "text": [
            "/usr/local/lib/python3.7/dist-packages/spacy/language.py:1899: UserWarning: [W123] Argument disable with value ['ner', 'textcat', 'parser'] is used instead of ['senter'] as specified in the config. Be aware that this might affect other components in your pipeline.\n",
            "  config_value=config[\"nlp\"][key],\n"
          ]
        },
        {
          "output_type": "stream",
          "name": "stdout",
          "text": [
            "Running model for generation\n",
            "{'questions': [{'Question': 'What is the name of the integer linear programming?', 'Answer': 'linear programming', 'id': 1, 'context': 'of integer linear programming, 1101 ex.'}, {'Question': 'What is the profit of scheduling with?', 'Answer': 'deadlines', 'id': 2, 'context': 'proving, of a language, 1078–1079\\nof scheduling with profits and deadlines,\\n\\n1104 pr.'}, {'Question': 'What is the proving of a language, 1078-1079 of?', 'Answer': 'scheduling', 'id': 3, 'context': 'proving, of a language, 1078–1079\\nof scheduling with profits and deadlines,\\n\\n1104 pr.'}]}\n",
            "11404\n",
            "80121\n"
          ]
        },
        {
          "output_type": "stream",
          "name": "stderr",
          "text": [
            "/usr/local/lib/python3.7/dist-packages/spacy/language.py:1899: UserWarning: [W123] Argument disable with value ['ner', 'textcat', 'parser'] is used instead of ['senter'] as specified in the config. Be aware that this might affect other components in your pipeline.\n",
            "  config_value=config[\"nlp\"][key],\n"
          ]
        },
        {
          "output_type": "stream",
          "name": "stdout",
          "text": [
            "Running model for generation\n",
            "{'questions': [{'Question': 'What is the purpose of object allocation and what is the result of array implementation?', 'Answer': 'freeing', 'id': 1, 'context': 'object, 21\\n\\nallocation and freeing of, 243–244\\narray implementation of, 241–246'}, {'Question': 'What is the o-notation, 50-51, 64 O-notation, 45 fig., 47-48, 64 O 0-notation, 62 pr.eO-notation, 62 pr. NP-hard, 1069 n-set, 1161 n-tuple, 1162 null event, 1190 null tree, 1178 null vector, 1224 number-field sieve, 1218 o-notation, 50-51, 64 O-', 'Answer': 'notation', 'id': 2, 'context': 'NP-hard, 1069\\nn-set, 1161\\nn-tuple, 1162\\nnull event, 1190\\nnull tree, 1178\\nnull vector, 1224\\nnumber-field sieve, 984\\nnumerical stability, 813, 815, 842\\nn-vector, 1218\\n\\no-notation, 50–51, 64\\nO-notation, 45 fig., 47–48, 64\\nO 0-notation, 62 pr.eO-notation, 62 pr. NP-hard, 1069\\nn-set, 1161\\nn-tuple, 1162\\nnull event, 1190\\nnull tree, 1178\\nnull vector, 1224\\nnumber-field sieve, 984\\nnumerical stability, 813, 815, 842\\nn-vector, 1218\\n\\no-notation, 50–51, 64\\nO-notation, 45 fig., 47–48, 64\\nO 0-notation, 62 pr.eO-notation, 62 pr. NP-hard, 1069\\nn-set, 1161\\nn-tuple, 1162\\nnull event, 1190\\nnull tree, 1178\\nnull vector, 1224\\nnumber-field sieve, 984\\nnumerical stability, 813, 815, 842\\nn-vector, 1218\\n\\no-notation, 50–51, 64\\nO-notation, 45 fig., 47–48, 64\\nO 0-notation, 62 pr.eO-notation, 62 pr.'}, {'Question': 'What is the numerical stability of the 984 null event?', 'Answer': 'stability', 'id': 3, 'context': 'NP-hard, 1069\\nn-set, 1161\\nn-tuple, 1162\\nnull event, 1190\\nnull tree, 1178\\nnull vector, 1224\\nnumber-field sieve, 984\\nnumerical stability, 813, 815, 842\\nn-vector, 1218\\n\\no-notation, 50–51, 64\\nO-notation, 45 fig., 47–48, 64\\nO 0-notation, 62 pr.eO-notation, 62 pr.'}]}\n",
            "11407\n",
            "80149\n"
          ]
        },
        {
          "output_type": "stream",
          "name": "stderr",
          "text": [
            "/usr/local/lib/python3.7/dist-packages/spacy/language.py:1899: UserWarning: [W123] Argument disable with value ['ner', 'textcat', 'parser'] is used instead of ['senter'] as specified in the config. Be aware that this might affect other components in your pipeline.\n",
            "  config_value=config[\"nlp\"][key],\n"
          ]
        },
        {
          "output_type": "stream",
          "name": "stdout",
          "text": [
            "Running model for generation\n",
            "{'questions': [{'Question': 'What is the algorithm for the 1107 one-pass method?', 'Answer': 'algorithm', 'id': 1, 'context': 'Omega-notation, 45 fig., 48–49, 64\\n1-approximation algorithm, 1107\\n\\none-pass method, 585\\none-to-one correspondence, 1167\\none-to-one function, 1167\\non-line convex-hull problem, 1039 ex. passing as parameter, 21\\n\\nobjective function, 664, 847, 851\\nobjective value, 847, 851\\noblivious compare-exchange algorithm, 208 pr.'}, {'Question': 'Omega-notation, 45 what is the fig., 48-49, 64 1-approximation algorithm, 1107 one-pass method, 585 one-to-one correspondence, 1167 one-to-one function, 1167 on-line convex-hull problem, 1039 ex.?', 'Answer': 'fig', 'id': 2, 'context': 'Omega-notation, 45 fig., 48–49, 64\\n1-approximation algorithm, 1107\\n\\none-pass method, 585\\none-to-one correspondence, 1167\\none-to-one function, 1167\\non-line convex-hull problem, 1039 ex.'}, {'Question': 'What is passing as?', 'Answer': 'parameter', 'id': 3, 'context': 'passing as parameter, 21\\n\\nobjective function, 664, 847, 851\\nobjective value, 847, 851\\noblivious compare-exchange algorithm, 208 pr.'}]}\n",
            "11410\n",
            "80171\n"
          ]
        },
        {
          "output_type": "stream",
          "name": "stderr",
          "text": [
            "/usr/local/lib/python3.7/dist-packages/spacy/language.py:1899: UserWarning: [W123] Argument disable with value ['ner', 'textcat', 'parser'] is used instead of ['senter'] as specified in the config. Be aware that this might affect other components in your pipeline.\n",
            "  config_value=config[\"nlp\"][key],\n"
          ]
        },
        {
          "output_type": "stream",
          "name": "stdout",
          "text": [
            "ZERO\n",
            "11410\n",
            "80193\n"
          ]
        },
        {
          "output_type": "stream",
          "name": "stderr",
          "text": [
            "/usr/local/lib/python3.7/dist-packages/spacy/language.py:1899: UserWarning: [W123] Argument disable with value ['ner', 'textcat', 'parser'] is used instead of ['senter'] as specified in the config. Be aware that this might affect other components in your pipeline.\n",
            "  config_value=config[\"nlp\"][key],\n"
          ]
        },
        {
          "output_type": "stream",
          "name": "stdout",
          "text": [
            "Running model for generation\n",
            "{'questions': [{'Question': 'What is the 0-1 problem?', 'Answer': 'knapsack problem', 'id': 1, 'context': 'in greedy algorithms, 425\\nof Huffman codes, 435\\nof longest common subsequences, 392–393\\nof matrix-chain multiplication, 373\\nof rod-cutting, 362\\nof shortest paths, 644–645, 687, 693–694\\nof unweighted shortest paths, 382\\nof weighted matroids, 442\\nof the 0-1 knapsack problem, 426\\n\\noptimal vertex cover, 1108\\noptimization problem, 359, 1050, 1054\\n\\napproximation algorithms for, 10,\\n1106–1140\\n\\nand decision problems, 1051\\nOR function (_), 697, 1071\\norder\\n\\nof a group, 945\\nlinear, 1165\\npartial, 1165\\ntotal, 1165'}, {'Question': 'What is the greedy algorithm?', 'Answer': 'algorithms', 'id': 2, 'context': 'in greedy algorithms, 425\\nof Huffman codes, 435\\nof longest common subsequences, 392–393\\nof matrix-chain multiplication, 373\\nof rod-cutting, 362\\nof shortest paths, 644–645, 687, 693–694\\nof unweighted shortest paths, 382\\nof weighted matroids, 442\\nof the 0-1 knapsack problem, 426\\n\\noptimal vertex cover, 1108\\noptimization problem, 359, 1050, 1054\\n\\napproximation algorithms for, 10,\\n1106–1140\\n\\nand decision problems, 1051\\nOR function (_), 697, 1071\\norder\\n\\nof a group, 945\\nlinear, 1165\\npartial, 1165\\ntotal, 1165 in greedy algorithms, 425\\nof Huffman codes, 435\\nof longest common subsequences, 392–393\\nof matrix-chain multiplication, 373\\nof rod-cutting, 362\\nof shortest paths, 644–645, 687, 693–694\\nof unweighted shortest paths, 382\\nof weighted matroids, 442\\nof the 0-1 knapsack problem, 426\\n\\noptimal vertex cover, 1108\\noptimization problem, 359, 1050, 1054\\n\\napproximation algorithms for, 10,\\n1106–1140\\n\\nand decision problems, 1051\\nOR function (_), 697, 1071\\norder\\n\\nof a group, 945\\nlinear, 1165\\npartial, 1165\\ntotal, 1165'}]}\n",
            "11412\n",
            "80217\n"
          ]
        },
        {
          "output_type": "stream",
          "name": "stderr",
          "text": [
            "/usr/local/lib/python3.7/dist-packages/spacy/language.py:1899: UserWarning: [W123] Argument disable with value ['ner', 'textcat', 'parser'] is used instead of ['senter'] as specified in the config. Be aware that this might affect other components in your pipeline.\n",
            "  config_value=config[\"nlp\"][key],\n"
          ]
        },
        {
          "output_type": "stream",
          "name": "stdout",
          "text": [
            "Running model for generation\n",
            "{'questions': [{'Question': 'What is the 1071 of?', 'Answer': 'logic gate', 'id': 1, 'context': 'OS-RANK, 342\\nOS-SELECT, 341\\nout-degree, 1169\\nouter product, 1222\\noutput\\n\\nof an algorithm, 5\\nof a combinational circuit, 1071\\nof a logic gate, 1070\\n\\noverdetermined system of linear equations, 814\\noverflow\\n\\nof a queue, 235'}, {'Question': 'What is the output of an algorithm?', 'Answer': 'algorithm', 'id': 2, 'context': 'OS-RANK, 342\\nOS-SELECT, 341\\nout-degree, 1169\\nouter product, 1222\\noutput\\n\\nof an algorithm, 5\\nof a combinational circuit, 1071\\nof a logic gate, 1070\\n\\noverdetermined system of linear equations, 814\\noverflow\\n\\nof a queue, 235 ordered pair, 1161\\nordered tree, 1177\\norder of growth, 28\\n\\n\\n\\n1278 Index\\n\\norder statistics, 213–227\\ndynamic, 339–345\\nmultithreaded algorithm for, 805 ex.'}, {'Question': 'What is the overflow of a queue?', 'Answer': 'overflow', 'id': 3, 'context': 'OS-RANK, 342\\nOS-SELECT, 341\\nout-degree, 1169\\nouter product, 1222\\noutput\\n\\nof an algorithm, 5\\nof a combinational circuit, 1071\\nof a logic gate, 1070\\n\\noverdetermined system of linear equations, 814\\noverflow\\n\\nof a queue, 235'}, {'Question': 'What is the overdetermined system of linear equations?', 'Answer': 'equations', 'id': 4, 'context': 'OS-RANK, 342\\nOS-SELECT, 341\\nout-degree, 1169\\nouter product, 1222\\noutput\\n\\nof an algorithm, 5\\nof a combinational circuit, 1071\\nof a logic gate, 1070\\n\\noverdetermined system of linear equations, 814\\noverflow\\n\\nof a queue, 235'}]}\n",
            "11416\n",
            "80252\n"
          ]
        },
        {
          "output_type": "stream",
          "name": "stderr",
          "text": [
            "/usr/local/lib/python3.7/dist-packages/spacy/language.py:1899: UserWarning: [W123] Argument disable with value ['ner', 'textcat', 'parser'] is used instead of ['senter'] as specified in the config. Be aware that this might affect other components in your pipeline.\n",
            "  config_value=config[\"nlp\"][key],\n"
          ]
        },
        {
          "output_type": "stream",
          "name": "stdout",
          "text": [
            "Running model for generation\n",
            "{'questions': [{'Question': 'What is the overlapping of the lemma?', 'Answer': 'subproblems', 'id': 1, 'context': 'overlapping subproblems, 384–386\\noverlapping-suffix lemma, 987\\n\\nP (complexity class), 1049, 1055, 1059,\\n1061 ex., 1105\\n\\npackage wrapping, 1037, 1047\\npage on a disk, 486, 499 ex., 502 pr.'}, {'Question': 'What are overlapping rectangles?', 'Answer': 'rectangles', 'id': 2, 'context': 'overlapping rectangles, 354 ex.'}]}\n",
            "11418\n",
            "80276\n"
          ]
        },
        {
          "output_type": "stream",
          "name": "stderr",
          "text": [
            "/usr/local/lib/python3.7/dist-packages/spacy/language.py:1899: UserWarning: [W123] Argument disable with value ['ner', 'textcat', 'parser'] is used instead of ['senter'] as specified in the config. Be aware that this might affect other components in your pipeline.\n",
            "  config_value=config[\"nlp\"][key],\n"
          ]
        },
        {
          "output_type": "stream",
          "name": "stdout",
          "text": [
            "Running model for generation\n",
            "{'questions': [{'Question': 'What is the name of the parallelism logical algorithm?', 'Answer': 'pseudocode', 'id': 1, 'context': 'parallel algorithm, 10, 772\\n\\nsee also multithreaded algorithm\\nparallel computer, 772\\n\\nideal, 779\\nparallel for, in pseudocode, 785–786\\nparallelism\\n\\nlogical, 777\\n\\nof a multithreaded computation, 780\\nnested, 776\\nof a randomized multithreaded algorithm,\\n\\n811 pr.'}, {'Question': 'What is parallel prefix, 807 pr.?', 'Answer': 'prefix', 'id': 2, 'context': 'parallel prefix, 807 pr.'}, {'Question': 'What is parallel computer, 772 ideal, 779 parallel for, in pseudocode, 785–786 parallelism logical, 777 of a multithreaded computation, 780 nested, 776 of a randomized multithreaded algorithm, 811 pr?', 'Answer': 'algorithm', 'id': 3, 'context': 'parallel algorithm, 10, 772\\n\\nsee also multithreaded algorithm\\nparallel computer, 772\\n\\nideal, 779\\nparallel for, in pseudocode, 785–786\\nparallelism\\n\\nlogical, 777\\n\\nof a multithreaded computation, 780\\nnested, 776\\nof a randomized multithreaded algorithm,\\n\\n811 pr. parallel algorithm, 10, 772\\n\\nsee also multithreaded algorithm\\nparallel computer, 772\\n\\nideal, 779\\nparallel for, in pseudocode, 785–786\\nparallelism\\n\\nlogical, 777\\n\\nof a multithreaded computation, 780\\nnested, 776\\nof a randomized multithreaded algorithm,\\n\\n811 pr. parallel algorithm, 10, 772\\n\\nsee also multithreaded algorithm\\nparallel computer, 772\\n\\nideal, 779\\nparallel for, in pseudocode, 785–786\\nparallelism\\n\\nlogical, 777\\n\\nof a multithreaded computation, 780\\nnested, 776\\nof a randomized multithreaded algorithm,\\n\\n811 pr.'}]}\n",
            "11421\n",
            "80303\n"
          ]
        },
        {
          "output_type": "stream",
          "name": "stderr",
          "text": [
            "/usr/local/lib/python3.7/dist-packages/spacy/language.py:1899: UserWarning: [W123] Argument disable with value ['ner', 'textcat', 'parser'] is used instead of ['senter'] as specified in the config. Be aware that this might affect other components in your pipeline.\n",
            "  config_value=config[\"nlp\"][key],\n"
          ]
        },
        {
          "output_type": "stream",
          "name": "stdout",
          "text": [
            "Running model for generation\n",
            "{'questions': [{'Question': 'What is the method of hoare?', 'Answer': 'hoare', 'id': 1, 'context': 'Hoare’s method for, 185 pr.'}, {'Question': 'What is the median of 3 elements, 185 ex.?', 'Answer': 'median', 'id': 2, 'context': 'partition function, 361 n.\\npartitioning, 171–173\\n\\naround median of 3 elements, 185 ex.'}]}\n",
            "11423\n",
            "80326\n"
          ]
        },
        {
          "output_type": "stream",
          "name": "stderr",
          "text": [
            "/usr/local/lib/python3.7/dist-packages/spacy/language.py:1899: UserWarning: [W123] Argument disable with value ['ner', 'textcat', 'parser'] is used instead of ['senter'] as specified in the config. Be aware that this might affect other components in your pipeline.\n",
            "  config_value=config[\"nlp\"][key],\n"
          ]
        },
        {
          "output_type": "stream",
          "name": "stdout",
          "text": [
            "Running model for generation\n",
            "{'questions': [{'Question': 'What is the name of the triangle that is partitioned in a set?', 'Answer': 'pascal', 'id': 1, 'context': 'partition of a set, 1161, 1164\\nPascal’s triangle, 1188 ex.'}, {'Question': 'What is the partition of a set, 1161, 1164 ex.?', 'Answer': 'triangle', 'id': 2, 'context': 'partition of a set, 1161, 1164\\nPascal’s triangle, 1188 ex.'}, {'Question': 'What is the string matching?', 'Answer': 'penalty', 'id': 3, 'context': 'pattern matching, see string matching\\npenalty, 444\\nperfect hashing, 277–282, 285'}]}\n",
            "11426\n",
            "80355\n"
          ]
        },
        {
          "output_type": "stream",
          "name": "stderr",
          "text": [
            "/usr/local/lib/python3.7/dist-packages/spacy/language.py:1899: UserWarning: [W123] Argument disable with value ['ner', 'textcat', 'parser'] is used instead of ['senter'] as specified in the config. Be aware that this might affect other components in your pipeline.\n",
            "  config_value=config[\"nlp\"][key],\n"
          ]
        },
        {
          "output_type": "stream",
          "name": "stdout",
          "text": [
            "Running model for generation\n",
            "{'questions': [{'Question': 'What is the matrix of 116, 125 permutation matrix?', 'Answer': 'permutation', 'id': 1, 'context': 'in place, 126\\nrandom, 124–128\\nof a set, 1184\\nuniform random, 116, 125\\n\\npermutation matrix, 1220, 1222 ex., 1226 ex. permutation, 1167\\n\\nbit-reversal, 472 pr., 918\\nJosephus, 355 pr. k-permutation, 126, 1184\\nlinear, 1229 pr.'}, {'Question': 'What is the perfect linear speedup?', 'Answer': 'speedup', 'id': 2, 'context': 'perfect linear speedup, 780\\nperfect matching, 735 ex.'}, {'Question': 'What is the name of the king of the Roman Empire?', 'Answer': 'josephus', 'id': 3, 'context': 'permutation, 1167\\n\\nbit-reversal, 472 pr., 918\\nJosephus, 355 pr.'}, {'Question': 'What is persistent data structure?', 'Answer': 'data structure', 'id': 4, 'context': 'persistent data structure, 331 pr., 482\\nPERSISTENT-TREE-INSERT, 331 pr.'}]}\n",
            "11430\n",
            "80378\n"
          ]
        },
        {
          "output_type": "stream",
          "name": "stderr",
          "text": [
            "/usr/local/lib/python3.7/dist-packages/spacy/language.py:1899: UserWarning: [W123] Argument disable with value ['ner', 'textcat', 'parser'] is used instead of ['senter'] as specified in the config. Be aware that this might affect other components in your pipeline.\n",
            "  config_value=config[\"nlp\"][key],\n"
          ]
        },
        {
          "output_type": "stream",
          "name": "stdout",
          "text": [
            "Running model for generation\n",
            "{'questions': [{'Question': 'In LU decomposition, 821 in what?', 'Answer': 'quicksort', 'id': 1, 'context': 'in LU decomposition, 821\\nin quicksort, 171\\n\\nPIVOT, 869\\nplatter, 485\\nP-MATRIX-MULTIPLY-RECURSIVE, 794\\nP-MERGE, 800\\nP-MERGE-SORT, 803\\npointer, 21\\n\\narray implementation of, 241–246\\ntrailing, 295\\n\\npoint-value representation, 901\\npolar angle, 1020 ex.'}]}\n",
            "11431\n",
            "80407\n"
          ]
        },
        {
          "output_type": "stream",
          "name": "stderr",
          "text": [
            "/usr/local/lib/python3.7/dist-packages/spacy/language.py:1899: UserWarning: [W123] Argument disable with value ['ner', 'textcat', 'parser'] is used instead of ['senter'] as specified in the config. Be aware that this might affect other components in your pipeline.\n",
            "  config_value=config[\"nlp\"][key],\n"
          ]
        },
        {
          "output_type": "stream",
          "name": "stdout",
          "text": [
            "Running model for generation\n",
            "{'questions': [{'Question': 'What is the coefficient representation of 922 pr?', 'Answer': 'derivatives', 'id': 1, 'context': 'coefficient representation of, 900\\nderivatives of, 922 pr.'}, {'Question': 'What is the 927 polynomial-time approximation scheme?', 'Answer': 'algorithm', 'id': 2, 'context': 'point-value representation of, 901\\n\\npolynomial-growth condition, 113\\npolynomially bounded, 55\\npolynomially related, 1056\\npolynomial-time acceptance, 1058\\npolynomial-time algorithm, 927, 1048\\npolynomial-time approximation scheme, 1107'}, {'Question': 'What is the process of multiplication of 899, 903-905 pr.', 'Answer': 'multiplication', 'id': 3, 'context': 'multiplication of, 899, 903–905, 920 pr.'}, {'Question': 'What is the 1056 polynomial-time algorithm?', 'Answer': 'acceptance', 'id': 4, 'context': 'point-value representation of, 901\\n\\npolynomial-growth condition, 113\\npolynomially bounded, 55\\npolynomially related, 1056\\npolynomial-time acceptance, 1058\\npolynomial-time algorithm, 927, 1048\\npolynomial-time approximation scheme, 1107'}]}\n",
            "11435\n",
            "80427\n"
          ]
        },
        {
          "output_type": "stream",
          "name": "stderr",
          "text": [
            "/usr/local/lib/python3.7/dist-packages/spacy/language.py:1899: UserWarning: [W123] Argument disable with value ['ner', 'textcat', 'parser'] is used instead of ['senter'] as specified in the config. Be aware that this might affect other components in your pipeline.\n",
            "  config_value=config[\"nlp\"][key],\n"
          ]
        },
        {
          "output_type": "stream",
          "name": "stdout",
          "text": [
            "Running model for generation\n",
            "{'questions': [{'Question': 'What is the polynomial time verification?', 'Answer': 'solvability', 'id': 1, 'context': 'polynomial-time solvability, 1055\\npolynomial-time verification, 1061–1066\\nPOP, 233, 452\\npop from a run-time stack, 188 pr.'}, {'Question': 'What is the main function of polynomial time?', 'Answer': 'verification', 'id': 2, 'context': 'polynomial-time solvability, 1055\\npolynomial-time verification, 1061–1066\\nPOP, 233, 452\\npop from a run-time stack, 188 pr.'}]}\n",
            "11437\n",
            "80449\n"
          ]
        },
        {
          "output_type": "stream",
          "name": "stderr",
          "text": [
            "/usr/local/lib/python3.7/dist-packages/spacy/language.py:1899: UserWarning: [W123] Argument disable with value ['ner', 'textcat', 'parser'] is used instead of ['senter'] as specified in the config. Be aware that this might affect other components in your pipeline.\n",
            "  config_value=config[\"nlp\"][key],\n"
          ]
        },
        {
          "output_type": "stream",
          "name": "stdout",
          "text": [
            "Running model for generation\n",
            "{'questions': [{'Question': 'What is the potential of a stack?', 'Answer': 'data structure', 'id': 1, 'context': 'for stack operations, 460–461\\n\\npotential, of a data structure, 459\\npower\\n\\nof an element, modulo n, 954–958\\n\\n\\n\\n1280 Index\\n\\nkth, 933 ex.'}, {'Question': 'What is the index of a data structure?', 'Answer': 'kth', 'id': 2, 'context': 'for stack operations, 460–461\\n\\npotential, of a data structure, 459\\npower\\n\\nof an element, modulo n, 954–958\\n\\n\\n\\n1280 Index\\n\\nkth, 933 ex.'}, {'Question': 'What is the power set, 1161 Pr f g, and 1190 PRAM?', 'Answer': 'probability distribution', 'id': 3, 'context': 'power set, 1161\\nPr f g (probability distribution), 1190\\nPRAM, 811\\npredecessor'}, {'Question': 'What is the name of the 811 predecessor?', 'Answer': 'pram', 'id': 4, 'context': 'power set, 1161\\nPr f g (probability distribution), 1190\\nPRAM, 811\\npredecessor'}]}\n",
            "11441\n",
            "80480\n"
          ]
        },
        {
          "output_type": "stream",
          "name": "stderr",
          "text": [
            "/usr/local/lib/python3.7/dist-packages/spacy/language.py:1899: UserWarning: [W123] Argument disable with value ['ner', 'textcat', 'parser'] is used instead of ['senter'] as specified in the config. Be aware that this might affect other components in your pipeline.\n",
            "  config_value=config[\"nlp\"][key],\n"
          ]
        },
        {
          "output_type": "stream",
          "name": "stdout",
          "text": [
            "Running model for generation\n",
            "{'questions': [{'Question': 'What type of tree is 291–292 in a bit vector with a superimposed binary tree?', 'Answer': 'binary', 'id': 1, 'context': 'in binary search trees, 291–292\\nin a bit vector with a superimposed binary\\n\\ntree, 534\\nin a bit vector with a superimposed tree of\\n\\nconstant height, 535\\nin breadth-first trees, 594\\nin B-trees, 497 ex. in binary search trees, 291–292\\nin a bit vector with a superimposed binary\\n\\ntree, 534\\nin a bit vector with a superimposed tree of\\n\\nconstant height, 535\\nin breadth-first trees, 594\\nin B-trees, 497 ex.'}]}\n",
            "11442\n",
            "80503\n"
          ]
        },
        {
          "output_type": "stream",
          "name": "stderr",
          "text": [
            "/usr/local/lib/python3.7/dist-packages/spacy/language.py:1899: UserWarning: [W123] Argument disable with value ['ner', 'textcat', 'parser'] is used instead of ['senter'] as specified in the config. Be aware that this might affect other components in your pipeline.\n",
            "  config_value=config[\"nlp\"][key],\n"
          ]
        },
        {
          "output_type": "stream",
          "name": "stdout",
          "text": [
            "Running model for generation\n",
            "{'questions': [{'Question': 'What is the total of the tree walk?', 'Answer': 'preorder', 'id': 1, 'context': 'preorder, total, 1165\\npreorder tree walk, 287\\npresorting, 1043\\nPrim’s algorithm, 634–636, 642\\n\\nwith an adjacency matrix, 637 ex. preorder, total, 1165\\npreorder tree walk, 287\\npresorting, 1043\\nPrim’s algorithm, 634–636, 642\\n\\nwith an adjacency matrix, 637 ex.'}, {'Question': 'What is the adjacency matrix?', 'Answer': 'matrix', 'id': 2, 'context': 'preorder, total, 1165\\npreorder tree walk, 287\\npresorting, 1043\\nPrim’s algorithm, 634–636, 642\\n\\nwith an adjacency matrix, 637 ex. prefix function, 1003–1004\\nprefix-function iteration lemma, 1007\\npreflow, 736, 765\\npreimage of a matrix, 1228 pr.'}, {'Question': 'What is the prefix of a string?', 'Answer': 'sequence', 'id': 3, 'context': 'prefix\\n\\nof a sequence, 392\\nof a string (), 986\\n\\nprefix code, 429\\nprefix computation, 807 pr.'}]}\n",
            "11445\n",
            "80528\n"
          ]
        },
        {
          "output_type": "stream",
          "name": "stderr",
          "text": [
            "/usr/local/lib/python3.7/dist-packages/spacy/language.py:1899: UserWarning: [W123] Argument disable with value ['ner', 'textcat', 'parser'] is used instead of ['senter'] as specified in the config. Be aware that this might affect other components in your pipeline.\n",
            "  config_value=config[\"nlp\"][key],\n"
          ]
        },
        {
          "output_type": "stream",
          "name": "stdout",
          "text": [
            "Running model for generation\n",
            "{'questions': [{'Question': 'Similarity to what algorithm?', 'Answer': 'dijkstra', 'id': 1, 'context': 'similarity to Dijkstra’s algorithm, 634, 662\\nfor sparse graphs, 638 pr.'}, {'Question': 'What is the prime linear program?', 'Answer': 'linear program', 'id': 2, 'context': 'primality testing, 965–975, 983\\nMiller-Rabin test, 968–975, 983\\npseudoprimality testing, 966–968\\n\\nprimal linear program, 880\\nprimary clustering, 272\\nprimary memory, 484\\nprime distribution function, 965\\nprime number, 928\\n\\ndensity of, 965–966\\nprime number theorem, 965\\nprimitive root of Zn, 955\\nprincipal root of unity, 907'}]}\n",
            "11447\n",
            "80549\n"
          ]
        },
        {
          "output_type": "stream",
          "name": "stderr",
          "text": [
            "/usr/local/lib/python3.7/dist-packages/spacy/language.py:1899: UserWarning: [W123] Argument disable with value ['ner', 'textcat', 'parser'] is used instead of ['senter'] as specified in the config. Be aware that this might affect other components in your pipeline.\n",
            "  config_value=config[\"nlp\"][key],\n"
          ]
        },
        {
          "output_type": "stream",
          "name": "stdout",
          "text": [
            "Running model for generation\n",
            "{'questions': [{'Question': 'What is the 162–166 in constructing Huffman codes?', 'Answer': 'priority queue', 'id': 1, 'context': 'priority queue, 162–166\\n\\nin constructing Huffman codes, 431\\nin Dijkstra’s algorithm, 661\\nheap implementation of, 162–166\\nlower bounds for, 531\\nmax-priority queue, 162\\nmin-priority queue, 162, 165 ex. priority queue, 162–166\\n\\nin constructing Huffman codes, 431\\nin Dijkstra’s algorithm, 661\\nheap implementation of, 162–166\\nlower bounds for, 531\\nmax-priority queue, 162\\nmin-priority queue, 162, 165 ex. priority queue, 162–166\\n\\nin constructing Huffman codes, 431\\nin Dijkstra’s algorithm, 661\\nheap implementation of, 162–166\\nlower bounds for, 531\\nmax-priority queue, 162\\nmin-priority queue, 162, 165 ex.'}]}\n",
            "11448\n",
            "80568\n"
          ]
        },
        {
          "output_type": "stream",
          "name": "stderr",
          "text": [
            "/usr/local/lib/python3.7/dist-packages/spacy/language.py:1899: UserWarning: [W123] Argument disable with value ['ner', 'textcat', 'parser'] is used instead of ['senter'] as specified in the config. Be aware that this might affect other components in your pipeline.\n",
            "  config_value=config[\"nlp\"][key],\n"
          ]
        },
        {
          "output_type": "stream",
          "name": "stdout",
          "text": [
            "Running model for generation\n",
            "{'questions': [{'Question': 'What is the name of the ball and bins, 133-134?', 'Answer': 'birthday paradox', 'id': 1, 'context': 'of balls and bins, 133–134\\nof birthday paradox, 130–133\\nof bucket sort, 201–204, 204 ex.'}]}\n",
            "11449\n",
            "80590\n"
          ]
        },
        {
          "output_type": "stream",
          "name": "stderr",
          "text": [
            "/usr/local/lib/python3.7/dist-packages/spacy/language.py:1899: UserWarning: [W123] Argument disable with value ['ner', 'textcat', 'parser'] is used instead of ['senter'] as specified in the config. Be aware that this might affect other components in your pipeline.\n",
            "  config_value=config[\"nlp\"][key],\n"
          ]
        },
        {
          "output_type": "stream",
          "name": "stdout",
          "text": [
            "Running model for generation\n",
            "{'questions': [{'Question': 'How can I have a binary search tree with equal keys?', 'Answer': 'chaining', 'id': 1, 'context': 'of hashing with chaining, 258–260\\nof height of a randomly built binary search\\n\\ntree, 299–303\\nof hiring problem, 120–121, 139–141\\nof insertion into a binary search tree with\\n\\nequal keys, 303 pr.'}, {'Question': 'What is the 139-141 of a binary search tree with equal keys?', 'Answer': 'insertion', 'id': 2, 'context': 'of hashing with chaining, 258–260\\nof height of a randomly built binary search\\n\\ntree, 299–303\\nof hiring problem, 120–121, 139–141\\nof insertion into a binary search tree with\\n\\nequal keys, 303 pr.'}, {'Question': 'What are equal in a binary search tree?', 'Answer': 'keys', 'id': 3, 'context': 'of hashing with chaining, 258–260\\nof height of a randomly built binary search\\n\\ntree, 299–303\\nof hiring problem, 120–121, 139–141\\nof insertion into a binary search tree with\\n\\nequal keys, 303 pr.'}]}\n",
            "11452\n",
            "80613\n"
          ]
        },
        {
          "output_type": "stream",
          "name": "stderr",
          "text": [
            "/usr/local/lib/python3.7/dist-packages/spacy/language.py:1899: UserWarning: [W123] Argument disable with value ['ner', 'textcat', 'parser'] is used instead of ['senter'] as specified in the config. Be aware that this might affect other components in your pipeline.\n",
            "  config_value=config[\"nlp\"][key],\n"
          ]
        },
        {
          "output_type": "stream",
          "name": "stdout",
          "text": [
            "Running model for generation\n",
            "{'questions': [{'Question': 'What is perfect hashing?', 'Answer': 'hashing', 'id': 1, 'context': 'of perfect hashing, 279–282\\nof Pollard’s rho heuristic, 977–980\\nof probabilistic counting, 143 pr. of streaks, 135–139\\nof universal hashing, 265–268 of open-address hashing, 274–276, 277 ex.'}, {'Question': 'Who wrote the rho heuristic?', 'Answer': 'pollard', 'id': 2, 'context': 'of perfect hashing, 279–282\\nof Pollard’s rho heuristic, 977–980\\nof probabilistic counting, 143 pr.'}]}\n",
            "11454\n",
            "80629\n"
          ]
        },
        {
          "output_type": "stream",
          "name": "stderr",
          "text": [
            "/usr/local/lib/python3.7/dist-packages/spacy/language.py:1899: UserWarning: [W123] Argument disable with value ['ner', 'textcat', 'parser'] is used instead of ['senter'] as specified in the config. Be aware that this might affect other components in your pipeline.\n",
            "  config_value=config[\"nlp\"][key],\n"
          ]
        },
        {
          "output_type": "stream",
          "name": "stdout",
          "text": [
            "Running model for generation\n",
            "{'questions': [{'Question': 'What is the axis of the 1148 Cartesian, 1162 cross, 1016?', 'Answer': 'cartesian', 'id': 1, 'context': 'Q\\n/, 1148\\n\\nCartesian, 1162\\ncross, 1016'}, {'Question': 'What is the main method of 1048?', 'Answer': 'optimization', 'id': 2, 'context': 'see also linear probing, quadratic probing,\\ndouble hashing\\n\\nproblem\\nabstract, 1054\\ncomputational, 5–6\\nconcrete, 1055\\ndecision, 1051, 1054\\nintractable, 1048\\noptimization, 359, 1050, 1054\\nsolution to, 6, 1054–1055\\ntractable, 1048\\n\\nprocedure, 6, 16–17\\nproduct .'}, {'Question': 'What is probabilistic?', 'Answer': 'counting', 'id': 3, 'context': 'probabilistic counting, 143 pr.'}]}\n",
            "11457\n",
            "80659\n"
          ]
        },
        {
          "output_type": "stream",
          "name": "stderr",
          "text": [
            "/usr/local/lib/python3.7/dist-packages/spacy/language.py:1899: UserWarning: [W123] Argument disable with value ['ner', 'textcat', 'parser'] is used instead of ['senter'] as specified in the config. Be aware that this might affect other components in your pipeline.\n",
            "  config_value=config[\"nlp\"][key],\n"
          ]
        },
        {
          "output_type": "stream",
          "name": "stdout",
          "text": [
            "Running model for generation\n",
            "{'questions': [{'Question': 'What is the profession of a wrestler?', 'Answer': 'wrestler', 'id': 1, 'context': 'professional wrestler, 602 ex.'}, {'Question': 'What is 1176 proper subgroup?', 'Answer': 'subgroup', 'id': 2, 'context': 'program counter, 1073\\nprogramming, see dynamic programming,\\n\\nlinear programming\\nproper ancestor, 1176\\nproper descendant, 1176\\nproper subgroup, 944\\nproper subset (\\n), 1159\\nproto van Emde Boas structure, 538–545\\n\\ncluster in, 538\\ncompared with van Emde Boas trees, 547\\ndeletion from, 544\\ninsertion into, 544\\nmaximum in, 544 ex.'}, {'Question': 'What is the 1176 proper descendant?', 'Answer': 'descendant', 'id': 3, 'context': 'program counter, 1073\\nprogramming, see dynamic programming,\\n\\nlinear programming\\nproper ancestor, 1176\\nproper descendant, 1176\\nproper subgroup, 944\\nproper subset (\\n), 1159\\nproto van Emde Boas structure, 538–545\\n\\ncluster in, 538\\ncompared with van Emde Boas trees, 547\\ndeletion from, 544\\ninsertion into, 544\\nmaximum in, 544 ex.'}]}\n",
            "11460\n",
            "80685\n"
          ]
        },
        {
          "output_type": "stream",
          "name": "stderr",
          "text": [
            "/usr/local/lib/python3.7/dist-packages/spacy/language.py:1899: UserWarning: [W123] Argument disable with value ['ner', 'textcat', 'parser'] is used instead of ['senter'] as specified in the config. Be aware that this might affect other components in your pipeline.\n",
            "  config_value=config[\"nlp\"][key],\n"
          ]
        },
        {
          "output_type": "stream",
          "name": "stdout",
          "text": [
            "ZERO\n",
            "11460\n",
            "80709\n"
          ]
        },
        {
          "output_type": "stream",
          "name": "stderr",
          "text": [
            "/usr/local/lib/python3.7/dist-packages/spacy/language.py:1899: UserWarning: [W123] Argument disable with value ['ner', 'textcat', 'parser'] is used instead of ['senter'] as specified in the config. Be aware that this might affect other components in your pipeline.\n",
            "  config_value=config[\"nlp\"][key],\n"
          ]
        },
        {
          "output_type": "stream",
          "name": "stdout",
          "text": [
            "Running model for generation\n",
            "{'questions': [{'Question': 'What is push operation in?', 'Answer': 'algorithms', 'id': 1, 'context': 'push operation (in push-relabel algorithms),\\n\\n738–739\\nnonsaturating, 739, 745\\nsaturating, 739, 745\\n\\npush-relabel algorithm, 736–760, 765\\nbasic operations in, 738–740\\nby discharging an overflowing vertex of\\n\\nmaximum height, 760 ex.'}, {'Question': 'What is public key, 959, 962 public-key?', 'Answer': 'cryptosystem', 'id': 2, 'context': 'public key, 959, 962\\npublic-key cryptosystem, 958–965, 983\\nPUSH\\n\\npush-relabel operation, 739\\nstack operation, 233, 452\\n\\npush onto a run-time stack, 188 pr.'}]}\n",
            "11462\n",
            "80738\n"
          ]
        },
        {
          "output_type": "stream",
          "name": "stderr",
          "text": [
            "/usr/local/lib/python3.7/dist-packages/spacy/language.py:1899: UserWarning: [W123] Argument disable with value ['ner', 'textcat', 'parser'] is used instead of ['senter'] as specified in the config. Be aware that this might affect other components in your pipeline.\n",
            "  config_value=config[\"nlp\"][key],\n"
          ]
        },
        {
          "output_type": "stream",
          "name": "stdout",
          "text": [
            "Running model for generation\n",
            "{'questions': [{'Question': 'What is the name of the queue in breadth-first search?', 'Answer': 'queue', 'id': 1, 'context': 'query, 230\\nqueue, 232, 234–235\\n\\nin breadth-first search, 595\\nimplemented by stacks, 236 ex. generic algorithm, 740–748\\nwith a queue of overflowing vertices, 759 ex. priority, see priority queue\\nin push-relabel algorithms, 759 ex.'}, {'Question': 'What is the queue of overflowing vertices?', 'Answer': 'vertices', 'id': 2, 'context': 'generic algorithm, 740–748\\nwith a queue of overflowing vertices, 759 ex.'}, {'Question': 'What is the 170-190 analysis of, 174-185 average-case analysis of, 181-184 compared with insertion sort, 178 ex.?', 'Answer': 'quicksort', 'id': 3, 'context': 'quicksort, 170–190\\nanalysis of, 174–185\\naverage-case analysis of, 181–184\\ncompared with insertion sort, 178 ex.'}, {'Question': 'What is relabel-to-front algorithm?', 'Answer': 'algorithm', 'id': 4, 'context': 'relabel-to-front algorithm, 748–760\\n\\nquadratic function, 27\\nquadratic probing, 272, 283 pr. generic algorithm, 740–748\\nwith a queue of overflowing vertices, 759 ex.'}]}\n",
            "11466\n",
            "80759\n"
          ]
        },
        {
          "output_type": "stream",
          "name": "stderr",
          "text": [
            "/usr/local/lib/python3.7/dist-packages/spacy/language.py:1899: UserWarning: [W123] Argument disable with value ['ner', 'textcat', 'parser'] is used instead of ['senter'] as specified in the config. Be aware that this might affect other components in your pipeline.\n",
            "  config_value=config[\"nlp\"][key],\n"
          ]
        },
        {
          "output_type": "stream",
          "name": "stdout",
          "text": [
            "Running model for generation\n",
            "{'questions': [{'Question': 'What is the worst-case analysis of 180–181 QUICKSORT, 171 QUICKSORT0, 186 pr.?', 'Answer': 'quicksort', 'id': 1, 'context': 'worst-case analysis of, 180–181\\n\\nQUICKSORT, 171\\nQUICKSORT0, 186 pr.'}, {'Question': 'What is the Rabin-Karp algorithm?', 'Answer': 'algorithm', 'id': 2, 'context': 'quotient, 928\\n\\nR (set of real numbers), 1158\\nRabin-Karp algorithm, 990–995, 1013\\nRABIN-KARP-MATCHER, 993 multithreaded algorithm for, 811 pr.'}, {'Question': 'What sort is used in 185 ex.', 'Answer': 'insertion', 'id': 3, 'context': 'use of insertion sort in, 185 ex.'}]}\n",
            "11469\n",
            "80778\n"
          ]
        },
        {
          "output_type": "stream",
          "name": "stderr",
          "text": [
            "/usr/local/lib/python3.7/dist-packages/spacy/language.py:1899: UserWarning: [W123] Argument disable with value ['ner', 'textcat', 'parser'] is used instead of ['senter'] as specified in the config. Be aware that this might affect other components in your pipeline.\n",
            "  config_value=config[\"nlp\"][key],\n"
          ]
        },
        {
          "output_type": "stream",
          "name": "stdout",
          "text": [
            "Running model for generation\n",
            "{'questions': [{'Question': 'What is the average inputs?', 'Answer': 'inputs', 'id': 1, 'context': 'RAM, 23–24\\nRANDOM, 117\\nrandom-access machine, 23–24\\n\\nparallel, 811\\nrandomized algorithm, 116–117, 122–130\\n\\nand average inputs, 28\\ncomparison sort, 205 pr.'}, {'Question': 'What is the randomized algorithm?', 'Answer': 'algorithm', 'id': 2, 'context': 'RAM, 23–24\\nRANDOM, 117\\nrandom-access machine, 23–24\\n\\nparallel, 811\\nrandomized algorithm, 116–117, 122–130\\n\\nand average inputs, 28\\ncomparison sort, 205 pr.'}, {'Question': 'What is the name of the 23-24 RANDOM machine?', 'Answer': 'ram', 'id': 3, 'context': 'RAM, 23–24\\nRANDOM, 117\\nrandom-access machine, 23–24\\n\\nparallel, 811\\nrandomized algorithm, 116–117, 122–130\\n\\nand average inputs, 28\\ncomparison sort, 205 pr.'}]}\n",
            "11472\n",
            "80804\n"
          ]
        },
        {
          "output_type": "stream",
          "name": "stderr",
          "text": [
            "/usr/local/lib/python3.7/dist-packages/spacy/language.py:1899: UserWarning: [W123] Argument disable with value ['ner', 'textcat', 'parser'] is used instead of ['senter'] as specified in the config. Be aware that this might affect other components in your pipeline.\n",
            "  config_value=config[\"nlp\"][key],\n"
          ]
        },
        {
          "output_type": "stream",
          "name": "stdout",
          "text": [
            "Running model for generation\n",
            "{'questions': [{'Question': 'Who wrote the rho heuristic?', 'Answer': 'pollard', 'id': 1, 'context': 'for permuting an array, 124–128\\nPollard’s rho heuristic, 976–980, 980 ex.,\\n\\n984\\nand probabilistic analysis, 123–124\\nquicksort, 179–180, 185 ex., 187–188 pr.'}, {'Question': 'What is universal hashing?', 'Answer': 'hashing', 'id': 2, 'context': 'for selection, 215–220\\nuniversal hashing, 265–268\\nworst-case performance of, 180 ex.'}, {'Question': 'What is the term for a heuristic for permuting an array?', 'Answer': 'quicksort', 'id': 3, 'context': 'for permuting an array, 124–128\\nPollard’s rho heuristic, 976–980, 980 ex.,\\n\\n984\\nand probabilistic analysis, 123–124\\nquicksort, 179–180, 185 ex., 187–188 pr. RANDOMIZED-HIRE-ASSISTANT, 124\\nRANDOMIZED-PARTITION, 179\\nRANDOMIZED-QUICKSORT, 179, 303 ex.'}]}\n",
            "11475\n",
            "80823\n"
          ]
        },
        {
          "output_type": "stream",
          "name": "stderr",
          "text": [
            "/usr/local/lib/python3.7/dist-packages/spacy/language.py:1899: UserWarning: [W123] Argument disable with value ['ner', 'textcat', 'parser'] is used instead of ['senter'] as specified in the config. Be aware that this might affect other components in your pipeline.\n",
            "  config_value=config[\"nlp\"][key],\n"
          ]
        },
        {
          "output_type": "stream",
          "name": "stdout",
          "text": [
            "Running model for generation\n",
            "{'questions': [{'Question': 'What is the random number generator?', 'Answer': 'permutation', 'id': 1, 'context': 'random-number generator, 117\\nrandom permutation, 124–128\\n\\nuniform, 116, 125\\nRANDOM-SAMPLE, 130 ex.'}, {'Question': 'What is the name of a disjoint-set forest?', 'Answer': 'node', 'id': 2, 'context': 'of a node in a disjoint-set forest, 569, 575,'}]}\n",
            "11477\n",
            "80854\n"
          ]
        },
        {
          "output_type": "stream",
          "name": "stderr",
          "text": [
            "/usr/local/lib/python3.7/dist-packages/spacy/language.py:1899: UserWarning: [W123] Argument disable with value ['ner', 'textcat', 'parser'] is used instead of ['senter'] as specified in the config. Be aware that this might affect other components in your pipeline.\n",
            "  config_value=config[\"nlp\"][key],\n"
          ]
        },
        {
          "output_type": "stream",
          "name": "stdout",
          "text": [
            "Running model for generation\n",
            "{'questions': [{'Question': 'What is the Akra-Bazzi method of solving a problem?', 'Answer': 'recurrence', 'id': 1, 'context': 'recurrence, 34, 65–67, 83–113\\n\\nsolution by Akra-Bazzi method, 112–113\\nsolution by master method, 93–97'}, {'Question': 'What is the most dynamic programming language?', 'Answer': 'programming', 'id': 2, 'context': 'RB-TRANSPLANT, 323\\nreachability in a graph (), 1170\\nreal numbers (R), 1158\\nreconstructing an optimal solution, in dynamic\\n\\nprogramming, 387\\nrecord, 147\\nrectangle, 354 ex.'}, {'Question': 'What is the 1223 rate of growth?', 'Answer': 'row', 'id': 3, 'context': 'row, 1223\\n\\nrate of growth, 28\\nray, 1021 ex.'}]}\n",
            "11480\n",
            "80880\n"
          ]
        },
        {
          "output_type": "stream",
          "name": "stderr",
          "text": [
            "/usr/local/lib/python3.7/dist-packages/spacy/language.py:1899: UserWarning: [W123] Argument disable with value ['ner', 'textcat', 'parser'] is used instead of ['senter'] as specified in the config. Be aware that this might affect other components in your pipeline.\n",
            "  config_value=config[\"nlp\"][key],\n",
            "WARNING:transformers.tokenization_utils_base:Token indices sequence length is longer than the specified maximum sequence length for this model (573 > 512). Running this sequence through the model will result in indexing errors\n"
          ]
        },
        {
          "output_type": "stream",
          "name": "stdout",
          "text": [
            "Running model for generation\n",
            "{'questions': [{'Question': 'What is the recurrence equation, see recurrence recurrence, 30 recurrence tree, 37, 88–93 in proof of master theorem, 98–100 and the substitution method?', 'Answer': 'recursion', 'id': 1, 'context': 'solution by recursion-tree method, 88–93\\nsolution by substitution method, 83–88\\n\\nrecurrence equation, see recurrence\\nrecursion, 30\\nrecursion tree, 37, 88–93\\n\\nin proof of master theorem, 98–100\\nand the substitution method, 91–92\\n\\nRECURSIVE-ACTIVITY-SELECTOR, 419\\nrecursive case, 65\\n\\nRECURSIVE-FFT, 911\\nRECURSIVE-MATRIX-CHAIN, 385\\nred-black tree, 308–338\\n\\naugmentation of, 346–347\\ncompared with B-trees, 484, 490\\ndeletion from, 323–330\\nin determining whether any line segments\\n\\nintersect, 1024\\nfor enumerating keys in a range, 348 ex. solution by recursion-tree method, 88–93\\nsolution by substitution method, 83–88\\n\\nrecurrence equation, see recurrence\\nrecursion, 30\\nrecursion tree, 37, 88–93\\n\\nin proof of master theorem, 98–100\\nand the substitution method, 91–92\\n\\nRECURSIVE-ACTIVITY-SELECTOR, 419\\nrecursive case, 65\\n\\nRECURSIVE-FFT, 911\\nRECURSIVE-MATRIX-CHAIN, 385\\nred-black tree, 308–338\\n\\naugmentation of, 346–347\\ncompared with B-trees, 484, 490\\ndeletion from, 323–330\\nin determining whether any line segments\\n\\nintersect, 1024\\nfor enumerating keys in a range, 348 ex. solution by recursion-tree method, 88–93\\nsolution by substitution method, 83–88\\n\\nrecurrence equation, see recurrence\\nrecursion, 30\\nrecursion tree, 37, 88–93\\n\\nin proof of master theorem, 98–100\\nand the substitution method, 91–92\\n\\nRECURSIVE-ACTIVITY-SELECTOR, 419\\nrecursive case, 65\\n\\nRECURSIVE-FFT, 911\\nRECURSIVE-MATRIX-CHAIN, 385\\nred-black tree, 308–338\\n\\naugmentation of, 346–347\\ncompared with B-trees, 484, 490\\ndeletion from, 323–330\\nin determining whether any line segments\\n\\nintersect, 1024\\nfor enumerating keys in a range, 348 ex.'}]}\n",
            "11481\n",
            "80904\n"
          ]
        },
        {
          "output_type": "stream",
          "name": "stderr",
          "text": [
            "/usr/local/lib/python3.7/dist-packages/spacy/language.py:1899: UserWarning: [W123] Argument disable with value ['ner', 'textcat', 'parser'] is used instead of ['senter'] as specified in the config. Be aware that this might affect other components in your pipeline.\n",
            "  config_value=config[\"nlp\"][key],\n"
          ]
        },
        {
          "output_type": "stream",
          "name": "stdout",
          "text": [
            "Running model for generation\n",
            "{'questions': [{'Question': 'What is the 311 property of?', 'Answer': 'predecessor', 'id': 1, 'context': 'maximum key of, 311\\nminimum key of, 311\\npredecessor in, 311\\nproperties of, 308–312\\nrelaxed, 311 ex.'}]}\n",
            "11482\n",
            "80926\n"
          ]
        },
        {
          "output_type": "stream",
          "name": "stderr",
          "text": [
            "/usr/local/lib/python3.7/dist-packages/spacy/language.py:1899: UserWarning: [W123] Argument disable with value ['ner', 'textcat', 'parser'] is used instead of ['senter'] as specified in the config. Be aware that this might affect other components in your pipeline.\n",
            "  config_value=config[\"nlp\"][key],\n"
          ]
        },
        {
          "output_type": "stream",
          "name": "stdout",
          "text": [
            "Running model for generation\n",
            "{'questions': [{'Question': 'What is the operation of the 740 relabeled vertex in push-relabel algorithms?', 'Answer': 'relabel', 'id': 1, 'context': 'region, feasible, 847\\nregularity condition, 95\\nrejection\\n\\nby an algorithm, 1058\\nby a finite automaton, 996\\n\\nRELABEL, 740\\nrelabeled vertex, 740\\nrelabel operation, in push-relabel algorithms,\\n\\n740, 745\\nRELABEL-TO-FRONT, 755\\nrelabel-to-front algorithm, 748–760\\n\\nphase of, 758\\nrelation, 1163–1166\\nrelatively prime, 931\\nRELAX, 649\\nrelaxation\\n\\nof an edge, 648–650\\nlinear programming, 1125\\n\\n\\n\\n1284 Index\\n\\nrelaxed heap, 530\\nrelaxed red-black tree, 311 ex. region, feasible, 847\\nregularity condition, 95\\nrejection\\n\\nby an algorithm, 1058\\nby a finite automaton, 996\\n\\nRELABEL, 740\\nrelabeled vertex, 740\\nrelabel operation, in push-relabel algorithms,\\n\\n740, 745\\nRELABEL-TO-FRONT, 755\\nrelabel-to-front algorithm, 748–760\\n\\nphase of, 758\\nrelation, 1163–1166\\nrelatively prime, 931\\nRELAX, 649\\nrelaxation\\n\\nof an edge, 648–650\\nlinear programming, 1125\\n\\n\\n\\n1284 Index\\n\\nrelaxed heap, 530\\nrelaxed red-black tree, 311 ex. region, feasible, 847\\nregularity condition, 95\\nrejection\\n\\nby an algorithm, 1058\\nby a finite automaton, 996\\n\\nRELABEL, 740\\nrelabeled vertex, 740\\nrelabel operation, in push-relabel algorithms,\\n\\n740, 745\\nRELABEL-TO-FRONT, 755\\nrelabel-to-front algorithm, 748–760\\n\\nphase of, 758\\nrelation, 1163–1166\\nrelatively prime, 931\\nRELAX, 649\\nrelaxation\\n\\nof an edge, 648–650\\nlinear programming, 1125\\n\\n\\n\\n1284 Index\\n\\nrelaxed heap, 530\\nrelaxed red-black tree, 311 ex.'}, {'Question': 'What is the most efficient way to get rid of a scalar?', 'Answer': 'linear programming', 'id': 2, 'context': 'region, feasible, 847\\nregularity condition, 95\\nrejection\\n\\nby an algorithm, 1058\\nby a finite automaton, 996\\n\\nRELABEL, 740\\nrelabeled vertex, 740\\nrelabel operation, in push-relabel algorithms,\\n\\n740, 745\\nRELABEL-TO-FRONT, 755\\nrelabel-to-front algorithm, 748–760\\n\\nphase of, 758\\nrelation, 1163–1166\\nrelatively prime, 931\\nRELAX, 649\\nrelaxation\\n\\nof an edge, 648–650\\nlinear programming, 1125\\n\\n\\n\\n1284 Index\\n\\nrelaxed heap, 530\\nrelaxed red-black tree, 311 ex.'}, {'Question': 'What is the reason for the rejection of a region, feasible, 847 regularity condition, 95 rejection by?', 'Answer': 'algorithm', 'id': 3, 'context': 'region, feasible, 847\\nregularity condition, 95\\nrejection\\n\\nby an algorithm, 1058\\nby a finite automaton, 996\\n\\nRELABEL, 740\\nrelabeled vertex, 740\\nrelabel operation, in push-relabel algorithms,\\n\\n740, 745\\nRELABEL-TO-FRONT, 755\\nrelabel-to-front algorithm, 748–760\\n\\nphase of, 758\\nrelation, 1163–1166\\nrelatively prime, 931\\nRELAX, 649\\nrelaxation\\n\\nof an edge, 648–650\\nlinear programming, 1125\\n\\n\\n\\n1284 Index\\n\\nrelaxed heap, 530\\nrelaxed red-black tree, 311 ex. region, feasible, 847\\nregularity condition, 95\\nrejection\\n\\nby an algorithm, 1058\\nby a finite automaton, 996\\n\\nRELABEL, 740\\nrelabeled vertex, 740\\nrelabel operation, in push-relabel algorithms,\\n\\n740, 745\\nRELABEL-TO-FRONT, 755\\nrelabel-to-front algorithm, 748–760\\n\\nphase of, 758\\nrelation, 1163–1166\\nrelatively prime, 931\\nRELAX, 649\\nrelaxation\\n\\nof an edge, 648–650\\nlinear programming, 1125\\n\\n\\n\\n1284 Index\\n\\nrelaxed heap, 530\\nrelaxed red-black tree, 311 ex.'}, {'Question': 'What is the result of an algorithm?', 'Answer': 'rejection', 'id': 4, 'context': 'region, feasible, 847\\nregularity condition, 95\\nrejection\\n\\nby an algorithm, 1058\\nby a finite automaton, 996\\n\\nRELABEL, 740\\nrelabeled vertex, 740\\nrelabel operation, in push-relabel algorithms,\\n\\n740, 745\\nRELABEL-TO-FRONT, 755\\nrelabel-to-front algorithm, 748–760\\n\\nphase of, 758\\nrelation, 1163–1166\\nrelatively prime, 931\\nRELAX, 649\\nrelaxation\\n\\nof an edge, 648–650\\nlinear programming, 1125\\n\\n\\n\\n1284 Index\\n\\nrelaxed heap, 530\\nrelaxed red-black tree, 311 ex.'}]}\n",
            "11486\n",
            "80959\n"
          ]
        },
        {
          "output_type": "stream",
          "name": "stderr",
          "text": [
            "/usr/local/lib/python3.7/dist-packages/spacy/language.py:1899: UserWarning: [W123] Argument disable with value ['ner', 'textcat', 'parser'] is used instead of ['senter'] as specified in the config. Be aware that this might affect other components in your pipeline.\n",
            "  config_value=config[\"nlp\"][key],\n"
          ]
        },
        {
          "output_type": "stream",
          "name": "stdout",
          "text": [
            "Running model for generation\n",
            "{'questions': [{'Question': 'In what is the 22 return instruction, 23 reweighting in all-pairs shortest paths, 700–702 in single-source shortest paths, 679 pr. repeated squaring for all-pairs shortest paths, 689 pr. repeated squaring for raising a number to a power, 956 repeat, in?', 'Answer': 'pseudocode', 'id': 1, 'context': 'respecting a set of edges, 626\\nreturn edge, 779\\nreturn, in pseudocode, 22\\nreturn instruction, 23\\nreweighting\\n\\nin all-pairs shortest paths, 700–702\\nin single-source shortest paths, 679 pr. repeated squaring\\n\\nfor all-pairs shortest paths, 689–691\\nfor raising a number to a power, 956\\n\\nrepeat, in pseudocode, 20\\nrepetition factor, of a string, 1012 pr.'}, {'Question': 'What is the shortest of all-pairs?', 'Answer': 'paths', 'id': 2, 'context': 'respecting a set of edges, 626\\nreturn edge, 779\\nreturn, in pseudocode, 22\\nreturn instruction, 23\\nreweighting\\n\\nin all-pairs shortest paths, 700–702\\nin single-source shortest paths, 679 pr. respecting a set of edges, 626\\nreturn edge, 779\\nreturn, in pseudocode, 22\\nreturn instruction, 23\\nreweighting\\n\\nin all-pairs shortest paths, 700–702\\nin single-source shortest paths, 679 pr. repeated squaring\\n\\nfor all-pairs shortest paths, 689–691\\nfor raising a number to a power, 956\\n\\nrepeat, in pseudocode, 20\\nrepetition factor, of a string, 1012 pr.'}, {'Question': 'What is the 716 residual network?', 'Answer': 'network', 'id': 3, 'context': 'residual capacity, 716, 719\\nresidual edge, 716\\nresidual network, 715–719\\nresidue, 54, 928, 982 pr.'}]}\n",
            "11489\n",
            "80981\n"
          ]
        },
        {
          "output_type": "stream",
          "name": "stderr",
          "text": [
            "/usr/local/lib/python3.7/dist-packages/spacy/language.py:1899: UserWarning: [W123] Argument disable with value ['ner', 'textcat', 'parser'] is used instead of ['senter'] as specified in the config. Be aware that this might affect other components in your pipeline.\n",
            "  config_value=config[\"nlp\"][key],\n"
          ]
        },
        {
          "output_type": "stream",
          "name": "stdout",
          "text": [
            "Running model for generation\n",
            "{'questions': [{'Question': 'What is the rotation of a tree?', 'Answer': 'cyclic', 'id': 1, 'context': 'root\\n\\nof a tree, 1176\\nof unity, 906–907\\nof Zn, 955\\n\\nrooted tree, 1176\\nrepresentation of, 246–249\\n\\nroot list, of a Fibonacci heap, 509\\nrotation\\n\\ncyclic, 1012 ex.'}, {'Question': 'What is the right subtree?', 'Answer': 'subtree', 'id': 2, 'context': 'right subtree, 1178\\nrod-cutting, 360–370, 390 ex.'}]}\n",
            "11491\n",
            "81010\n"
          ]
        },
        {
          "output_type": "stream",
          "name": "stderr",
          "text": [
            "/usr/local/lib/python3.7/dist-packages/spacy/language.py:1899: UserWarning: [W123] Argument disable with value ['ner', 'textcat', 'parser'] is used instead of ['senter'] as specified in the config. Be aware that this might affect other components in your pipeline.\n",
            "  config_value=config[\"nlp\"][key],\n"
          ]
        },
        {
          "output_type": "stream",
          "name": "stdout",
          "text": [
            "Running model for generation\n",
            "{'questions': [{'Question': 'What is the public key cryptosystem?', 'Answer': 'rsa', 'id': 1, 'context': 'randomized, 1139\\n\\nrow-major order, 394\\nrow rank, 1223\\nrow vector, 1218\\nRSA public-key cryptosystem, 958–965, 983\\nRS-vEB tree, 557 pr.'}, {'Question': 'What is the name of the space in which the data is collected?', 'Answer': 'sample space', 'id': 2, 'context': 'rule of product, 1184\\nrule of sum, 1183\\nrunning time, 25\\n\\naverage-case, 28, 116\\nbest-case, 29 ex., 49\\nexpected, 28, 117\\nof a graph algorithm, 588\\nand multithreaded computation, 779–780\\norder of growth, 28\\nrate of growth, 28\\nworst-case, 27, 49\\n\\nsabermetrics, 412 n.\\nsafe edge, 626\\nSAME-COMPONENT, 563\\nsample space, 1189\\nsampling, 129 ex., 179\\nSAT, 1079\\nsatellite data, 147, 229'}, {'Question': 'What is RSA public key?', 'Answer': 'cryptosystem', 'id': 3, 'context': 'randomized, 1139\\n\\nrow-major order, 394\\nrow rank, 1223\\nrow vector, 1218\\nRSA public-key cryptosystem, 958–965, 983\\nRS-vEB tree, 557 pr.'}]}\n",
            "11494\n",
            "81038\n"
          ]
        },
        {
          "output_type": "stream",
          "name": "stderr",
          "text": [
            "/usr/local/lib/python3.7/dist-packages/spacy/language.py:1899: UserWarning: [W123] Argument disable with value ['ner', 'textcat', 'parser'] is used instead of ['senter'] as specified in the config. Be aware that this might affect other components in your pipeline.\n",
            "  config_value=config[\"nlp\"][key],\n"
          ]
        },
        {
          "output_type": "stream",
          "name": "stdout",
          "text": [
            "Running model for generation\n",
            "{'questions': [{'Question': 'What is the scaling of scalar multiple?', 'Answer': 'scaling', 'id': 1, 'context': 'scalar multiple, 1220\\nscaling\\n\\nin maximum flow, 762 pr., 765\\nin single-source shortest paths, 679 pr.'}, {'Question': 'What is the single source shortest path?', 'Answer': 'paths', 'id': 2, 'context': 'scalar multiple, 1220\\nscaling\\n\\nin maximum flow, 762 pr., 765\\nin single-source shortest paths, 679 pr.'}]}\n",
            "11496\n",
            "81064\n"
          ]
        },
        {
          "output_type": "stream",
          "name": "stderr",
          "text": [
            "/usr/local/lib/python3.7/dist-packages/spacy/language.py:1899: UserWarning: [W123] Argument disable with value ['ner', 'textcat', 'parser'] is used instead of ['senter'] as specified in the config. Be aware that this might affect other components in your pipeline.\n",
            "  config_value=config[\"nlp\"][key],\n"
          ]
        },
        {
          "output_type": "stream",
          "name": "stdout",
          "text": [
            "Running model for generation\n",
            "{'questions': [{'Question': 'What are chained hash tables?', 'Answer': 'hash tables', 'id': 1, 'context': 'binary search, 39 ex., 799–800\\nin binary search trees, 289–291\\nin B-trees, 491–492\\nin chained hash tables, 258\\nin compact lists, 250 pr. in linked lists, 237\\nin open-address hash tables, 270–271'}, {'Question': 'What is the term for the search of interval trees?', 'Answer': 'linear search', 'id': 2, 'context': 'in interval trees, 350–353\\nlinear search, 22 ex.'}]}\n",
            "11498\n",
            "81091\n"
          ]
        },
        {
          "output_type": "stream",
          "name": "stderr",
          "text": [
            "/usr/local/lib/python3.7/dist-packages/spacy/language.py:1899: UserWarning: [W123] Argument disable with value ['ner', 'textcat', 'parser'] is used instead of ['senter'] as specified in the config. Be aware that this might affect other components in your pipeline.\n",
            "  config_value=config[\"nlp\"][key],\n"
          ]
        },
        {
          "output_type": "stream",
          "name": "stdout",
          "text": [
            "Running model for generation\n",
            "{'questions': [{'Question': 'What is the name of the tree that is a search tree?', 'Answer': 'stacks', 'id': 1, 'context': 'in Van Emde Boas trees, 550\\n\\nsearch tree, see balanced search tree, binary\\nsearch tree, B-tree, exponential search\\ntree, interval tree, optimal binary search\\ntree, order-statistic tree, red-black tree,\\nsplay tree, 2-3 tree, 2-3-4 tree\\n\\nsecondary clustering, 272\\nsecondary hash table, 278\\nsecondary storage\\n\\nsearch tree for, 484–504\\nstacks on, 502 pr.'}, {'Question': 'What is the secondary clustering?', 'Answer': 'clustering', 'id': 2, 'context': 'in Van Emde Boas trees, 550\\n\\nsearch tree, see balanced search tree, binary\\nsearch tree, B-tree, exponential search\\ntree, interval tree, optimal binary search\\ntree, order-statistic tree, red-black tree,\\nsplay tree, 2-3 tree, 2-3-4 tree\\n\\nsecondary clustering, 272\\nsecondary hash table, 278\\nsecondary storage\\n\\nsearch tree for, 484–504\\nstacks on, 502 pr.'}]}\n",
            "11500\n",
            "81111\n"
          ]
        },
        {
          "output_type": "stream",
          "name": "stderr",
          "text": [
            "/usr/local/lib/python3.7/dist-packages/spacy/language.py:1899: UserWarning: [W123] Argument disable with value ['ner', 'textcat', 'parser'] is used instead of ['senter'] as specified in the config. Be aware that this might affect other components in your pipeline.\n",
            "  config_value=config[\"nlp\"][key],\n"
          ]
        },
        {
          "output_type": "stream",
          "name": "stdout",
          "text": [
            "Running model for generation\n",
            "{'questions': [{'Question': 'What is directed segment, line segment SEGMENTS-INTERSECT, 1018 SELECT, 220 selection, 213 of activities, 415–422, 450 and comparison sorts?', 'Answer': 'segment', 'id': 1, 'context': 'segment, see directed segment, line segment\\nSEGMENTS-INTERSECT, 1018\\nSELECT, 220\\nselection, 213\\n\\nof activities, 415–422, 450\\nand comparison sorts, 222\\nin expected linear time, 215–220\\nmultithreaded, 805 ex. segment, see directed segment, line segment\\nSEGMENTS-INTERSECT, 1018\\nSELECT, 220\\nselection, 213\\n\\nof activities, 415–422, 450\\nand comparison sorts, 222\\nin expected linear time, 215–220\\nmultithreaded, 805 ex. segment, see directed segment, line segment\\nSEGMENTS-INTERSECT, 1018\\nSELECT, 220\\nselection, 213\\n\\nof activities, 415–422, 450\\nand comparison sorts, 222\\nin expected linear time, 215–220\\nmultithreaded, 805 ex.'}, {'Question': 'What is the finite, infinite, 1166 inversion in, 41 pr., 122 ex., 345 ex.?', 'Answer': 'finite', 'id': 2, 'context': 'finite, 1166\\ninfinite, 1166\\ninversion in, 41 pr., 122 ex., 345 ex.'}, {'Question': 'What is the most useful graph?', 'Answer': 'graph', 'id': 3, 'context': 'selector vertex, 1093\\nself-loop, 1168\\nself-organizing list, 476 pr., 478\\nsemiconnected graph, 621 ex.'}]}\n",
            "11503\n",
            "81135\n"
          ]
        },
        {
          "output_type": "stream",
          "name": "stderr",
          "text": [
            "/usr/local/lib/python3.7/dist-packages/spacy/language.py:1899: UserWarning: [W123] Argument disable with value ['ner', 'textcat', 'parser'] is used instead of ['senter'] as specified in the config. Be aware that this might affect other components in your pipeline.\n",
            "  config_value=config[\"nlp\"][key],\n"
          ]
        },
        {
          "output_type": "stream",
          "name": "stdout",
          "text": [
            "Running model for generation\n",
            "{'questions': [{'Question': 'What is the name of the multithreaded algorithm?', 'Answer': 'serialization', 'id': 1, 'context': 'probe, 270\\n\\nsequential consistency, 779, 812\\nserial algorithm versus parallel algorithm, 772\\nserialization, of a multithreaded algorithm,\\n\\n774, 776\\nseries, 108 pr., 1146–1148\\n\\nstrands being logically in, 778\\nset (f g), 1158–1163\\n\\ncardinality (j j), 1161\\nconvex, 714 ex.'}, {'Question': 'What is the most common type of multithreaded algorithm?', 'Answer': 'algorithm', 'id': 2, 'context': 'probe, 270\\n\\nsequential consistency, 779, 812\\nserial algorithm versus parallel algorithm, 772\\nserialization, of a multithreaded algorithm,\\n\\n774, 776\\nseries, 108 pr., 1146–1148\\n\\nstrands being logically in, 778\\nset (f g), 1158–1163\\n\\ncardinality (j j), 1161\\nconvex, 714 ex. probe, 270\\n\\nsequential consistency, 779, 812\\nserial algorithm versus parallel algorithm, 772\\nserialization, of a multithreaded algorithm,\\n\\n774, 776\\nseries, 108 pr., 1146–1148\\n\\nstrands being logically in, 778\\nset (f g), 1158–1163\\n\\ncardinality (j j), 1161\\nconvex, 714 ex. probe, 270\\n\\nsequential consistency, 779, 812\\nserial algorithm versus parallel algorithm, 772\\nserialization, of a multithreaded algorithm,\\n\\n774, 776\\nseries, 108 pr., 1146–1148\\n\\nstrands being logically in, 778\\nset (f g), 1158–1163\\n\\ncardinality (j j), 1161\\nconvex, 714 ex.'}, {'Question': 'What is the shape of the 1161 cardinality?', 'Answer': 'convex', 'id': 3, 'context': 'probe, 270\\n\\nsequential consistency, 779, 812\\nserial algorithm versus parallel algorithm, 772\\nserialization, of a multithreaded algorithm,\\n\\n774, 776\\nseries, 108 pr., 1146–1148\\n\\nstrands being logically in, 778\\nset (f g), 1158–1163\\n\\ncardinality (j j), 1161\\nconvex, 714 ex.'}, {'Question': 'What is the shadow of a point, 1038 ex.?', 'Answer': 'shadow', 'id': 4, 'context': 'shadow of a point, 1038 ex.'}]}\n",
            "11507\n",
            "81161\n"
          ]
        },
        {
          "output_type": "stream",
          "name": "stderr",
          "text": [
            "/usr/local/lib/python3.7/dist-packages/spacy/language.py:1899: UserWarning: [W123] Argument disable with value ['ner', 'textcat', 'parser'] is used instead of ['senter'] as specified in the config. Be aware that this might affect other components in your pipeline.\n",
            "  config_value=config[\"nlp\"][key],\n"
          ]
        },
        {
          "output_type": "stream",
          "name": "stdout",
          "text": [
            "ZERO\n",
            "11507\n",
            "81180\n"
          ]
        },
        {
          "output_type": "stream",
          "name": "stderr",
          "text": [
            "/usr/local/lib/python3.7/dist-packages/spacy/language.py:1899: UserWarning: [W123] Argument disable with value ['ner', 'textcat', 'parser'] is used instead of ['senter'] as specified in the config. Be aware that this might affect other components in your pipeline.\n",
            "  config_value=config[\"nlp\"][key],\n"
          ]
        },
        {
          "output_type": "stream",
          "name": "stdout",
          "text": [
            "Running model for generation\n",
            "{'questions': [{'Question': 'Who created the algorithm for 700–706 as a linear program, 859–860 and longest paths, 1048 1286 Index by matrix multiplication, 686–693, 706–707 and negative-weight cycles, 645, 653–654, 692 ex., 700 ex.?', 'Answer': 'johnson', 'id': 1, 'context': 'Johnson’s algorithm for, 700–706\\nas a linear program, 859–860\\nand longest paths, 1048\\n\\n\\n\\n1286 Index\\n\\nby matrix multiplication, 686–693, 706–707\\nand negative-weight cycles, 645, 653–654,\\n\\n692 ex., 700 ex.'}, {'Question': \"How does Johnson's algorithm for, 700–706 as a linear program, 859–860 and longest paths, 1048 1286 Index by?\", 'Answer': 'matrix multiplication', 'id': 2, 'context': 'Johnson’s algorithm for, 700–706\\nas a linear program, 859–860\\nand longest paths, 1048\\n\\n\\n\\n1286 Index\\n\\nby matrix multiplication, 686–693, 706–707\\nand negative-weight cycles, 645, 653–654,\\n\\n692 ex., 700 ex.'}]}\n",
            "11509\n",
            "81205\n"
          ]
        },
        {
          "output_type": "stream",
          "name": "stderr",
          "text": [
            "/usr/local/lib/python3.7/dist-packages/spacy/language.py:1899: UserWarning: [W123] Argument disable with value ['ner', 'textcat', 'parser'] is used instead of ['senter'] as specified in the config. Be aware that this might affect other components in your pipeline.\n",
            "  config_value=config[\"nlp\"][key],\n"
          ]
        },
        {
          "output_type": "stream",
          "name": "stdout",
          "text": [
            "Running model for generation\n",
            "{'questions': [{'Question': 'What is the side of a polygon?', 'Answer': 'polygon', 'id': 1, 'context': 'single-destination, 644\\nsingle-pair, 381, 644\\nsingle-source, 643–683\\ntree of, 647–648, 673–676\\ntriangle inequality of, 650, 671\\nin an unweighted graph, 381, 597\\nupper-bound property of, 650, 671–672\\nin a weighted graph, 643\\n\\nsibling, 1176\\nside of a polygon, 1020 ex. signature, 960\\nsimple cycle, 1170\\nsimple graph, 1170\\nsimple path, 1170\\n\\nlongest, 382, 1048\\nsimple polygon, 1020 ex.'}, {'Question': 'What is the simple uniform hashing algorithm?', 'Answer': 'simplex', 'id': 2, 'context': 'simple uniform hashing, 259\\nsimplex, 848\\nSIMPLEX, 871\\nsimplex algorithm, 848, 864–879, 896–897 simple uniform hashing, 259\\nsimplex, 848\\nSIMPLEX, 871\\nsimplex algorithm, 848, 864–879, 896–897 simple uniform hashing, 259\\nsimplex, 848\\nSIMPLEX, 871\\nsimplex algorithm, 848, 864–879, 896–897'}]}\n",
            "11511\n",
            "81228\n"
          ]
        },
        {
          "output_type": "stream",
          "name": "stderr",
          "text": [
            "/usr/local/lib/python3.7/dist-packages/spacy/language.py:1899: UserWarning: [W123] Argument disable with value ['ner', 'textcat', 'parser'] is used instead of ['senter'] as specified in the config. Be aware that this might affect other components in your pipeline.\n",
            "  config_value=config[\"nlp\"][key],\n"
          ]
        },
        {
          "output_type": "stream",
          "name": "stdout",
          "text": [
            "Running model for generation\n",
            "{'questions': [{'Question': 'What is the longest path?', 'Answer': 'singleton', 'id': 1, 'context': 'and longest paths, 1048\\n\\nsingleton, 1161\\nsingly connected graph, 612 ex.'}, {'Question': 'What is the Bellman-Ford algorithm for?', 'Answer': 'algorithm', 'id': 2, 'context': 'single-destination shortest paths, 644\\nsingle-pair shortest path, 381, 644\\n\\nas a linear program, 859–860\\nsingle-source shortest paths, 643–683\\n\\nBellman-Ford algorithm for, 651–655\\nwith bitonic paths, 682 pr. and difference constraints, 664–670\\nDijkstra’s algorithm for, 658–664\\nin a directed acyclic graph, 655–658\\nin -dense graphs, 706 pr. Gabow’s scaling algorithm for, 679 pr.'}]}\n",
            "11513\n",
            "81248\n"
          ]
        },
        {
          "output_type": "stream",
          "name": "stderr",
          "text": [
            "/usr/local/lib/python3.7/dist-packages/spacy/language.py:1899: UserWarning: [W123] Argument disable with value ['ner', 'textcat', 'parser'] is used instead of ['senter'] as specified in the config. Be aware that this might affect other components in your pipeline.\n",
            "  config_value=config[\"nlp\"][key],\n"
          ]
        },
        {
          "output_type": "stream",
          "name": "stdout",
          "text": [
            "Running model for generation\n",
            "{'questions': [{'Question': 'What is linked list singular matrix?', 'Answer': 'matrix', 'id': 1, 'context': 'see also linked list\\n\\nsingular matrix, 1223\\nsingular value decomposition, 842\\nsink vertex, 593 ex., 709, 712\\nsize\\n\\nof an algorithm’s input, 25, 926–927,\\n1055–1057\\n\\nof a binomial tree, 527 pr.'}]}\n",
            "11514\n",
            "81279\n"
          ]
        },
        {
          "output_type": "stream",
          "name": "stderr",
          "text": [
            "/usr/local/lib/python3.7/dist-packages/spacy/language.py:1899: UserWarning: [W123] Argument disable with value ['ner', 'textcat', 'parser'] is used instead of ['senter'] as specified in the config. Be aware that this might affect other components in your pipeline.\n",
            "  config_value=config[\"nlp\"][key],\n"
          ]
        },
        {
          "output_type": "stream",
          "name": "stdout",
          "text": [
            "Running model for generation\n",
            "{'questions': [{'Question': 'What is the name of the philosopher who wrote the hash table, 256 SLOW-ALL-PAIRS-SHORTEST-PATHS, 689 smoothed analysis, 897?', 'Answer': 'socrates', 'id': 1, 'context': 'of a hash table, 256\\n\\nSLOW-ALL-PAIRS-SHORTEST-PATHS, 689\\nsmoothed analysis, 897\\n?Socrates, 790\\nsolution\\n\\nto an abstract problem, 1054\\nbasic, 866\\nto a computational problem, 6\\nto a concrete problem, 1055\\nfeasible, 665, 846, 851\\ninfeasible, 851\\noptimal, 851\\nto a system of linear equations, 814\\n\\nsorted linked list, 236\\nsee also linked list\\n\\nsorting, 5, 16–20, 30–37, 147–212, 797–805\\nbubblesort, 40 pr.'}, {'Question': 'What is the system of linear equations?', 'Answer': 'equations', 'id': 2, 'context': 'of a hash table, 256\\n\\nSLOW-ALL-PAIRS-SHORTEST-PATHS, 689\\nsmoothed analysis, 897\\n?Socrates, 790\\nsolution\\n\\nto an abstract problem, 1054\\nbasic, 866\\nto a computational problem, 6\\nto a concrete problem, 1055\\nfeasible, 665, 846, 851\\ninfeasible, 851\\noptimal, 851\\nto a system of linear equations, 814\\n\\nsorted linked list, 236\\nsee also linked list\\n\\nsorting, 5, 16–20, 30–37, 147–212, 797–805\\nbubblesort, 40 pr.'}, {'Question': 'What is smoothed analysis?', 'Answer': 'analysis', 'id': 3, 'context': 'of a hash table, 256\\n\\nSLOW-ALL-PAIRS-SHORTEST-PATHS, 689\\nsmoothed analysis, 897\\n?Socrates, 790\\nsolution\\n\\nto an abstract problem, 1054\\nbasic, 866\\nto a computational problem, 6\\nto a concrete problem, 1055\\nfeasible, 665, 846, 851\\ninfeasible, 851\\noptimal, 851\\nto a system of linear equations, 814\\n\\nsorted linked list, 236\\nsee also linked list\\n\\nsorting, 5, 16–20, 30–37, 147–212, 797–805\\nbubblesort, 40 pr.'}]}\n",
            "11517\n",
            "81305\n"
          ]
        },
        {
          "output_type": "stream",
          "name": "stderr",
          "text": [
            "/usr/local/lib/python3.7/dist-packages/spacy/language.py:1899: UserWarning: [W123] Argument disable with value ['ner', 'textcat', 'parser'] is used instead of ['senter'] as specified in the config. Be aware that this might affect other components in your pipeline.\n",
            "  config_value=config[\"nlp\"][key],\n"
          ]
        },
        {
          "output_type": "stream",
          "name": "stdout",
          "text": [
            "Running model for generation\n",
            "{'questions': [{'Question': 'What is the lower bound for, 205 pr.?', 'Answer': 'probabilistic', 'id': 1, 'context': 'probabilistic lower bound for, 205 pr.'}, {'Question': 'What is lower bounds for, 191–194, 211, 531 merge sort, 12, 30–37, 797–805 by oblivious compare-exchange algorithms, 208 pr.?', 'Answer': 'bounds', 'id': 2, 'context': 'lower bounds for, 191–194, 211, 531\\nmerge sort, 12, 30–37, 797–805\\nby oblivious compare-exchange algorithms,\\n\\n208 pr.'}]}\n",
            "11519\n",
            "81330\n"
          ]
        },
        {
          "output_type": "stream",
          "name": "stderr",
          "text": [
            "/usr/local/lib/python3.7/dist-packages/spacy/language.py:1899: UserWarning: [W123] Argument disable with value ['ner', 'textcat', 'parser'] is used instead of ['senter'] as specified in the config. Be aware that this might affect other components in your pipeline.\n",
            "  config_value=config[\"nlp\"][key],\n"
          ]
        },
        {
          "output_type": "stream",
          "name": "stdout",
          "text": [
            "Running model for generation\n",
            "{'questions': [{'Question': 'What is the sorting lemma?', 'Answer': '0-1', 'id': 1, 'context': '0-1 sorting lemma, 208 pr.'}, {'Question': 'What is the 0-1 sorting of?', 'Answer': 'lemma', 'id': 2, 'context': '0-1 sorting lemma, 208 pr.'}]}\n",
            "11521\n",
            "81354\n"
          ]
        },
        {
          "output_type": "stream",
          "name": "stderr",
          "text": [
            "/usr/local/lib/python3.7/dist-packages/spacy/language.py:1899: UserWarning: [W123] Argument disable with value ['ner', 'textcat', 'parser'] is used instead of ['senter'] as specified in the config. Be aware that this might affect other components in your pipeline.\n",
            "  config_value=config[\"nlp\"][key],\n"
          ]
        },
        {
          "output_type": "stream",
          "name": "stdout",
          "text": [
            "Running model for generation\n",
            "{'questions': [{'Question': 'Spindle, 485 spine of a string-matching what?', 'Answer': 'automaton', 'id': 1, 'context': 'spindle, 485\\nspine\\n\\nof a string-matching automaton, 997 fig.'}, {'Question': 'Spindle, 485 spine of a string-matching automaton, 997?', 'Answer': 'fig', 'id': 2, 'context': 'spindle, 485\\nspine\\n\\nof a string-matching automaton, 997 fig.'}]}\n",
            "11523\n",
            "81384\n"
          ]
        },
        {
          "output_type": "stream",
          "name": "stderr",
          "text": [
            "/usr/local/lib/python3.7/dist-packages/spacy/language.py:1899: UserWarning: [W123] Argument disable with value ['ner', 'textcat', 'parser'] is used instead of ['senter'] as specified in the config. Be aware that this might affect other components in your pipeline.\n",
            "  config_value=config[\"nlp\"][key],\n"
          ]
        },
        {
          "output_type": "stream",
          "name": "stdout",
          "text": [
            "Running model for generation\n",
            "{'questions': [{'Question': 'What is the stack, 1030 implemented by?', 'Answer': 'queues', 'id': 1, 'context': 'stack, 232–233\\nin Graham’s scan, 1030\\nimplemented by queues, 236 ex.'}, {'Question': 'Whose scan was used?', 'Answer': 'graham', 'id': 2, 'context': 'stack, 232–233\\nin Graham’s scan, 1030\\nimplemented by queues, 236 ex.'}, {'Question': \"What is the stack, 232-233 in Graham's?\", 'Answer': 'scan', 'id': 3, 'context': 'stack, 232–233\\nin Graham’s scan, 1030\\nimplemented by queues, 236 ex.'}]}\n",
            "11526\n",
            "81409\n"
          ]
        },
        {
          "output_type": "stream",
          "name": "stderr",
          "text": [
            "/usr/local/lib/python3.7/dist-packages/spacy/language.py:1899: UserWarning: [W123] Argument disable with value ['ner', 'textcat', 'parser'] is used instead of ['senter'] as specified in the config. Be aware that this might affect other components in your pipeline.\n",
            "  config_value=config[\"nlp\"][key],\n"
          ]
        },
        {
          "output_type": "stream",
          "name": "stdout",
          "text": [
            "Running model for generation\n",
            "{'questions': [{'Question': 'What is the name of the calculation used in the stencil calculation?', 'Answer': 'stencil', 'id': 1, 'context': 'start state, 995\\nstart time, 415\\nstate of a finite automaton, 995\\nstatic graph, 562 n.\\nstatic set of keys, 277\\nstatic threading, 773\\nstencil, 809 pr. stencil calculation, 809 pr.'}, {'Question': 'What is the standard form of a star-shaped polygon?', 'Answer': 'polygon', 'id': 2, 'context': 'standard form, 846, 850–854\\nstar-shaped polygon, 1038 ex.'}, {'Question': 'What is the static threading?', 'Answer': 'threading', 'id': 3, 'context': 'start state, 995\\nstart time, 415\\nstate of a finite automaton, 995\\nstatic graph, 562 n.\\nstatic set of keys, 277\\nstatic threading, 773\\nstencil, 809 pr.'}]}\n",
            "11529\n",
            "81438\n"
          ]
        },
        {
          "output_type": "stream",
          "name": "stderr",
          "text": [
            "/usr/local/lib/python3.7/dist-packages/spacy/language.py:1899: UserWarning: [W123] Argument disable with value ['ner', 'textcat', 'parser'] is used instead of ['senter'] as specified in the config. Be aware that this might affect other components in your pipeline.\n",
            "  config_value=config[\"nlp\"][key],\n"
          ]
        },
        {
          "output_type": "stream",
          "name": "stdout",
          "text": [
            "ZERO\n",
            "11529\n",
            "81462\n"
          ]
        },
        {
          "output_type": "stream",
          "name": "stderr",
          "text": [
            "/usr/local/lib/python3.7/dist-packages/spacy/language.py:1899: UserWarning: [W123] Argument disable with value ['ner', 'textcat', 'parser'] is used instead of ['senter'] as specified in the config. Be aware that this might affect other components in your pipeline.\n",
            "  config_value=config[\"nlp\"][key],\n"
          ]
        },
        {
          "output_type": "stream",
          "name": "stdout",
          "text": [
            "Running model for generation\n",
            "{'questions': [{'Question': 'What is the term for a subroutine calling?', 'Answer': 'subroutine', 'id': 1, 'context': 'subgroup, 943–946\\nsubpath, 1170\\nsubproblem graph, 367–368\\nsubroutine\\n\\ncalling, 21, 23, 25 n.\\nexecuting, 25 n.\\n\\nsubsequence, 391\\nsubset (), 1159, 1161\\n\\nhereditary family of, 437\\nindependent family of, 437\\n\\nSUBSET-SUM, 1097\\nsubset-sum problem\\n\\napproximation algorithm for, 1128–1134,\\n1139\\n\\nNP-completeness of, 1097–1100\\nwith unary target, 1101 ex.'}, {'Question': 'What is the subroutine doing?', 'Answer': 'calling', 'id': 2, 'context': 'subgroup, 943–946\\nsubpath, 1170\\nsubproblem graph, 367–368\\nsubroutine\\n\\ncalling, 21, 23, 25 n.\\nexecuting, 25 n.\\n\\nsubsequence, 391\\nsubset (), 1159, 1161\\n\\nhereditary family of, 437\\nindependent family of, 437\\n\\nSUBSET-SUM, 1097\\nsubset-sum problem\\n\\napproximation algorithm for, 1128–1134,\\n1139\\n\\nNP-completeness of, 1097–1100\\nwith unary target, 1101 ex.'}]}\n",
            "11531\n",
            "81492\n"
          ]
        },
        {
          "output_type": "stream",
          "name": "stderr",
          "text": [
            "/usr/local/lib/python3.7/dist-packages/spacy/language.py:1899: UserWarning: [W123] Argument disable with value ['ner', 'textcat', 'parser'] is used instead of ['senter'] as specified in the config. Be aware that this might affect other components in your pipeline.\n",
            "  config_value=config[\"nlp\"][key],\n"
          ]
        },
        {
          "output_type": "stream",
          "name": "stdout",
          "text": [
            "Running model for generation\n",
            "{'questions': [{'Question': 'What is 23 subtraction of?', 'Answer': 'matrices', 'id': 1, 'context': 'substring, 1184\\nsubtract instruction, 23\\nsubtraction of matrices, 1221\\nsubtree, 1176\\n\\nmaintaining sizes of, in order-statistic trees,\\n343–344\\n\\nsuccess, in a Bernoulli trial, 1201\\nsuccessor\\n\\nin binary search trees, 291–292\\nin a bit vector with a superimposed binary\\n\\ntree, 533\\nin a bit vector with a superimposed tree of\\n\\nconstant height, 535\\nfinding i th, of a node in an order-statistic\\n\\ntree, 344 ex.'}, {'Question': 'What is the name of the 1201 successor in a binary search tree?', 'Answer': 'binary', 'id': 2, 'context': 'substring, 1184\\nsubtract instruction, 23\\nsubtraction of matrices, 1221\\nsubtree, 1176\\n\\nmaintaining sizes of, in order-statistic trees,\\n343–344\\n\\nsuccess, in a Bernoulli trial, 1201\\nsuccessor\\n\\nin binary search trees, 291–292\\nin a bit vector with a superimposed binary\\n\\ntree, 533\\nin a bit vector with a superimposed tree of\\n\\nconstant height, 535\\nfinding i th, of a node in an order-statistic\\n\\ntree, 344 ex. substring, 1184\\nsubtract instruction, 23\\nsubtraction of matrices, 1221\\nsubtree, 1176\\n\\nmaintaining sizes of, in order-statistic trees,\\n343–344\\n\\nsuccess, in a Bernoulli trial, 1201\\nsuccessor\\n\\nin binary search trees, 291–292\\nin a bit vector with a superimposed binary\\n\\ntree, 533\\nin a bit vector with a superimposed tree of\\n\\nconstant height, 535\\nfinding i th, of a node in an order-statistic\\n\\ntree, 344 ex.'}]}\n",
            "11533\n",
            "81517\n"
          ]
        },
        {
          "output_type": "stream",
          "name": "stderr",
          "text": [
            "/usr/local/lib/python3.7/dist-packages/spacy/language.py:1899: UserWarning: [W123] Argument disable with value ['ner', 'textcat', 'parser'] is used instead of ['senter'] as specified in the config. Be aware that this might affect other components in your pipeline.\n",
            "  config_value=config[\"nlp\"][key],\n"
          ]
        },
        {
          "output_type": "stream",
          "name": "stdout",
          "text": [
            "Running model for generation\n",
            "{'questions': [{'Question': 'What is infinite?', 'Answer': 'matrices', 'id': 1, 'context': 'infinite, 1145\\nof matrices, 1220\\nof polynomials, 898\\nrule of, 1183\\ntelescoping, 1148\\n\\nSUM-ARRAYS, 805 pr.'}]}\n",
            "11534\n",
            "81547\n"
          ]
        },
        {
          "output_type": "stream",
          "name": "stderr",
          "text": [
            "/usr/local/lib/python3.7/dist-packages/spacy/language.py:1899: UserWarning: [W123] Argument disable with value ['ner', 'textcat', 'parser'] is used instead of ['senter'] as specified in the config. Be aware that this might affect other components in your pipeline.\n",
            "  config_value=config[\"nlp\"][key],\n"
          ]
        },
        {
          "output_type": "stream",
          "name": "stdout",
          "text": [
            "Running model for generation\n",
            "{'questions': [{'Question': 'What is the linearity of 1145-1149?', 'Answer': 'linearity', 'id': 1, 'context': 'summation, 1145–1157\\nin asymptotic notation, 49–50, 1146\\nbounding, 1149–1156\\nformulas and properties of, 1145–1149\\nlinearity of, 1146\\n\\nsummation lemma, 908\\nsupercomputer, 772\\nsuperpolynomial time, 1048\\nsupersink, 712\\nsupersource, 712\\nsurjection, 1167\\nSVD, 842\\nsweeping, 1021–1029, 1045 pr.'}, {'Question': 'What is the 908?', 'Answer': 'supercomputer', 'id': 2, 'context': 'summation, 1145–1157\\nin asymptotic notation, 49–50, 1146\\nbounding, 1149–1156\\nformulas and properties of, 1145–1149\\nlinearity of, 1146\\n\\nsummation lemma, 908\\nsupercomputer, 772\\nsuperpolynomial time, 1048\\nsupersink, 712\\nsupersource, 712\\nsurjection, 1167\\nSVD, 842\\nsweeping, 1021–1029, 1045 pr.'}, {'Question': 'What is bounding?', 'Answer': 'bounding', 'id': 3, 'context': 'summation, 1145–1157\\nin asymptotic notation, 49–50, 1146\\nbounding, 1149–1156\\nformulas and properties of, 1145–1149\\nlinearity of, 1146\\n\\nsummation lemma, 908\\nsupercomputer, 772\\nsuperpolynomial time, 1048\\nsupersink, 712\\nsupersource, 712\\nsurjection, 1167\\nSVD, 842\\nsweeping, 1021–1029, 1045 pr.'}, {'Question': 'What is the 1145-1157 in asymptotic notation?', 'Answer': 'summation', 'id': 4, 'context': 'summation, 1145–1157\\nin asymptotic notation, 49–50, 1146\\nbounding, 1149–1156\\nformulas and properties of, 1145–1149\\nlinearity of, 1146\\n\\nsummation lemma, 908\\nsupercomputer, 772\\nsuperpolynomial time, 1048\\nsupersink, 712\\nsupersource, 712\\nsurjection, 1167\\nSVD, 842\\nsweeping, 1021–1029, 1045 pr. summation, 1145–1157\\nin asymptotic notation, 49–50, 1146\\nbounding, 1149–1156\\nformulas and properties of, 1145–1149\\nlinearity of, 1146\\n\\nsummation lemma, 908\\nsupercomputer, 772\\nsuperpolynomial time, 1048\\nsupersink, 712\\nsupersource, 712\\nsurjection, 1167\\nSVD, 842\\nsweeping, 1021–1029, 1045 pr.'}]}\n",
            "11538\n",
            "81575\n"
          ]
        },
        {
          "output_type": "stream",
          "name": "stderr",
          "text": [
            "/usr/local/lib/python3.7/dist-packages/spacy/language.py:1899: UserWarning: [W123] Argument disable with value ['ner', 'textcat', 'parser'] is used instead of ['senter'] as specified in the config. Be aware that this might affect other components in your pipeline.\n",
            "  config_value=config[\"nlp\"][key],\n"
          ]
        },
        {
          "output_type": "stream",
          "name": "stdout",
          "text": [
            "Running model for generation\n",
            "{'questions': [{'Question': 'What is the 52 sync in?', 'Answer': 'pseudocode', 'id': 1, 'context': '842\\nsymmetric relation, 1163\\nsymmetry of ‚-notation, 52\\nsync, in pseudocode, 776–777\\nsystem of difference constraints, 664–670\\nsystem of linear equations, 806 pr., 813–827,\\n\\n840 pr.'}]}\n",
            "11539\n",
            "81602\n"
          ]
        },
        {
          "output_type": "stream",
          "name": "stderr",
          "text": [
            "/usr/local/lib/python3.7/dist-packages/spacy/language.py:1899: UserWarning: [W123] Argument disable with value ['ner', 'textcat', 'parser'] is used instead of ['senter'] as specified in the config. Be aware that this might affect other components in your pipeline.\n",
            "  config_value=config[\"nlp\"][key],\n"
          ]
        },
        {
          "output_type": "stream",
          "name": "stdout",
          "text": [
            "Running model for generation\n",
            "{'questions': [{'Question': 'What is the name of the series that has a 306 pr.?', 'Answer': 'taylor series', 'id': 1, 'context': 'Taylor series, 306 pr.'}]}\n",
            "11540\n",
            "81628\n"
          ]
        },
        {
          "output_type": "stream",
          "name": "stderr",
          "text": [
            "/usr/local/lib/python3.7/dist-packages/spacy/language.py:1899: UserWarning: [W123] Argument disable with value ['ner', 'textcat', 'parser'] is used instead of ['senter'] as specified in the config. Be aware that this might affect other components in your pipeline.\n",
            "  config_value=config[\"nlp\"][key],\n"
          ]
        },
        {
          "output_type": "stream",
          "name": "stdout",
          "text": [
            "Running model for generation\n",
            "{'questions': [{'Question': 'In what type of computing is single-source shortest paths in?', 'Answer': 'dag', 'id': 1, 'context': 'to, in pseudocode, 20\\nTOP, 1031\\ntop-down method, for dynamic programming,\\n\\n365\\ntop of a stack, 232\\ntopological sort, 8, 612–615, 623\\n\\nin computing single-source shortest paths in\\na dag, 655\\n\\nTOPOLOGICAL-SORT, 613\\ntotal order, 1165\\ntotal path length, 304 pr.'}]}\n",
            "11541\n",
            "81657\n"
          ]
        },
        {
          "output_type": "stream",
          "name": "stderr",
          "text": [
            "/usr/local/lib/python3.7/dist-packages/spacy/language.py:1899: UserWarning: [W123] Argument disable with value ['ner', 'textcat', 'parser'] is used instead of ['senter'] as specified in the config. Be aware that this might affect other components in your pipeline.\n",
            "  config_value=config[\"nlp\"][key],\n"
          ]
        },
        {
          "output_type": "stream",
          "name": "stdout",
          "text": [
            "Running model for generation\n",
            "{'questions': [{'Question': 'What is boolean matrix multiplication?', 'Answer': 'matrix multiplication', 'id': 1, 'context': 'transitive closure, 697–699\\n\\nand boolean matrix multiplication, 832 ex.'}, {'Question': 'What is the most dynamic type of graph?', 'Answer': 'graphs', 'id': 2, 'context': 'of dynamic graphs, 705 pr., 707\\n\\nTRANSITIVE-CLOSURE, 698\\ntransitive relation, 1163\\ntransitivity of asymptotic notation, 51\\nTRANSPLANT, 296, 323\\ntranspose\\n\\nconjugate, 832 ex.'}, {'Question': 'What is the name of the matrix, 1217 of a matrix, multithreaded, 792 ex.?', 'Answer': 'matrix', 'id': 3, 'context': 'of a matrix, 1217\\nof a matrix, multithreaded, 792 ex. of a matrix, 1217\\nof a matrix, multithreaded, 792 ex.'}]}\n",
            "11544\n",
            "81679\n"
          ]
        },
        {
          "output_type": "stream",
          "name": "stderr",
          "text": [
            "/usr/local/lib/python3.7/dist-packages/spacy/language.py:1899: UserWarning: [W123] Argument disable with value ['ner', 'textcat', 'parser'] is used instead of ['senter'] as specified in the config. Be aware that this might affect other components in your pipeline.\n",
            "  config_value=config[\"nlp\"][key],\n"
          ]
        },
        {
          "output_type": "stream",
          "name": "stdout",
          "text": [
            "Running model for generation\n",
            "{'questions': [{'Question': 'NP-completeness of, 1096–1097 with what inequality?', 'Answer': 'triangle inequality', 'id': 1, 'context': 'NP-completeness of, 1096–1097\\nwith the triangle inequality, 1112–1115\\nwithout the triangle inequality, 1115–1116\\n\\n\\n\\n1290 Index\\n\\ntraversal of a tree, 287, 293 ex., 342, 1114\\ntreap, 333 pr., 338\\nTREAP-INSERT, 333 pr. NP-completeness of, 1096–1097\\nwith the triangle inequality, 1112–1115\\nwithout the triangle inequality, 1115–1116\\n\\n\\n\\n1290 Index\\n\\ntraversal of a tree, 287, 293 ex., 342, 1114\\ntreap, 333 pr., 338\\nTREAP-INSERT, 333 pr.'}, {'Question': 'What is the binary tree binomial?', 'Answer': 'binary', 'id': 2, 'context': 'tree, 1173–1180\\n\\nAA-trees, 338\\nAVL, 333 pr., 337\\nbinary, see binary tree\\nbinomial, 527 pr. tree, 1173–1180\\n\\nAA-trees, 338\\nAVL, 333 pr., 337\\nbinary, see binary tree\\nbinomial, 527 pr.'}, {'Question': 'What is the bisection of 1181 pr.', 'Answer': 'bisection', 'id': 3, 'context': 'bisection of, 1181 pr.'}, {'Question': 'What is the avl of a tree?', 'Answer': 'avl', 'id': 4, 'context': 'tree, 1173–1180\\n\\nAA-trees, 338\\nAVL, 333 pr., 337\\nbinary, see binary tree\\nbinomial, 527 pr.'}]}\n",
            "11548\n",
            "81708\n"
          ]
        },
        {
          "output_type": "stream",
          "name": "stderr",
          "text": [
            "/usr/local/lib/python3.7/dist-packages/spacy/language.py:1899: UserWarning: [W123] Argument disable with value ['ner', 'textcat', 'parser'] is used instead of ['senter'] as specified in the config. Be aware that this might affect other components in your pipeline.\n",
            "  config_value=config[\"nlp\"][key],\n"
          ]
        },
        {
          "output_type": "stream",
          "name": "stdout",
          "text": [
            "Running model for generation\n",
            "{'questions': [{'Question': 'What is a spanning tree?', 'Answer': 'splay', 'id': 1, 'context': 'height of, 1177\\ninterval, 348–354\\nk-neighbor, 338\\nminimum spanning, see minimum spanning\\n\\ntree\\noptimal binary search, 397–404, 413\\norder-statistic, 339–345\\nparse, 1082\\nrecursion, 37, 88–93\\nred-black, see red-black tree\\nrooted, 246–249, 1176\\nscapegoat, 338\\nsearch, see search tree\\nshortest-paths, 647–648, 673–676\\nspanning, see minimum spanning tree,\\n\\nspanning tree\\nsplay, 338, 482\\ntreap, 333 pr., 338\\n2-3, 337, 504\\n2-3-4, 489, 503 pr.'}, {'Question': 'What is the parse tree?', 'Answer': 'parse', 'id': 2, 'context': 'height of, 1177\\ninterval, 348–354\\nk-neighbor, 338\\nminimum spanning, see minimum spanning\\n\\ntree\\noptimal binary search, 397–404, 413\\norder-statistic, 339–345\\nparse, 1082\\nrecursion, 37, 88–93\\nred-black, see red-black tree\\nrooted, 246–249, 1176\\nscapegoat, 338\\nsearch, see search tree\\nshortest-paths, 647–648, 673–676\\nspanning, see minimum spanning tree,\\n\\nspanning tree\\nsplay, 338, 482\\ntreap, 333 pr., 338\\n2-3, 337, 504\\n2-3-4, 489, 503 pr.'}, {'Question': 'What is the term for a tree that is rooted in red-black?', 'Answer': 'recursion', 'id': 3, 'context': 'height of, 1177\\ninterval, 348–354\\nk-neighbor, 338\\nminimum spanning, see minimum spanning\\n\\ntree\\noptimal binary search, 397–404, 413\\norder-statistic, 339–345\\nparse, 1082\\nrecursion, 37, 88–93\\nred-black, see red-black tree\\nrooted, 246–249, 1176\\nscapegoat, 338\\nsearch, see search tree\\nshortest-paths, 647–648, 673–676\\nspanning, see minimum spanning tree,\\n\\nspanning tree\\nsplay, 338, 482\\ntreap, 333 pr., 338\\n2-3, 337, 504\\n2-3-4, 489, 503 pr.'}, {'Question': 'What is the minimum spanning tree, spanning tree splay, 338, 482 treap, 333 pr., 338 2-3, 337, 504 2-3-4, 489, 503 pr.?', 'Answer': 'spanning', 'id': 4, 'context': 'height of, 1177\\ninterval, 348–354\\nk-neighbor, 338\\nminimum spanning, see minimum spanning\\n\\ntree\\noptimal binary search, 397–404, 413\\norder-statistic, 339–345\\nparse, 1082\\nrecursion, 37, 88–93\\nred-black, see red-black tree\\nrooted, 246–249, 1176\\nscapegoat, 338\\nsearch, see search tree\\nshortest-paths, 647–648, 673–676\\nspanning, see minimum spanning tree,\\n\\nspanning tree\\nsplay, 338, 482\\ntreap, 333 pr., 338\\n2-3, 337, 504\\n2-3-4, 489, 503 pr. height of, 1177\\ninterval, 348–354\\nk-neighbor, 338\\nminimum spanning, see minimum spanning\\n\\ntree\\noptimal binary search, 397–404, 413\\norder-statistic, 339–345\\nparse, 1082\\nrecursion, 37, 88–93\\nred-black, see red-black tree\\nrooted, 246–249, 1176\\nscapegoat, 338\\nsearch, see search tree\\nshortest-paths, 647–648, 673–676\\nspanning, see minimum spanning tree,\\n\\nspanning tree\\nsplay, 338, 482\\ntreap, 333 pr., 338\\n2-3, 337, 504\\n2-3-4, 489, 503 pr. height of, 1177\\ninterval, 348–354\\nk-neighbor, 338\\nminimum spanning, see minimum spanning\\n\\ntree\\noptimal binary search, 397–404, 413\\norder-statistic, 339–345\\nparse, 1082\\nrecursion, 37, 88–93\\nred-black, see red-black tree\\nrooted, 246–249, 1176\\nscapegoat, 338\\nsearch, see search tree\\nshortest-paths, 647–648, 673–676\\nspanning, see minimum spanning tree,\\n\\nspanning tree\\nsplay, 338, 482\\ntreap, 333 pr., 338\\n2-3, 337, 504\\n2-3-4, 489, 503 pr.'}]}\n",
            "11552\n",
            "81734\n"
          ]
        },
        {
          "output_type": "stream",
          "name": "stderr",
          "text": [
            "/usr/local/lib/python3.7/dist-packages/spacy/language.py:1899: UserWarning: [W123] Argument disable with value ['ner', 'textcat', 'parser'] is used instead of ['senter'] as specified in the config. Be aware that this might affect other components in your pipeline.\n",
            "  config_value=config[\"nlp\"][key],\n"
          ]
        },
        {
          "output_type": "stream",
          "name": "stdout",
          "text": [
            "Running model for generation\n",
            "{'questions': [{'Question': 'Who was responsible for the 1201 trial division?', 'Answer': 'bernoulli', 'id': 1, 'context': 'van Emde Boas, 531–560\\nwalk of, 287, 293 ex., 342, 1114\\nweight-balanced trees, 338\\n\\nTREE-DELETE, 298, 299 ex., 323–324\\ntree edge, 601, 603, 609\\nTREE-INSERT, 294, 315\\nTREE-MAXIMUM, 291\\nTREE-MINIMUM, 291\\n\\nTREE-PREDECESSOR, 292\\nTREE-SEARCH, 290\\nTREE-SUCCESSOR, 292\\ntree walk, 287, 293 ex., 342, 1114\\ntrial, Bernoulli, 1201\\ntrial division, 966\\ntriangle inequality, 1112\\n\\nfor shortest paths, 650, 671\\ntriangular matrix, 1219, 1222 ex., 1225 ex.'}, {'Question': 'What is the 966 triangle inequality?', 'Answer': 'triangle inequality', 'id': 2, 'context': 'van Emde Boas, 531–560\\nwalk of, 287, 293 ex., 342, 1114\\nweight-balanced trees, 338\\n\\nTREE-DELETE, 298, 299 ex., 323–324\\ntree edge, 601, 603, 609\\nTREE-INSERT, 294, 315\\nTREE-MAXIMUM, 291\\nTREE-MINIMUM, 291\\n\\nTREE-PREDECESSOR, 292\\nTREE-SEARCH, 290\\nTREE-SUCCESSOR, 292\\ntree walk, 287, 293 ex., 342, 1114\\ntrial, Bernoulli, 1201\\ntrial division, 966\\ntriangle inequality, 1112\\n\\nfor shortest paths, 650, 671\\ntriangular matrix, 1219, 1222 ex., 1225 ex.'}]}\n",
            "11554\n",
            "81756\n"
          ]
        },
        {
          "output_type": "stream",
          "name": "stderr",
          "text": [
            "/usr/local/lib/python3.7/dist-packages/spacy/language.py:1899: UserWarning: [W123] Argument disable with value ['ner', 'textcat', 'parser'] is used instead of ['senter'] as specified in the config. Be aware that this might affect other components in your pipeline.\n",
            "  config_value=config[\"nlp\"][key],\n"
          ]
        },
        {
          "output_type": "stream",
          "name": "stdout",
          "text": [
            "Running model for generation\n",
            "{'questions': [{'Question': 'What is the tridiagonal matrix?', 'Answer': 'trie', 'id': 1, 'context': 'tridiagonal matrix, 1219\\ntrie (radix tree), 304 pr.'}]}\n",
            "11555\n",
            "81785\n"
          ]
        },
        {
          "output_type": "stream",
          "name": "stderr",
          "text": [
            "/usr/local/lib/python3.7/dist-packages/spacy/language.py:1899: UserWarning: [W123] Argument disable with value ['ner', 'textcat', 'parser'] is used instead of ['senter'] as specified in the config. Be aware that this might affect other components in your pipeline.\n",
            "  config_value=config[\"nlp\"][key],\n"
          ]
        },
        {
          "output_type": "stream",
          "name": "stdout",
          "text": [
            "Running model for generation\n",
            "{'questions': [{'Question': '814 underflow of what?', 'Answer': 'queue', 'id': 1, 'context': 'uncountable set, 1161\\nunderdetermined system of linear equations,\\n\\n814\\nunderflow\\n\\nof a queue, 234\\nof a stack, 233\\n\\nundirected graph, 1168\\narticulation point of, 621 pr.'}, {'Question': '234 of what?', 'Answer': 'stack', 'id': 2, 'context': 'uncountable set, 1161\\nunderdetermined system of linear equations,\\n\\n814\\nunderflow\\n\\nof a queue, 234\\nof a stack, 233\\n\\nundirected graph, 1168\\narticulation point of, 621 pr.'}]}\n",
            "11557\n",
            "81816\n"
          ]
        },
        {
          "output_type": "stream",
          "name": "stderr",
          "text": [
            "/usr/local/lib/python3.7/dist-packages/spacy/language.py:1899: UserWarning: [W123] Argument disable with value ['ner', 'textcat', 'parser'] is used instead of ['senter'] as specified in the config. Be aware that this might affect other components in your pipeline.\n",
            "  config_value=config[\"nlp\"][key],\n"
          ]
        },
        {
          "output_type": "stream",
          "name": "stdout",
          "text": [
            "Running model for generation\n",
            "{'questions': [{'Question': 'What is the union by rank, 569 unique factorization of integers, 931 unit (1), 928 uniting of Fibonacci heaps, 511–512 of linked lists, 241 ex.?', 'Answer': 'factorization', 'id': 1, 'context': 'union by rank, 569\\nunique factorization of integers, 931\\nunit (1), 928\\nuniting\\n\\nof Fibonacci heaps, 511–512\\nof heaps, 506\\nof linked lists, 241 ex.'}, {'Question': 'Union by rank, 569 unique factorization of what?', 'Answer': 'integers', 'id': 2, 'context': 'union by rank, 569\\nunique factorization of integers, 931\\nunit (1), 928\\nuniting\\n\\nof Fibonacci heaps, 511–512\\nof heaps, 506\\nof linked lists, 241 ex.'}]}\n",
            "11559\n",
            "81842\n"
          ]
        },
        {
          "output_type": "stream",
          "name": "stderr",
          "text": [
            "/usr/local/lib/python3.7/dist-packages/spacy/language.py:1899: UserWarning: [W123] Argument disable with value ['ner', 'textcat', 'parser'] is used instead of ['senter'] as specified in the config. Be aware that this might affect other components in your pipeline.\n",
            "  config_value=config[\"nlp\"][key],\n"
          ]
        },
        {
          "output_type": "stream",
          "name": "stdout",
          "text": [
            "Running model for generation\n",
            "{'questions': [{'Question': '1218 universal collection of what?', 'Answer': 'hash functions', 'id': 1, 'context': 'unit lower-triangular matrix, 1219\\nunit-time task, 443\\nunit upper-triangular matrix, 1219\\nunit vector, 1218\\nuniversal collection of hash functions, 265\\nuniversal hashing, 265–268\\nuniversal sink, 593 ex.'}, {'Question': 'What is unit lower-triangular matrix?', 'Answer': 'matrix', 'id': 2, 'context': 'unit lower-triangular matrix, 1219\\nunit-time task, 443\\nunit upper-triangular matrix, 1219\\nunit vector, 1218\\nuniversal collection of hash functions, 265\\nuniversal hashing, 265–268\\nuniversal sink, 593 ex. unit lower-triangular matrix, 1219\\nunit-time task, 443\\nunit upper-triangular matrix, 1219\\nunit vector, 1218\\nuniversal collection of hash functions, 265\\nuniversal hashing, 265–268\\nuniversal sink, 593 ex.'}, {'Question': 'What are the van Emde Boas trees?', 'Answer': 'keys', 'id': 3, 'context': 'universe, 1160\\n\\nof keys in van Emde Boas trees, 532\\nuniverse size, 532\\nunmatched vertex, 732\\nunsorted linked list, 236\\n\\nsee also linked list\\nuntil, in pseudocode, 20\\nunweighted longest simple paths, 382\\nunweighted shortest paths, 381\\nupper bound, 47\\n\\nupper-bound property, 650, 671–672\\nupper median, 213'}]}\n",
            "11562\n",
            "81865\n"
          ]
        },
        {
          "output_type": "stream",
          "name": "stderr",
          "text": [
            "/usr/local/lib/python3.7/dist-packages/spacy/language.py:1899: UserWarning: [W123] Argument disable with value ['ner', 'textcat', 'parser'] is used instead of ['senter'] as specified in the config. Be aware that this might affect other components in your pipeline.\n",
            "  config_value=config[\"nlp\"][key],\n"
          ]
        },
        {
          "output_type": "stream",
          "name": "stdout",
          "text": [
            "Running model for generation\n",
            "{'questions': [{'Question': 'What is the value over?', 'Answer': 'replacement player', 'id': 1, 'context': 'valid shift, 985\\nvalue\\n\\nof a flow, 710\\nof a function, 1166\\nobjective, 847, 851\\n\\nvalue over replacement player, 411 pr.'}, {'Question': 'What is the upper square root of p, 546 upper-triangular matrix?', 'Answer': 'matrix', 'id': 2, 'context': 'upper square root\\n\\n\\n\"\\np \\n\\n, 546\\nupper-triangular matrix, 1219, 1225 ex. Vandermonde matrix, 902, 1226 pr.'}, {'Question': 'What is the van Emde Boas tree?', 'Answer': 'cluster', 'id': 3, 'context': 'van Emde Boas tree, 531–560\\n\\ncluster in, 546\\ncompared with proto van Emde Boas\\n\\nstructures, 547\\ndeletion from, 554–556\\ninsertion into, 552–554\\nmaximum in, 550\\nmembership in, 550\\nminimum in, 550\\npredecessor in, 551–552\\nwith reduced space, 557 pr.'}]}\n",
            "11565\n",
            "81898\n"
          ]
        },
        {
          "output_type": "stream",
          "name": "stderr",
          "text": [
            "/usr/local/lib/python3.7/dist-packages/spacy/language.py:1899: UserWarning: [W123] Argument disable with value ['ner', 'textcat', 'parser'] is used instead of ['senter'] as specified in the config. Be aware that this might affect other components in your pipeline.\n",
            "  config_value=config[\"nlp\"][key],\n"
          ]
        },
        {
          "output_type": "stream",
          "name": "stdout",
          "text": [
            "ZERO\n",
            "11565\n",
            "81929\n"
          ]
        },
        {
          "output_type": "stream",
          "name": "stderr",
          "text": [
            "/usr/local/lib/python3.7/dist-packages/spacy/language.py:1899: UserWarning: [W123] Argument disable with value ['ner', 'textcat', 'parser'] is used instead of ['senter'] as specified in the config. Be aware that this might affect other components in your pipeline.\n",
            "  config_value=config[\"nlp\"][key],\n"
          ]
        },
        {
          "output_type": "stream",
          "name": "stdout",
          "text": [
            "Running model for generation\n",
            "{'questions': [{'Question': 'What is the 1015 diagram?', 'Answer': 'venn diagram', 'id': 1, 'context': '1292 Index\\n\\nvector, 1218, 1222–1224\\nconvolution of, 901\\ncross product of, 1016\\northonormal, 842\\nin the plane, 1015\\n\\nVenn diagram, 1160\\nverification, 1061–1066\\n\\nof spanning trees, 642\\nverification algorithm, 1063\\nvertex\\n\\narticulation point, 621 pr.'}, {'Question': 'What is the capacity of 592, 714 ex.?', 'Answer': 'attributes', 'id': 2, 'context': 'attributes of, 592\\ncapacity of, 714 ex.'}, {'Question': 'What is the cover for the 1090 vertex problem approximation algorithm?', 'Answer': 'vertex', 'id': 3, 'context': '1292 Index\\n\\nvector, 1218, 1222–1224\\nconvolution of, 901\\ncross product of, 1016\\northonormal, 842\\nin the plane, 1015\\n\\nVenn diagram, 1160\\nverification, 1061–1066\\n\\nof spanning trees, 642\\nverification algorithm, 1063\\nvertex\\n\\narticulation point, 621 pr. relabeled, 740\\nselector, 1093\\n\\nvertex cover, 1089, 1108, 1124–1127, 1139\\nVERTEX-COVER, 1090\\nvertex-cover problem\\n\\napproximation algorithm for, 1108–1111, relabeled, 740\\nselector, 1093\\n\\nvertex cover, 1089, 1108, 1124–1127, 1139\\nVERTEX-COVER, 1090\\nvertex-cover problem\\n\\napproximation algorithm for, 1108–1111,'}]}\n",
            "11568\n",
            "81960\n"
          ]
        },
        {
          "output_type": "stream",
          "name": "stderr",
          "text": [
            "/usr/local/lib/python3.7/dist-packages/spacy/language.py:1899: UserWarning: [W123] Argument disable with value ['ner', 'textcat', 'parser'] is used instead of ['senter'] as specified in the config. Be aware that this might affect other components in your pipeline.\n",
            "  config_value=config[\"nlp\"][key],\n"
          ]
        },
        {
          "output_type": "stream",
          "name": "stdout",
          "text": [
            "Running model for generation\n",
            "{'questions': [{'Question': 'What constraint is 1139 NP-completeness, 1089–1091, 1168 violation, of?', 'Answer': 'equality', 'id': 1, 'context': '1139\\n\\nNP-completeness of, 1089–1091, 1105\\nvertex set, 1168\\nviolation, of an equality constraint, 865\\nvirtual memory, 24\\nViterbi algorithm, 408 pr.'}, {'Question': 'What is the result of the equality constraint?', 'Answer': 'violation', 'id': 2, 'context': '1139\\n\\nNP-completeness of, 1089–1091, 1105\\nvertex set, 1168\\nviolation, of an equality constraint, 865\\nvirtual memory, 24\\nViterbi algorithm, 408 pr.'}]}\n",
            "11570\n",
            "81984\n"
          ]
        },
        {
          "output_type": "stream",
          "name": "stderr",
          "text": [
            "/usr/local/lib/python3.7/dist-packages/spacy/language.py:1899: UserWarning: [W123] Argument disable with value ['ner', 'textcat', 'parser'] is used instead of ['senter'] as specified in the config. Be aware that this might affect other components in your pipeline.\n",
            "  config_value=config[\"nlp\"][key],\n"
          ]
        },
        {
          "output_type": "stream",
          "name": "stdout",
          "text": [
            "ZERO\n",
            "11570\n",
            "82009\n"
          ]
        },
        {
          "output_type": "stream",
          "name": "stderr",
          "text": [
            "/usr/local/lib/python3.7/dist-packages/spacy/language.py:1899: UserWarning: [W123] Argument disable with value ['ner', 'textcat', 'parser'] is used instead of ['senter'] as specified in the config. Be aware that this might affect other components in your pipeline.\n",
            "  config_value=config[\"nlp\"][key],\n"
          ]
        },
        {
          "output_type": "stream",
          "name": "stdout",
          "text": [
            "Running model for generation\n",
            "{'questions': [{'Question': 'What is the role of in computing?', 'Answer': 'algorithms', 'id': 1, 'context': 'Contents\\n\\tPreface\\n\\tI Foundations\\n\\t1 The Role of Algorithms in Computing\\n\\t2 Getting Started\\n\\t3 Growth of Functions\\n\\t4 Divide-and-Conquer\\n\\t5 Probabilistic Analysis and Randomized Algorithms Contents\\n\\tPreface\\n\\tI Foundations\\n\\t1 The Role of Algorithms in Computing\\n\\t2 Getting Started\\n\\t3 Growth of Functions\\n\\t4 Divide-and-Conquer\\n\\t5 Probabilistic Analysis and Randomized Algorithms'}, {'Question': 'What is the first part of the foundations of Algorithms in Computing?', 'Answer': 'preface', 'id': 2, 'context': 'Contents\\n\\tPreface\\n\\tI Foundations\\n\\t1 The Role of Algorithms in Computing\\n\\t2 Getting Started\\n\\t3 Growth of Functions\\n\\t4 Divide-and-Conquer\\n\\t5 Probabilistic Analysis and Randomized Algorithms'}, {'Question': 'Contents Preface I Foundations 1 The Role of Algorithms in what?', 'Answer': 'computing', 'id': 3, 'context': 'Contents\\n\\tPreface\\n\\tI Foundations\\n\\t1 The Role of Algorithms in Computing\\n\\t2 Getting Started\\n\\t3 Growth of Functions\\n\\t4 Divide-and-Conquer\\n\\t5 Probabilistic Analysis and Randomized Algorithms'}, {'Question': 'What is the growth of?', 'Answer': 'functions', 'id': 4, 'context': 'Contents\\n\\tPreface\\n\\tI Foundations\\n\\t1 The Role of Algorithms in Computing\\n\\t2 Getting Started\\n\\t3 Growth of Functions\\n\\t4 Divide-and-Conquer\\n\\t5 Probabilistic Analysis and Randomized Algorithms'}]}\n",
            "11574\n",
            "82039\n"
          ]
        },
        {
          "output_type": "stream",
          "name": "stderr",
          "text": [
            "/usr/local/lib/python3.7/dist-packages/spacy/language.py:1899: UserWarning: [W123] Argument disable with value ['ner', 'textcat', 'parser'] is used instead of ['senter'] as specified in the config. Be aware that this might affect other components in your pipeline.\n",
            "  config_value=config[\"nlp\"][key],\n"
          ]
        },
        {
          "output_type": "stream",
          "name": "stdout",
          "text": [
            "ZERO\n",
            "11574\n",
            "82065\n"
          ]
        },
        {
          "output_type": "stream",
          "name": "stderr",
          "text": [
            "/usr/local/lib/python3.7/dist-packages/spacy/language.py:1899: UserWarning: [W123] Argument disable with value ['ner', 'textcat', 'parser'] is used instead of ['senter'] as specified in the config. Be aware that this might affect other components in your pipeline.\n",
            "  config_value=config[\"nlp\"][key],\n"
          ]
        },
        {
          "output_type": "stream",
          "name": "stdout",
          "text": [
            "ZERO\n",
            "11574\n",
            "82088\n"
          ]
        }
      ],
      "source": [
        "from pprint import pprint\n",
        "import nltk\n",
        "import json\n",
        "nltk.download('stopwords')\n",
        "from Questgen import main\n",
        "qe= main.QGen()\n",
        "\n",
        "currenttext = \"\"\n",
        "textbook = open(\"textbook2.txt\", \"r\")\n",
        "textbook = [i for i in textbook]\n",
        "questions = [] \n",
        "for val, i in enumerate(textbook): \n",
        "  # questgen docs say blocks of 500 are best\n",
        "  if len(currenttext) < 500: \n",
        "    currenttext += i \n",
        "  else: \n",
        "    payload = {\n",
        "        \"input_text\": currenttext\n",
        "    }\n",
        "    currenttext = i\n",
        "    output = qe.predict_shortq(payload)\n",
        "    # outputfile.write(json.dumps(output))\n",
        "    if 'questions' in output: \n",
        "      questions += output['questions']\n",
        "    #print(output)\n",
        "    print(len(questions))\n",
        "    print(val)\n",
        "    outputfile = open(\"output.json\", \"w\")\n",
        "    outputfile.write(json.dumps({'questions': questions}))\n",
        "    outputfile.close()\n"
      ]
    },
    {
      "cell_type": "code",
      "source": [
        "questions = json.load('output.json')\n",
        "print(len(questions['questions']))"
      ],
      "metadata": {
        "id": "WdaIWP5eW8Sp",
        "outputId": "90aff6f2-dd8c-421a-b9aa-96c3fd041c7a",
        "colab": {
          "base_uri": "https://localhost:8080/",
          "height": 181
        }
      },
      "execution_count": null,
      "outputs": [
        {
          "output_type": "error",
          "ename": "NameError",
          "evalue": "ignored",
          "traceback": [
            "\u001b[0;31m---------------------------------------------------------------------------\u001b[0m",
            "\u001b[0;31mNameError\u001b[0m                                 Traceback (most recent call last)",
            "\u001b[0;32m<ipython-input-1-b11ef254b58b>\u001b[0m in \u001b[0;36m<module>\u001b[0;34m\u001b[0m\n\u001b[0;32m----> 1\u001b[0;31m \u001b[0mquestions\u001b[0m \u001b[0;34m=\u001b[0m \u001b[0mjson\u001b[0m\u001b[0;34m.\u001b[0m\u001b[0mload\u001b[0m\u001b[0;34m(\u001b[0m\u001b[0;34m'output.json'\u001b[0m\u001b[0;34m)\u001b[0m\u001b[0;34m\u001b[0m\u001b[0;34m\u001b[0m\u001b[0m\n\u001b[0m\u001b[1;32m      2\u001b[0m \u001b[0mprint\u001b[0m\u001b[0;34m(\u001b[0m\u001b[0mlen\u001b[0m\u001b[0;34m(\u001b[0m\u001b[0mquestions\u001b[0m\u001b[0;34m[\u001b[0m\u001b[0;34m'questions'\u001b[0m\u001b[0;34m]\u001b[0m\u001b[0;34m)\u001b[0m\u001b[0;34m)\u001b[0m\u001b[0;34m\u001b[0m\u001b[0;34m\u001b[0m\u001b[0m\n",
            "\u001b[0;31mNameError\u001b[0m: name 'json' is not defined"
          ]
        }
      ]
    }
  ],
  "metadata": {
    "colab": {
      "provenance": [],
      "collapsed_sections": []
    },
    "kernelspec": {
      "display_name": "Python 3",
      "name": "python3"
    },
    "language_info": {
      "name": "python"
    },
    "accelerator": "GPU"
  },
  "nbformat": 4,
  "nbformat_minor": 0
}